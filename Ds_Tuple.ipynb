{
 "cells": [
  {
   "cell_type": "markdown",
   "id": "40c84c95-161f-4dcf-98ff-760ed0d252f6",
   "metadata": {},
   "source": [
    "### Data Structure\n",
    "## Tuple"
   ]
  },
  {
   "cell_type": "code",
   "execution_count": 3,
   "id": "55609057-9179-4e4d-a0fa-37dea35151d9",
   "metadata": {},
   "outputs": [],
   "source": [
    "#Creating a tuple\n",
    "t=(10,20,30,40,50)"
   ]
  },
  {
   "cell_type": "code",
   "execution_count": 4,
   "id": "26187e0f-54d8-410a-b2f8-afff30775ab7",
   "metadata": {},
   "outputs": [
    {
     "data": {
      "text/plain": [
       "(10, 20, 30, 40, 50)"
      ]
     },
     "execution_count": 4,
     "metadata": {},
     "output_type": "execute_result"
    }
   ],
   "source": [
    "t"
   ]
  },
  {
   "cell_type": "code",
   "execution_count": 5,
   "id": "e0296ffd-9ed4-4ca6-a5e8-c65c76b7eb88",
   "metadata": {},
   "outputs": [
    {
     "data": {
      "text/plain": [
       "30"
      ]
     },
     "execution_count": 5,
     "metadata": {},
     "output_type": "execute_result"
    }
   ],
   "source": [
    "#Accessing tuple items\n",
    "t[2] #positive indexing "
   ]
  },
  {
   "cell_type": "code",
   "execution_count": 6,
   "id": "8183e01d-649a-46ad-9af0-f7e842641e76",
   "metadata": {},
   "outputs": [
    {
     "data": {
      "text/plain": [
       "20"
      ]
     },
     "execution_count": 6,
     "metadata": {},
     "output_type": "execute_result"
    }
   ],
   "source": [
    "t[-4] #negative indexing"
   ]
  },
  {
   "cell_type": "code",
   "execution_count": 7,
   "id": "38c958c6-d8e5-43c2-adf2-b34c9e6e1841",
   "metadata": {},
   "outputs": [
    {
     "data": {
      "text/plain": [
       "(10, 20, 30, 40)"
      ]
     },
     "execution_count": 7,
     "metadata": {},
     "output_type": "execute_result"
    }
   ],
   "source": [
    "#Slicing a tuple\n",
    "t[:4]"
   ]
  },
  {
   "cell_type": "code",
   "execution_count": 8,
   "id": "a4369560-d8e8-4275-8c43-f7c0754cdf84",
   "metadata": {},
   "outputs": [
    {
     "data": {
      "text/plain": [
       "(40, 50)"
      ]
     },
     "execution_count": 8,
     "metadata": {},
     "output_type": "execute_result"
    }
   ],
   "source": [
    "t[3:]"
   ]
  },
  {
   "cell_type": "code",
   "execution_count": 9,
   "id": "894fc655-ff6a-4b1d-a1ee-1b6e96657eda",
   "metadata": {},
   "outputs": [
    {
     "data": {
      "text/plain": [
       "(30, 50)"
      ]
     },
     "execution_count": 9,
     "metadata": {},
     "output_type": "execute_result"
    }
   ],
   "source": [
    "t[2:6:2]"
   ]
  },
  {
   "cell_type": "code",
   "execution_count": 10,
   "id": "6f0905af-2d83-4c80-9079-e6f6baeae843",
   "metadata": {},
   "outputs": [
    {
     "data": {
      "text/plain": [
       "('one', 'two', 'three', 'four', 'five')"
      ]
     },
     "execution_count": 10,
     "metadata": {},
     "output_type": "execute_result"
    }
   ],
   "source": [
    "#Looping through a tuple\n",
    "t1=(\"one\",\"two\",\"three\",\"four\",\"five\")\n",
    "t1"
   ]
  },
  {
   "cell_type": "code",
   "execution_count": 11,
   "id": "74302b06-2538-4592-a507-d4e5c93f6b79",
   "metadata": {},
   "outputs": [
    {
     "name": "stdout",
     "output_type": "stream",
     "text": [
      "one\n",
      "two\n",
      "three\n",
      "four\n",
      "five\n"
     ]
    }
   ],
   "source": [
    "#using for-loop\n",
    "for i in t1:\n",
    "    print(i)"
   ]
  },
  {
   "cell_type": "code",
   "execution_count": 12,
   "id": "f1a90b5f-b6c0-46ff-9a74-72b962f94ff9",
   "metadata": {},
   "outputs": [
    {
     "name": "stdout",
     "output_type": "stream",
     "text": [
      "one\n",
      "two\n",
      "three\n",
      "four\n",
      "five\n"
     ]
    }
   ],
   "source": [
    "i=0\n",
    "while i<len(t1):\n",
    "    print(t1[i])\n",
    "    i+=1"
   ]
  },
  {
   "cell_type": "code",
   "execution_count": 13,
   "id": "fb937b1a-0d8a-44a2-b222-cc3b012e5a3f",
   "metadata": {},
   "outputs": [
    {
     "data": {
      "text/plain": [
       "1"
      ]
     },
     "execution_count": 13,
     "metadata": {},
     "output_type": "execute_result"
    }
   ],
   "source": [
    "#Tuple methods\n",
    "t1.index(\"two\") #Return first index of value."
   ]
  },
  {
   "cell_type": "code",
   "execution_count": 14,
   "id": "62d648db-c682-48d4-9f6c-d2cc6176080c",
   "metadata": {},
   "outputs": [
    {
     "data": {
      "text/plain": [
       "1"
      ]
     },
     "execution_count": 14,
     "metadata": {},
     "output_type": "execute_result"
    }
   ],
   "source": [
    "t1.count(\"four\") #Return number of occurrences of value."
   ]
  },
  {
   "cell_type": "code",
   "execution_count": 15,
   "id": "007a0dca-c9a8-44dc-9b1d-e5e0a0e4f7fd",
   "metadata": {},
   "outputs": [
    {
     "ename": "AttributeError",
     "evalue": "'tuple' object has no attribute 'append'",
     "output_type": "error",
     "traceback": [
      "\u001b[1;31m---------------------------------------------------------------------------\u001b[0m",
      "\u001b[1;31mAttributeError\u001b[0m                            Traceback (most recent call last)",
      "Cell \u001b[1;32mIn[15], line 2\u001b[0m\n\u001b[0;32m      1\u001b[0m \u001b[38;5;66;03m#Immutability of tuples\u001b[39;00m\n\u001b[1;32m----> 2\u001b[0m \u001b[43mt1\u001b[49m\u001b[38;5;241;43m.\u001b[39;49m\u001b[43mappend\u001b[49m(\u001b[38;5;241m10\u001b[39m)\n",
      "\u001b[1;31mAttributeError\u001b[0m: 'tuple' object has no attribute 'append'"
     ]
    }
   ],
   "source": [
    "#Immutability of tuples\n",
    "t1.append(10)"
   ]
  },
  {
   "cell_type": "code",
   "execution_count": 16,
   "id": "91d03ec3-0d2a-49f8-9b52-f1a3d90ee69d",
   "metadata": {},
   "outputs": [
    {
     "ename": "AttributeError",
     "evalue": "'tuple' object has no attribute 'remove'",
     "output_type": "error",
     "traceback": [
      "\u001b[1;31m---------------------------------------------------------------------------\u001b[0m",
      "\u001b[1;31mAttributeError\u001b[0m                            Traceback (most recent call last)",
      "Cell \u001b[1;32mIn[16], line 1\u001b[0m\n\u001b[1;32m----> 1\u001b[0m \u001b[43mt1\u001b[49m\u001b[38;5;241;43m.\u001b[39;49m\u001b[43mremove\u001b[49m()\n",
      "\u001b[1;31mAttributeError\u001b[0m: 'tuple' object has no attribute 'remove'"
     ]
    }
   ],
   "source": [
    "t1.remove()"
   ]
  },
  {
   "cell_type": "code",
   "execution_count": 17,
   "id": "023bc53e-364f-41dc-90f2-4e3d279b16c5",
   "metadata": {},
   "outputs": [
    {
     "data": {
      "text/plain": [
       "((1, 2), (3, 4), 5, 6)"
      ]
     },
     "execution_count": 17,
     "metadata": {},
     "output_type": "execute_result"
    }
   ],
   "source": [
    "#Nested tuples\n",
    "t2=((1,2),(3,4),(5),6)\n",
    "t2"
   ]
  },
  {
   "cell_type": "code",
   "execution_count": 18,
   "id": "aacdc67b-6815-4fba-bbcd-7174b98d2ac4",
   "metadata": {},
   "outputs": [
    {
     "data": {
      "text/plain": [
       "3"
      ]
     },
     "execution_count": 18,
     "metadata": {},
     "output_type": "execute_result"
    }
   ],
   "source": [
    "t2[1][0]"
   ]
  },
  {
   "cell_type": "code",
   "execution_count": 19,
   "id": "ba9a252e-1450-4a0d-9b09-2aea812ed7da",
   "metadata": {},
   "outputs": [
    {
     "data": {
      "text/plain": [
       "2"
      ]
     },
     "execution_count": 19,
     "metadata": {},
     "output_type": "execute_result"
    }
   ],
   "source": [
    "t2[0][1]"
   ]
  },
  {
   "cell_type": "code",
   "execution_count": 20,
   "id": "7fb0ef54-2002-4398-9742-c70e9f1d1793",
   "metadata": {},
   "outputs": [
    {
     "data": {
      "text/plain": [
       "('alex', 'andrew', 'john')"
      ]
     },
     "execution_count": 20,
     "metadata": {},
     "output_type": "execute_result"
    }
   ],
   "source": [
    "#Tuples with different data types\n",
    "t3=(\"alex\",\"andrew\",\"john\") #string\n",
    "t3"
   ]
  },
  {
   "cell_type": "code",
   "execution_count": 21,
   "id": "d8b43502-bb0b-4250-856c-6b9953d94958",
   "metadata": {},
   "outputs": [
    {
     "data": {
      "text/plain": [
       "(1, 2, 3, 4)"
      ]
     },
     "execution_count": 21,
     "metadata": {},
     "output_type": "execute_result"
    }
   ],
   "source": [
    "t4=(1,2,3,4) #integer\n",
    "t4"
   ]
  },
  {
   "cell_type": "code",
   "execution_count": 22,
   "id": "ac411a23-23c5-4466-ac17-a0d2dbaebc80",
   "metadata": {},
   "outputs": [
    {
     "data": {
      "text/plain": [
       "(1.2, 3.2, 4.5)"
      ]
     },
     "execution_count": 22,
     "metadata": {},
     "output_type": "execute_result"
    }
   ],
   "source": [
    "t5=(1.2,3.2,4.5) #float\n",
    "t5"
   ]
  },
  {
   "cell_type": "code",
   "execution_count": 23,
   "id": "4bd128d9-b25f-4721-be8d-93375ba62b13",
   "metadata": {},
   "outputs": [
    {
     "data": {
      "text/plain": [
       "('ayush', 1, 5.1, True)"
      ]
     },
     "execution_count": 23,
     "metadata": {},
     "output_type": "execute_result"
    }
   ],
   "source": [
    "t6=(\"ayush\", 1,5.1, True) #mix data type\n",
    "t6"
   ]
  },
  {
   "cell_type": "code",
   "execution_count": 24,
   "id": "cc5dad90-7e80-462c-bb2e-4fda7f4b8e4d",
   "metadata": {},
   "outputs": [
    {
     "data": {
      "text/plain": [
       "(1, 2, [3, 4])"
      ]
     },
     "execution_count": 24,
     "metadata": {},
     "output_type": "execute_result"
    }
   ],
   "source": [
    "t7=(1,2,[3,4]) #list inside the tuple\n",
    "t7"
   ]
  },
  {
   "cell_type": "code",
   "execution_count": 25,
   "id": "45d0dec8-3f30-41ef-b3cb-b1c6e5625baa",
   "metadata": {},
   "outputs": [
    {
     "data": {
      "text/plain": [
       "(10, 20, 30, 40, 50)"
      ]
     },
     "execution_count": 25,
     "metadata": {},
     "output_type": "execute_result"
    }
   ],
   "source": [
    "t"
   ]
  },
  {
   "cell_type": "code",
   "execution_count": 26,
   "id": "8134b3a7-cead-4915-bd82-463717b674b0",
   "metadata": {},
   "outputs": [
    {
     "name": "stdout",
     "output_type": "stream",
     "text": [
      "yes\n"
     ]
    }
   ],
   "source": [
    "#Using tuples in if conditions\n",
    "if 10 in t:\n",
    "    print(\"yes\")\n",
    "else:\n",
    "    print(\"no\")"
   ]
  },
  {
   "cell_type": "code",
   "execution_count": 27,
   "id": "0b4b2911-a5c1-48e3-9be2-adae24083eb9",
   "metadata": {},
   "outputs": [
    {
     "name": "stdout",
     "output_type": "stream",
     "text": [
      "no\n"
     ]
    }
   ],
   "source": [
    "if 1 in t:\n",
    "    print(\"yes\")\n",
    "else:\n",
    "    print(\"no\")"
   ]
  },
  {
   "cell_type": "code",
   "execution_count": 28,
   "id": "dec9eceb-0bc2-4571-8f73-5f4728eb548d",
   "metadata": {},
   "outputs": [
    {
     "data": {
      "text/plain": [
       "(1, 2, 3, 4)"
      ]
     },
     "execution_count": 28,
     "metadata": {},
     "output_type": "execute_result"
    }
   ],
   "source": [
    "#Converting between list and tuple\n",
    "l=[1,2,3,4] \n",
    "my_tuple=tuple(l) #converting tuple into list\n",
    "my_tuple"
   ]
  },
  {
   "cell_type": "code",
   "execution_count": 29,
   "id": "270251cc-d4de-427a-bd88-520bec33678e",
   "metadata": {},
   "outputs": [
    {
     "data": {
      "text/plain": [
       "(10, 20, 30, 40, 50)"
      ]
     },
     "execution_count": 29,
     "metadata": {},
     "output_type": "execute_result"
    }
   ],
   "source": [
    "t"
   ]
  },
  {
   "cell_type": "code",
   "execution_count": 30,
   "id": "004ffdef-6e35-417e-8bae-f0669f06bf57",
   "metadata": {},
   "outputs": [
    {
     "data": {
      "text/plain": [
       "[10, 20, 30, 40, 50]"
      ]
     },
     "execution_count": 30,
     "metadata": {},
     "output_type": "execute_result"
    }
   ],
   "source": [
    "my_list = list(t) #converting list into tuple\n",
    "my_list\n"
   ]
  },
  {
   "cell_type": "code",
   "execution_count": null,
   "id": "9143439f-77ed-473a-8cf9-b5c36f1c904a",
   "metadata": {},
   "outputs": [],
   "source": [
    "# 📌 12. When to use tuples over lists\n",
    "# ✅ Use tuples when:\n",
    "# - Your data should not change (immutability)\n",
    "# - You want to ensure the data is read-only\n",
    "# - You need faster performance (tuples are slightly faster than lists)\n",
    "# - You are returning multiple values from a function\n",
    "# - You want to use the data as a dictionary key (tuples are hashable, lists are not)\n"
   ]
  }
 ],
 "metadata": {
  "kernelspec": {
   "display_name": "Python 3 (ipykernel)",
   "language": "python",
   "name": "python3"
  },
  "language_info": {
   "codemirror_mode": {
    "name": "ipython",
    "version": 3
   },
   "file_extension": ".py",
   "mimetype": "text/x-python",
   "name": "python",
   "nbconvert_exporter": "python",
   "pygments_lexer": "ipython3",
   "version": "3.12.4"
  }
 },
 "nbformat": 4,
 "nbformat_minor": 5
}
