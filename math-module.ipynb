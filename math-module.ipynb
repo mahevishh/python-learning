{
 "cells": [
  {
   "cell_type": "markdown",
   "id": "1cd24b77-5315-4c26-be2e-25366c734667",
   "metadata": {},
   "source": [
    "## Python Modules"
   ]
  },
  {
   "cell_type": "markdown",
   "id": "9e2e6e41-9e8d-4959-8659-208545c3d086",
   "metadata": {},
   "source": [
    "### Modules"
   ]
  },
  {
   "cell_type": "markdown",
   "id": "3b6d6805-db03-4750-a09c-0df53064a837",
   "metadata": {},
   "source": [
    "###### The math module provides access to mathematical functions like square roots, powers, trigonometry, etc."
   ]
  },
  {
   "cell_type": "markdown",
   "id": "7ad5cb5a-651f-4731-abad-e1178e72b131",
   "metadata": {},
   "source": [
    "####   Import the math module"
   ]
  },
  {
   "cell_type": "code",
   "execution_count": 4,
   "id": "5d84a04b-e761-4a37-b8fc-8c4f1f140f13",
   "metadata": {},
   "outputs": [],
   "source": [
    "import math # Use 'import math' to get access to all its functions."
   ]
  },
  {
   "cell_type": "markdown",
   "id": "a9fb9e74-819f-42e9-81b5-69678d40a826",
   "metadata": {},
   "source": [
    "#### basic constants"
   ]
  },
  {
   "cell_type": "code",
   "execution_count": 5,
   "id": "9b737ae0-aead-4898-87ab-ad6a99214fe1",
   "metadata": {},
   "outputs": [
    {
     "data": {
      "text/plain": [
       "3.141592653589793"
      ]
     },
     "execution_count": 5,
     "metadata": {},
     "output_type": "execute_result"
    }
   ],
   "source": [
    "math.pi"
   ]
  },
  {
   "cell_type": "code",
   "execution_count": 6,
   "id": "16fc1796-0fe4-41c6-b4fd-7627abe34b59",
   "metadata": {},
   "outputs": [
    {
     "data": {
      "text/plain": [
       "2.718281828459045"
      ]
     },
     "execution_count": 6,
     "metadata": {},
     "output_type": "execute_result"
    }
   ],
   "source": [
    "math.e"
   ]
  },
  {
   "cell_type": "code",
   "execution_count": 7,
   "id": "f2ee218d-1af1-40ee-92b9-5b042dc586ba",
   "metadata": {},
   "outputs": [
    {
     "data": {
      "text/plain": [
       "5.0"
      ]
     },
     "execution_count": 7,
     "metadata": {},
     "output_type": "execute_result"
    }
   ],
   "source": [
    "math.sqrt(25) #Return the square root of x."
   ]
  },
  {
   "cell_type": "code",
   "execution_count": 25,
   "id": "244daf42-c972-4456-a5e7-b7e90ac2328c",
   "metadata": {},
   "outputs": [
    {
     "data": {
      "text/plain": [
       "9.0"
      ]
     },
     "execution_count": 25,
     "metadata": {},
     "output_type": "execute_result"
    }
   ],
   "source": [
    "math.pow(3,2) #Return x**y (x to the power of y)"
   ]
  },
  {
   "cell_type": "code",
   "execution_count": 9,
   "id": "5baf7827-35ae-4c97-a54f-b11e13265bf8",
   "metadata": {},
   "outputs": [
    {
     "name": "stdout",
     "output_type": "stream",
     "text": [
      "2\n"
     ]
    }
   ],
   "source": [
    "print(math.floor(2.3)) #rounds x up to the nearest integer"
   ]
  },
  {
   "cell_type": "code",
   "execution_count": 26,
   "id": "1102dc3b-8d4b-4474-b9bc-a075dffb36fb",
   "metadata": {},
   "outputs": [
    {
     "name": "stdout",
     "output_type": "stream",
     "text": [
      "4\n"
     ]
    }
   ],
   "source": [
    "print(math.ceil(3.4)) #rounds x down to the nearest integer"
   ]
  },
  {
   "cell_type": "code",
   "execution_count": 14,
   "id": "5b41ea89-1ecc-446f-9136-d5c108881b27",
   "metadata": {},
   "outputs": [
    {
     "data": {
      "text/plain": [
       "10.35"
      ]
     },
     "execution_count": 14,
     "metadata": {},
     "output_type": "execute_result"
    }
   ],
   "source": [
    "math.fabs(10.35) #Return the absolute value of the float x."
   ]
  },
  {
   "cell_type": "code",
   "execution_count": 19,
   "id": "82c53139-b62a-408d-86e8-1b25c96cf4dc",
   "metadata": {},
   "outputs": [
    {
     "data": {
      "text/plain": [
       "120"
      ]
     },
     "execution_count": 19,
     "metadata": {},
     "output_type": "execute_result"
    }
   ],
   "source": [
    "math.factorial(5) #Raise a ValueError if x is negative or non-integral."
   ]
  },
  {
   "cell_type": "code",
   "execution_count": 24,
   "id": "2ca71de3-4d91-4ea1-85a4-3073cbcabad3",
   "metadata": {},
   "outputs": [
    {
     "data": {
      "text/plain": [
       "2"
      ]
     },
     "execution_count": 24,
     "metadata": {},
     "output_type": "execute_result"
    }
   ],
   "source": [
    "math.gcd(10, 8) # Greatest Common Divisor."
   ]
  },
  {
   "cell_type": "markdown",
   "id": "dd1323dd-b2cc-446a-861f-e00197cea15b",
   "metadata": {},
   "source": [
    "#### trigonometric functions"
   ]
  },
  {
   "cell_type": "code",
   "execution_count": 27,
   "id": "e06e5990-48c7-4374-82df-cca915e9d227",
   "metadata": {},
   "outputs": [],
   "source": [
    "import math"
   ]
  },
  {
   "cell_type": "code",
   "execution_count": 33,
   "id": "17495169-963c-46ac-abb1-0e56920fe44a",
   "metadata": {},
   "outputs": [
    {
     "data": {
      "text/plain": [
       "-0.8645514486106083"
      ]
     },
     "execution_count": 33,
     "metadata": {},
     "output_type": "execute_result"
    }
   ],
   "source": [
    "math.sin(111) #Return the sine of x (measured in radians)"
   ]
  },
  {
   "cell_type": "code",
   "execution_count": 34,
   "id": "c867e337-f154-4809-a8b7-014140a83c34",
   "metadata": {},
   "outputs": [
    {
     "data": {
      "text/plain": [
       "-0.04866360920015389"
      ]
     },
     "execution_count": 34,
     "metadata": {},
     "output_type": "execute_result"
    }
   ],
   "source": [
    "math.cos(121) #Return the cosine of x (measured in radians)"
   ]
  },
  {
   "cell_type": "code",
   "execution_count": 35,
   "id": "b9c84649-02b5-4dfd-80d8-04d5e5d412a4",
   "metadata": {},
   "outputs": [
    {
     "data": {
      "text/plain": [
       "-1.3892350874685138"
      ]
     },
     "execution_count": 35,
     "metadata": {},
     "output_type": "execute_result"
    }
   ],
   "source": [
    "math.tan(131) #Return the tangent of x (measured in radians)"
   ]
  },
  {
   "cell_type": "code",
   "execution_count": 36,
   "id": "b7d3683d-cbe5-4ce9-9a1c-91e5f3a430c4",
   "metadata": {},
   "outputs": [],
   "source": [
    "import math as m #we can also decleare as m to avoid importing and writing whole \"math\" again and again"
   ]
  },
  {
   "cell_type": "code",
   "execution_count": 37,
   "id": "cca9f526-4054-46ed-8b24-02daa9a9d489",
   "metadata": {},
   "outputs": [
    {
     "data": {
      "text/plain": [
       "7.0710678118654755"
      ]
     },
     "execution_count": 37,
     "metadata": {},
     "output_type": "execute_result"
    }
   ],
   "source": [
    "m.sqrt(50)"
   ]
  },
  {
   "cell_type": "code",
   "execution_count": 38,
   "id": "34730567-4ba7-40d9-9d66-82128e4ec9bf",
   "metadata": {},
   "outputs": [
    {
     "data": {
      "text/plain": [
       "243.0"
      ]
     },
     "execution_count": 38,
     "metadata": {},
     "output_type": "execute_result"
    }
   ],
   "source": [
    "m.pow(3,5)"
   ]
  },
  {
   "cell_type": "code",
   "execution_count": 40,
   "id": "61a31c14-c437-4f08-a8c1-6406eb42d494",
   "metadata": {},
   "outputs": [
    {
     "name": "stdout",
     "output_type": "stream",
     "text": [
      "16.0\n",
      "2.0\n"
     ]
    }
   ],
   "source": [
    "from math import sqrt, pow # math has many function if you want to call specific function then you use from \n",
    "print(pow(4,2))\n",
    "print(sqrt(4))"
   ]
  },
  {
   "cell_type": "code",
   "execution_count": null,
   "id": "9694bc0f-2a52-45c3-af99-84e6ff3b159d",
   "metadata": {},
   "outputs": [],
   "source": [
    "from math import * #*- help import all the function"
   ]
  }
 ],
 "metadata": {
  "kernelspec": {
   "display_name": "Python 3 (ipykernel)",
   "language": "python",
   "name": "python3"
  },
  "language_info": {
   "codemirror_mode": {
    "name": "ipython",
    "version": 3
   },
   "file_extension": ".py",
   "mimetype": "text/x-python",
   "name": "python",
   "nbconvert_exporter": "python",
   "pygments_lexer": "ipython3",
   "version": "3.12.4"
  }
 },
 "nbformat": 4,
 "nbformat_minor": 5
}
