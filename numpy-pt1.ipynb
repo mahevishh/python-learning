{
 "cells": [
  {
   "cell_type": "markdown",
   "id": "7b0e64e3-46a2-4c26-8957-9a49e4273387",
   "metadata": {},
   "source": [
    "# NUMPY"
   ]
  },
  {
   "cell_type": "code",
   "execution_count": 224,
   "id": "b6f8beee-42b3-4aec-b9f1-d083e3e19a43",
   "metadata": {},
   "outputs": [],
   "source": [
    "import numpy as np # Import the NumPy library. Use the alias 'np' which is a common convention."
   ]
  },
  {
   "cell_type": "code",
   "execution_count": 225,
   "id": "34d1f9af-1717-4970-a543-05caee94f196",
   "metadata": {},
   "outputs": [
    {
     "data": {
      "text/plain": [
       "'1.26.4'"
      ]
     },
     "execution_count": 225,
     "metadata": {},
     "output_type": "execute_result"
    }
   ],
   "source": [
    "np.__version__ # Check NumPy version using __version__ attribute."
   ]
  },
  {
   "cell_type": "code",
   "execution_count": 226,
   "id": "f66f38cd-fa2c-4e09-80ba-b9a522e84f1c",
   "metadata": {},
   "outputs": [],
   "source": [
    "import sys #importing system"
   ]
  },
  {
   "cell_type": "code",
   "execution_count": 227,
   "id": "0a0152cd-4164-42c0-b743-7c593a99f484",
   "metadata": {},
   "outputs": [
    {
     "data": {
      "text/plain": [
       "'3.12.4 (tags/v3.12.4:8e8a4ba, Jun  6 2024, 19:30:16) [MSC v.1940 64 bit (AMD64)]'"
      ]
     },
     "execution_count": 227,
     "metadata": {},
     "output_type": "execute_result"
    }
   ],
   "source": [
    "sys.version #checking sys version"
   ]
  },
  {
   "cell_type": "code",
   "execution_count": 228,
   "id": "c431b335-4259-46f1-8302-b18d8a46e11c",
   "metadata": {},
   "outputs": [
    {
     "data": {
      "text/plain": [
       "[10, 20, 30, 40]"
      ]
     },
     "execution_count": 228,
     "metadata": {},
     "output_type": "execute_result"
    }
   ],
   "source": [
    "l=[10,20,30,40] #creating a list\n",
    "l\n",
    "   "
   ]
  },
  {
   "cell_type": "code",
   "execution_count": 229,
   "id": "2c325f28-7b9d-43e8-a69d-3380efbd69d3",
   "metadata": {},
   "outputs": [
    {
     "data": {
      "text/plain": [
       "list"
      ]
     },
     "execution_count": 229,
     "metadata": {},
     "output_type": "execute_result"
    }
   ],
   "source": [
    "type(l)"
   ]
  },
  {
   "cell_type": "code",
   "execution_count": 230,
   "id": "67dc6649-2cf4-4caa-8464-ef2933400758",
   "metadata": {},
   "outputs": [],
   "source": [
    "arr=np.array(l) #creating list into NumPy Arrays"
   ]
  },
  {
   "cell_type": "code",
   "execution_count": 231,
   "id": "21522548-c752-4be2-af3f-8dc5a957650f",
   "metadata": {},
   "outputs": [
    {
     "data": {
      "text/plain": [
       "array([10, 20, 30, 40])"
      ]
     },
     "execution_count": 231,
     "metadata": {},
     "output_type": "execute_result"
    }
   ],
   "source": [
    "arr"
   ]
  },
  {
   "cell_type": "code",
   "execution_count": 232,
   "id": "b14b42f0-c3d3-4082-9b3a-3867aa8db9bb",
   "metadata": {},
   "outputs": [
    {
     "data": {
      "text/plain": [
       "numpy.ndarray"
      ]
     },
     "execution_count": 232,
     "metadata": {},
     "output_type": "execute_result"
    }
   ],
   "source": [
    "type(arr)"
   ]
  },
  {
   "cell_type": "code",
   "execution_count": 233,
   "id": "57c2eac0-83d6-42ed-8dda-ece2a801f8e4",
   "metadata": {},
   "outputs": [
    {
     "data": {
      "text/plain": [
       "array([0, 1, 2, 3, 4, 5, 6, 7, 8, 9])"
      ]
     },
     "execution_count": 233,
     "metadata": {},
     "output_type": "execute_result"
    }
   ],
   "source": [
    "np.arange(10) # Create a range of numbers using np.arange().\n"
   ]
  },
  {
   "cell_type": "code",
   "execution_count": 138,
   "id": "3bbe21a0-4720-49e5-a199-48d7adefc8d9",
   "metadata": {},
   "outputs": [
    {
     "data": {
      "text/plain": [
       "array([10, 11, 12, 13, 14, 15, 16, 17, 18, 19])"
      ]
     },
     "execution_count": 138,
     "metadata": {},
     "output_type": "execute_result"
    }
   ],
   "source": [
    "np.arange(10,20)"
   ]
  },
  {
   "cell_type": "code",
   "execution_count": 139,
   "id": "400d8d7b-d163-4e3f-8771-4b2294056b87",
   "metadata": {},
   "outputs": [
    {
     "data": {
      "text/plain": [
       "array([10, 13, 16, 19])"
      ]
     },
     "execution_count": 139,
     "metadata": {},
     "output_type": "execute_result"
    }
   ],
   "source": [
    "np.arange(10,20,3)"
   ]
  },
  {
   "cell_type": "code",
   "execution_count": 140,
   "id": "de11d1f7-80a4-4fb6-9aa3-18bd725e7c93",
   "metadata": {},
   "outputs": [
    {
     "data": {
      "text/plain": [
       "array([10, 13, 16, 19, 22, 25, 28])"
      ]
     },
     "execution_count": 140,
     "metadata": {},
     "output_type": "execute_result"
    }
   ],
   "source": [
    "np.arange(10,30,3)"
   ]
  },
  {
   "cell_type": "code",
   "execution_count": 141,
   "id": "46770a98-aec5-442e-a2e8-645b3833657a",
   "metadata": {},
   "outputs": [
    {
     "data": {
      "text/plain": [
       "array([], dtype=int32)"
      ]
     },
     "execution_count": 141,
     "metadata": {},
     "output_type": "execute_result"
    }
   ],
   "source": [
    "np.arange(20,8)"
   ]
  },
  {
   "cell_type": "code",
   "execution_count": 142,
   "id": "1dd5678b-6a82-427f-8403-29f1f92459fa",
   "metadata": {},
   "outputs": [
    {
     "data": {
      "text/plain": [
       "array([-20, -19, -18, -17, -16, -15, -14, -13, -12, -11, -10,  -9,  -8,\n",
       "        -7,  -6,  -5,  -4,  -3,  -2,  -1,   0,   1,   2,   3,   4,   5,\n",
       "         6])"
      ]
     },
     "execution_count": 142,
     "metadata": {},
     "output_type": "execute_result"
    }
   ],
   "source": [
    "np.arange(-20,7)"
   ]
  },
  {
   "cell_type": "code",
   "execution_count": 143,
   "id": "c30d50e1-c637-4a70-aac4-b640a96df6d2",
   "metadata": {},
   "outputs": [
    {
     "data": {
      "text/plain": [
       "array([-20, -19, -18, -17, -16, -15, -14, -13, -12, -11])"
      ]
     },
     "execution_count": 143,
     "metadata": {},
     "output_type": "execute_result"
    }
   ],
   "source": [
    "np.arange(-20,-10)"
   ]
  },
  {
   "cell_type": "code",
   "execution_count": 234,
   "id": "19338eee-1186-42a9-b45b-09f19a5454c3",
   "metadata": {},
   "outputs": [
    {
     "data": {
      "text/plain": [
       "array([0., 0., 0.])"
      ]
     },
     "execution_count": 234,
     "metadata": {},
     "output_type": "execute_result"
    }
   ],
   "source": [
    "np.zeros(3) #Return a new array of given shape and type, filled with zeros."
   ]
  },
  {
   "cell_type": "code",
   "execution_count": 145,
   "id": "f80c7e74-8171-4ac9-9011-a7b94a9cc4a8",
   "metadata": {},
   "outputs": [
    {
     "data": {
      "text/plain": [
       "array([0, 0, 0])"
      ]
     },
     "execution_count": 145,
     "metadata": {},
     "output_type": "execute_result"
    }
   ],
   "source": [
    "np.zeros(3,dtype=int)  #dtype : data-type, optional\n",
    "    #The desired data-type for the array, e.g., `numpy.int8`.  Default is`numpy.float64`."
   ]
  },
  {
   "cell_type": "code",
   "execution_count": 146,
   "id": "23e14f96-e605-4d47-9bc5-de5e3ed0fab6",
   "metadata": {},
   "outputs": [
    {
     "data": {
      "text/plain": [
       "array([0., 0., 0., 0., 0.])"
      ]
     },
     "execution_count": 146,
     "metadata": {},
     "output_type": "execute_result"
    }
   ],
   "source": [
    "np.zeros(5)"
   ]
  },
  {
   "cell_type": "code",
   "execution_count": 235,
   "id": "266b104a-4ec6-49f7-8bba-0ca3b57f7215",
   "metadata": {},
   "outputs": [
    {
     "data": {
      "text/plain": [
       "array([[0., 0.],\n",
       "       [0., 0.]])"
      ]
     },
     "execution_count": 235,
     "metadata": {},
     "output_type": "execute_result"
    }
   ],
   "source": [
    "np.zeros((2,2)) #(2,2)-rows and columns"
   ]
  },
  {
   "cell_type": "code",
   "execution_count": 236,
   "id": "8c7d23cd-dd55-440e-ab6a-a21c62376927",
   "metadata": {},
   "outputs": [
    {
     "data": {
      "text/plain": [
       "array([[0., 0., 0., 0., 0., 0., 0., 0., 0., 0.],\n",
       "       [0., 0., 0., 0., 0., 0., 0., 0., 0., 0.],\n",
       "       [0., 0., 0., 0., 0., 0., 0., 0., 0., 0.],\n",
       "       [0., 0., 0., 0., 0., 0., 0., 0., 0., 0.],\n",
       "       [0., 0., 0., 0., 0., 0., 0., 0., 0., 0.],\n",
       "       [0., 0., 0., 0., 0., 0., 0., 0., 0., 0.],\n",
       "       [0., 0., 0., 0., 0., 0., 0., 0., 0., 0.],\n",
       "       [0., 0., 0., 0., 0., 0., 0., 0., 0., 0.],\n",
       "       [0., 0., 0., 0., 0., 0., 0., 0., 0., 0.],\n",
       "       [0., 0., 0., 0., 0., 0., 0., 0., 0., 0.]])"
      ]
     },
     "execution_count": 236,
     "metadata": {},
     "output_type": "execute_result"
    }
   ],
   "source": [
    "np.zeros((10,10))"
   ]
  },
  {
   "cell_type": "code",
   "execution_count": 149,
   "id": "0f100591-c0b1-4dbc-b2c9-b00c1bd5cbbd",
   "metadata": {},
   "outputs": [
    {
     "data": {
      "text/plain": [
       "array([[0, 0],\n",
       "       [0, 0]])"
      ]
     },
     "execution_count": 149,
     "metadata": {},
     "output_type": "execute_result"
    }
   ],
   "source": [
    "np.zeros((2,2), dtype=int)"
   ]
  },
  {
   "cell_type": "code",
   "execution_count": 150,
   "id": "dd1cf253-0c44-4640-ae19-e8a183b10073",
   "metadata": {},
   "outputs": [
    {
     "data": {
      "text/plain": [
       "array([[0., 0., 0.],\n",
       "       [0., 0., 0.],\n",
       "       [0., 0., 0.],\n",
       "       [0., 0., 0.],\n",
       "       [0., 0., 0.],\n",
       "       [0., 0., 0.],\n",
       "       [0., 0., 0.],\n",
       "       [0., 0., 0.],\n",
       "       [0., 0., 0.],\n",
       "       [0., 0., 0.]])"
      ]
     },
     "execution_count": 150,
     "metadata": {},
     "output_type": "execute_result"
    }
   ],
   "source": [
    "n=np.zeros((10,3))\n",
    "n"
   ]
  },
  {
   "cell_type": "code",
   "execution_count": 151,
   "id": "2e66a91f-90f3-42e5-827e-96b5d4a8ee69",
   "metadata": {},
   "outputs": [
    {
     "data": {
      "text/plain": [
       "10"
      ]
     },
     "execution_count": 151,
     "metadata": {},
     "output_type": "execute_result"
    }
   ],
   "source": [
    "len(n)"
   ]
  },
  {
   "cell_type": "code",
   "execution_count": 237,
   "id": "180ed405-684e-4792-a92c-15068ffe3910",
   "metadata": {},
   "outputs": [
    {
     "data": {
      "text/plain": [
       "array([1, 1, 1])"
      ]
     },
     "execution_count": 237,
     "metadata": {},
     "output_type": "execute_result"
    }
   ],
   "source": [
    "n1 = np.ones(3 , dtype=int) #Return a new array of given shape and type, filled with ones.\n",
    "n1"
   ]
  },
  {
   "cell_type": "code",
   "execution_count": 238,
   "id": "285e4ec9-7f3d-4083-8e42-a8cb0be2c6d1",
   "metadata": {},
   "outputs": [
    {
     "data": {
      "text/plain": [
       "array([[1, 1, 1, 1, 1, 1, 1, 1, 1, 1],\n",
       "       [1, 1, 1, 1, 1, 1, 1, 1, 1, 1],\n",
       "       [1, 1, 1, 1, 1, 1, 1, 1, 1, 1],\n",
       "       [1, 1, 1, 1, 1, 1, 1, 1, 1, 1],\n",
       "       [1, 1, 1, 1, 1, 1, 1, 1, 1, 1],\n",
       "       [1, 1, 1, 1, 1, 1, 1, 1, 1, 1],\n",
       "       [1, 1, 1, 1, 1, 1, 1, 1, 1, 1],\n",
       "       [1, 1, 1, 1, 1, 1, 1, 1, 1, 1],\n",
       "       [1, 1, 1, 1, 1, 1, 1, 1, 1, 1],\n",
       "       [1, 1, 1, 1, 1, 1, 1, 1, 1, 1]])"
      ]
     },
     "execution_count": 238,
     "metadata": {},
     "output_type": "execute_result"
    }
   ],
   "source": [
    "np.ones((10,10), dtype=int)"
   ]
  },
  {
   "cell_type": "code",
   "execution_count": 154,
   "id": "fa848d8f-0e94-4b4e-bc03-3db1e52a584d",
   "metadata": {},
   "outputs": [
    {
     "data": {
      "text/plain": [
       "2.237160944224742"
      ]
     },
     "execution_count": 154,
     "metadata": {},
     "output_type": "execute_result"
    }
   ],
   "source": [
    "np.tan(20) "
   ]
  },
  {
   "cell_type": "code",
   "execution_count": 155,
   "id": "4e1897ed-205d-4410-a6cf-8e8233ba2a80",
   "metadata": {},
   "outputs": [
    {
     "data": {
      "text/plain": [
       "array([10, 20, 30, 40])"
      ]
     },
     "execution_count": 155,
     "metadata": {},
     "output_type": "execute_result"
    }
   ],
   "source": [
    "arr"
   ]
  },
  {
   "cell_type": "code",
   "execution_count": 156,
   "id": "85c76867-d06f-4db2-a6da-a72df6fd2438",
   "metadata": {},
   "outputs": [
    {
     "data": {
      "text/plain": [
       "numpy.ndarray"
      ]
     },
     "execution_count": 156,
     "metadata": {},
     "output_type": "execute_result"
    }
   ],
   "source": [
    "type(arr)"
   ]
  },
  {
   "cell_type": "markdown",
   "id": "d4f22adb-8d16-4af8-9362-723330bd303d",
   "metadata": {},
   "source": [
    "# Random Numbers with NumPy"
   ]
  },
  {
   "cell_type": "code",
   "execution_count": 239,
   "id": "ef994dd8-ef07-4230-a8d7-bedfc76ae1c4",
   "metadata": {},
   "outputs": [
    {
     "ename": "NameError",
     "evalue": "name 'rand' is not defined",
     "output_type": "error",
     "traceback": [
      "\u001b[1;31m---------------------------------------------------------------------------\u001b[0m",
      "\u001b[1;31mNameError\u001b[0m                                 Traceback (most recent call last)",
      "Cell \u001b[1;32mIn[239], line 1\u001b[0m\n\u001b[1;32m----> 1\u001b[0m \u001b[43mrand\u001b[49m(\u001b[38;5;241m3\u001b[39m,\u001b[38;5;241m2\u001b[39m)\n",
      "\u001b[1;31mNameError\u001b[0m: name 'rand' is not defined"
     ]
    }
   ],
   "source": [
    "rand(3,2)"
   ]
  },
  {
   "cell_type": "code",
   "execution_count": 240,
   "id": "7e5437a9-8a7b-4c7c-93c0-b24c61bd62e1",
   "metadata": {},
   "outputs": [
    {
     "data": {
      "text/plain": [
       "array([[0.51912419, 0.37373926],\n",
       "       [0.34291085, 0.26903201],\n",
       "       [0.6534808 , 0.41861762]])"
      ]
     },
     "execution_count": 240,
     "metadata": {},
     "output_type": "execute_result"
    }
   ],
   "source": [
    "random.rand(3,2)"
   ]
  },
  {
   "cell_type": "code",
   "execution_count": 242,
   "id": "9776dcc0-41ae-4935-87c7-ea04a4f6d884",
   "metadata": {},
   "outputs": [
    {
     "data": {
      "text/plain": [
       "array([0.15699986, 0.58982299])"
      ]
     },
     "execution_count": 242,
     "metadata": {},
     "output_type": "execute_result"
    }
   ],
   "source": [
    "np.random.rand(2) # Generate random floats between 0 and 1 using np.random.rand()."
   ]
  },
  {
   "cell_type": "code",
   "execution_count": 243,
   "id": "57e0a5d6-d924-4f28-9f6e-4f5a5ba6346c",
   "metadata": {},
   "outputs": [
    {
     "data": {
      "text/plain": [
       "array([0.09482891, 0.68264382, 0.27160063, 0.82921158])"
      ]
     },
     "execution_count": 243,
     "metadata": {},
     "output_type": "execute_result"
    }
   ],
   "source": [
    "    np.random.rand(4)"
   ]
  },
  {
   "cell_type": "code",
   "execution_count": 244,
   "id": "52aa5123-0912-468c-a0b6-0ef7870fbf8d",
   "metadata": {},
   "outputs": [
    {
     "data": {
      "text/plain": [
       "array([[0.40911961, 0.63312606, 0.00988327],\n",
       "       [0.51765588, 0.21180011, 0.96662473]])"
      ]
     },
     "execution_count": 244,
     "metadata": {},
     "output_type": "execute_result"
    }
   ],
   "source": [
    "np.random.rand(2,3) # (2,3)-(rows,col)"
   ]
  },
  {
   "cell_type": "code",
   "execution_count": 245,
   "id": "cb21c636-ef48-4108-b51b-f5faa08393ea",
   "metadata": {},
   "outputs": [
    {
     "data": {
      "text/plain": [
       "0"
      ]
     },
     "execution_count": 245,
     "metadata": {},
     "output_type": "execute_result"
    }
   ],
   "source": [
    "np.random.randint(3) # Generate random integers in a given range using np.random.randint()."
   ]
  },
  {
   "cell_type": "code",
   "execution_count": 248,
   "id": "413aa08b-285a-48c2-90a5-da29ed097ff6",
   "metadata": {},
   "outputs": [
    {
     "data": {
      "text/plain": [
       "11"
      ]
     },
     "execution_count": 248,
     "metadata": {},
     "output_type": "execute_result"
    }
   ],
   "source": [
    "np.random.randint(2,20)  #(low, high=None,)-shows range from 2-20"
   ]
  },
  {
   "cell_type": "code",
   "execution_count": 249,
   "id": "53c00667-a93d-4f03-80c3-3dfe12aa1d2e",
   "metadata": {},
   "outputs": [
    {
     "data": {
      "text/plain": [
       "array([3, 6, 2])"
      ]
     },
     "execution_count": 249,
     "metadata": {},
     "output_type": "execute_result"
    }
   ],
   "source": [
    "np.random.randint(2,10,3) #(2-10)- shows range from 2-10 and generate 3 random numbers"
   ]
  },
  {
   "cell_type": "code",
   "execution_count": 250,
   "id": "f1ccc580-b994-4267-a06a-99cbd9f62477",
   "metadata": {},
   "outputs": [
    {
     "data": {
      "text/plain": [
       "array([ 8, 12,  2, 18, 15,  6,  7,  4, 17,  9,  3,  3,  5,  8,  9])"
      ]
     },
     "execution_count": 250,
     "metadata": {},
     "output_type": "execute_result"
    }
   ],
   "source": [
    "np.random.randint(2,20,15)"
   ]
  },
  {
   "cell_type": "code",
   "execution_count": 251,
   "id": "68dfec5f-48cc-4a70-88da-bb76adccfe37",
   "metadata": {},
   "outputs": [
    {
     "data": {
      "text/plain": [
       "array([-15, -17, -16, -20,  -2,   2, -22,   2,  -8, -22,   5, -22,   3,\n",
       "       -12,  -9,   2, -22])"
      ]
     },
     "execution_count": 251,
     "metadata": {},
     "output_type": "execute_result"
    }
   ],
   "source": [
    "np.random.randint(-30,10,17)"
   ]
  },
  {
   "cell_type": "code",
   "execution_count": 252,
   "id": "66990056-9a17-4ec2-9db6-b0e880d7cd8e",
   "metadata": {},
   "outputs": [
    {
     "data": {
      "text/plain": [
       "array([[11, 11, 13, 11],\n",
       "       [12, 12, 13, 10],\n",
       "       [12, 10, 14, 12]])"
      ]
     },
     "execution_count": 252,
     "metadata": {},
     "output_type": "execute_result"
    }
   ],
   "source": [
    "np.random.randint(10,15,(3,4)) #(10,15)_random numbers range from 10 to 15 and (3-4) are (rows,col)"
   ]
  },
  {
   "cell_type": "code",
   "execution_count": 253,
   "id": "a9380460-13f0-479b-8eec-43fae31d6e3a",
   "metadata": {},
   "outputs": [
    {
     "data": {
      "text/plain": [
       "array([[44, 18, 16],\n",
       "       [41, 99, 94],\n",
       "       [34, 28, 52]])"
      ]
     },
     "execution_count": 253,
     "metadata": {},
     "output_type": "execute_result"
    }
   ],
   "source": [
    "m= np.random.randint(10,100,(3,3))\n",
    "m"
   ]
  },
  {
   "cell_type": "code",
   "execution_count": 254,
   "id": "a0edeb73-ed7e-474f-afd1-c10f2bc19117",
   "metadata": {},
   "outputs": [
    {
     "data": {
      "text/plain": [
       "array([10, 20, 30, 40])"
      ]
     },
     "execution_count": 254,
     "metadata": {},
     "output_type": "execute_result"
    }
   ],
   "source": [
    "arr"
   ]
  },
  {
   "cell_type": "markdown",
   "id": "79a1ebc8-4fa4-4c6e-99f9-311d0aef11f0",
   "metadata": {},
   "source": [
    "# Reshaping and Flattening"
   ]
  },
  {
   "cell_type": "code",
   "execution_count": 256,
   "id": "69f054da-7dcc-4394-b429-677eb607de17",
   "metadata": {},
   "outputs": [
    {
     "data": {
      "text/plain": [
       "array([10, 20, 30, 40])"
      ]
     },
     "execution_count": 256,
     "metadata": {},
     "output_type": "execute_result"
    }
   ],
   "source": [
    "arr"
   ]
  },
  {
   "cell_type": "code",
   "execution_count": 257,
   "id": "31f17546-6d62-42b0-ba71-ab6c82cdf102",
   "metadata": {},
   "outputs": [
    {
     "data": {
      "text/plain": [
       "array([[10, 20],\n",
       "       [30, 40]])"
      ]
     },
     "execution_count": 257,
     "metadata": {},
     "output_type": "execute_result"
    }
   ],
   "source": [
    "arr.reshape(2,2) #Returns an array containing the same data with a new shape."
   ]
  },
  {
   "cell_type": "code",
   "execution_count": 258,
   "id": "1caaf3d7-3776-4308-903e-a59c98350991",
   "metadata": {},
   "outputs": [
    {
     "data": {
      "text/plain": [
       "[2, 3, 4, 5, 6, 7, 8, 10, 1, 1, 11, 12, 13, 14, 15, 16]"
      ]
     },
     "execution_count": 258,
     "metadata": {},
     "output_type": "execute_result"
    }
   ],
   "source": [
    "l=[2,3,4,5,6,7,8,10,1,1,11,12,13,14,15,16]\n",
    "l"
   ]
  },
  {
   "cell_type": "code",
   "execution_count": 259,
   "id": "279a1f64-feb4-4cbd-b16d-1893eae532c7",
   "metadata": {},
   "outputs": [
    {
     "data": {
      "text/plain": [
       "array([ 2,  3,  4,  5,  6,  7,  8, 10,  1,  1, 11, 12, 13, 14, 15, 16])"
      ]
     },
     "execution_count": 259,
     "metadata": {},
     "output_type": "execute_result"
    }
   ],
   "source": [
    "arr=np.array(l)\n",
    "arr"
   ]
  },
  {
   "cell_type": "code",
   "execution_count": 261,
   "id": "26c23dbe-9fd5-4c39-913c-c435ba2530e7",
   "metadata": {},
   "outputs": [
    {
     "data": {
      "text/plain": [
       "array([[ 2,  3,  4,  5],\n",
       "       [ 6,  7,  8, 10],\n",
       "       [ 1,  1, 11, 12],\n",
       "       [13, 14, 15, 16]])"
      ]
     },
     "execution_count": 261,
     "metadata": {},
     "output_type": "execute_result"
    }
   ],
   "source": [
    "arr.reshape(4,4)"
   ]
  },
  {
   "cell_type": "code",
   "execution_count": 262,
   "id": "b3aea3d5-65bc-47d7-ba71-49c348b6bdc7",
   "metadata": {},
   "outputs": [
    {
     "data": {
      "text/plain": [
       "array([[44, 18, 16],\n",
       "       [41, 99, 94],\n",
       "       [34, 28, 52]])"
      ]
     },
     "execution_count": 262,
     "metadata": {},
     "output_type": "execute_result"
    }
   ],
   "source": [
    "m"
   ]
  },
  {
   "cell_type": "markdown",
   "id": "84d610c5-153d-4bcd-ad0a-e07795d135a4",
   "metadata": {},
   "source": [
    "# Array Indexing and Slicing"
   ]
  },
  {
   "cell_type": "code",
   "execution_count": 265,
   "id": "b83ea065-2b77-417c-b022-bd020439f1b5",
   "metadata": {},
   "outputs": [],
   "source": [
    "b=np.random.randint(10,20,(5,4))"
   ]
  },
  {
   "cell_type": "code",
   "execution_count": 266,
   "id": "9ba6bfc7-500f-4500-97b9-b6ca1358b7a8",
   "metadata": {},
   "outputs": [
    {
     "data": {
      "text/plain": [
       "array([[17, 10, 16, 19],\n",
       "       [15, 17, 19, 12],\n",
       "       [16, 14, 16, 14],\n",
       "       [17, 17, 10, 15],\n",
       "       [11, 12, 18, 19]])"
      ]
     },
     "execution_count": 266,
     "metadata": {},
     "output_type": "execute_result"
    }
   ],
   "source": [
    "b"
   ]
  },
  {
   "cell_type": "code",
   "execution_count": 268,
   "id": "ed255ba1-cb87-431f-b910-605ddae1c79c",
   "metadata": {},
   "outputs": [
    {
     "data": {
      "text/plain": [
       "array([[11, 12, 18, 19],\n",
       "       [17, 17, 10, 15],\n",
       "       [16, 14, 16, 14],\n",
       "       [15, 17, 19, 12],\n",
       "       [17, 10, 16, 19]])"
      ]
     },
     "execution_count": 268,
     "metadata": {},
     "output_type": "execute_result"
    }
   ],
   "source": [
    "b[::-1] #reverse order"
   ]
  },
  {
   "cell_type": "code",
   "execution_count": 269,
   "id": "5dfa516e-bbf1-4325-a576-2bb408e69c79",
   "metadata": {},
   "outputs": [
    {
     "data": {
      "text/plain": [
       "array([[15, 17, 19, 12],\n",
       "       [16, 14, 16, 14],\n",
       "       [17, 17, 10, 15]])"
      ]
     },
     "execution_count": 269,
     "metadata": {},
     "output_type": "execute_result"
    }
   ],
   "source": [
    "b[1:4] #print 1st row to 4rd row"
   ]
  },
  {
   "cell_type": "code",
   "execution_count": 272,
   "id": "2e82f873-b71e-4069-94c9-8a300521142e",
   "metadata": {},
   "outputs": [
    {
     "data": {
      "text/plain": [
       "array([[11, 12, 18, 19]])"
      ]
     },
     "execution_count": 272,
     "metadata": {},
     "output_type": "execute_result"
    }
   ],
   "source": [
    "b[-1:] #print last row"
   ]
  },
  {
   "cell_type": "code",
   "execution_count": 273,
   "id": "2afb389f-6520-42db-8f2d-8395bb26ed72",
   "metadata": {},
   "outputs": [
    {
     "data": {
      "text/plain": [
       "array([[17, 10, 16, 19],\n",
       "       [15, 17, 19, 12],\n",
       "       [16, 14, 16, 14],\n",
       "       [17, 17, 10, 15],\n",
       "       [11, 12, 18, 19]])"
      ]
     },
     "execution_count": 273,
     "metadata": {},
     "output_type": "execute_result"
    }
   ],
   "source": [
    "b"
   ]
  },
  {
   "cell_type": "code",
   "execution_count": 274,
   "id": "c9d8aa46-0d78-4185-af14-57b78672072a",
   "metadata": {},
   "outputs": [
    {
     "data": {
      "text/plain": [
       "array([[17, 10, 16, 19],\n",
       "       [15, 17, 19, 12],\n",
       "       [16, 14, 16, 14],\n",
       "       [17, 17, 10, 15]])"
      ]
     },
     "execution_count": 274,
     "metadata": {},
     "output_type": "execute_result"
    }
   ],
   "source": [
    "b[:-1] #print all row except last row"
   ]
  },
  {
   "cell_type": "code",
   "execution_count": 275,
   "id": "65d24917-1d27-4ed7-b863-efeb1a156843",
   "metadata": {},
   "outputs": [
    {
     "data": {
      "text/plain": [
       "array([[17, 10, 16, 19],\n",
       "       [15, 17, 19, 12],\n",
       "       [16, 14, 16, 14]])"
      ]
     },
     "execution_count": 275,
     "metadata": {},
     "output_type": "execute_result"
    }
   ],
   "source": [
    "b[:-2] #print all row except last two rows"
   ]
  },
  {
   "cell_type": "code",
   "execution_count": 276,
   "id": "08db7817-9437-4d88-9bf9-0c64242059c3",
   "metadata": {},
   "outputs": [
    {
     "data": {
      "text/plain": [
       "19"
      ]
     },
     "execution_count": 276,
     "metadata": {},
     "output_type": "execute_result"
    }
   ],
   "source": [
    "b[1,2] #print 1st row and 2nd column elements"
   ]
  },
  {
   "cell_type": "code",
   "execution_count": 277,
   "id": "2411e212-4324-436d-8064-4c36b4ba5f7a",
   "metadata": {},
   "outputs": [
    {
     "data": {
      "text/plain": [
       "array([[17, 10, 16, 19],\n",
       "       [15, 17, 19, 12],\n",
       "       [16, 14, 16, 14],\n",
       "       [17, 17, 10, 15],\n",
       "       [11, 12, 18, 19]])"
      ]
     },
     "execution_count": 277,
     "metadata": {},
     "output_type": "execute_result"
    }
   ],
   "source": [
    "b"
   ]
  },
  {
   "cell_type": "code",
   "execution_count": 278,
   "id": "459a0347-22ef-47b3-9faa-61755bbd2ced",
   "metadata": {},
   "outputs": [
    {
     "data": {
      "text/plain": [
       "19"
      ]
     },
     "execution_count": 278,
     "metadata": {},
     "output_type": "execute_result"
    }
   ],
   "source": [
    "b[1,2]"
   ]
  },
  {
   "cell_type": "code",
   "execution_count": 279,
   "id": "cec9e0b9-448e-4318-9a83-aee80a6f9228",
   "metadata": {},
   "outputs": [
    {
     "data": {
      "text/plain": [
       "12"
      ]
     },
     "execution_count": 279,
     "metadata": {},
     "output_type": "execute_result"
    }
   ],
   "source": [
    "b[1,3]"
   ]
  },
  {
   "cell_type": "code",
   "execution_count": 280,
   "id": "7b646df1-8016-4217-975c-ac660284296f",
   "metadata": {},
   "outputs": [
    {
     "data": {
      "text/plain": [
       "array([[17, 10, 16, 19],\n",
       "       [15, 17, 19, 12],\n",
       "       [16, 14, 16, 14],\n",
       "       [17, 17, 10, 15],\n",
       "       [11, 12, 18, 19]])"
      ]
     },
     "execution_count": 280,
     "metadata": {},
     "output_type": "execute_result"
    }
   ],
   "source": [
    "b"
   ]
  },
  {
   "cell_type": "code",
   "execution_count": 281,
   "id": "55f67af3-2651-4b3e-8894-82c0cb552670",
   "metadata": {},
   "outputs": [
    {
     "data": {
      "text/plain": [
       "12"
      ]
     },
     "execution_count": 281,
     "metadata": {},
     "output_type": "execute_result"
    }
   ],
   "source": [
    "b[1,-1]"
   ]
  },
  {
   "cell_type": "code",
   "execution_count": 282,
   "id": "2e97afd8-68b7-44c4-bb73-eb0130b43f0d",
   "metadata": {},
   "outputs": [
    {
     "data": {
      "text/plain": [
       "16"
      ]
     },
     "execution_count": 282,
     "metadata": {},
     "output_type": "execute_result"
    }
   ],
   "source": [
    "b[2,-2]"
   ]
  },
  {
   "cell_type": "markdown",
   "id": "b4110586-5490-4968-9042-fe73069d617c",
   "metadata": {},
   "source": [
    "## numpy operations"
   ]
  },
  {
   "cell_type": "code",
   "execution_count": 301,
   "id": "1a2eb42a-c570-4929-b638-45b02efe47ee",
   "metadata": {},
   "outputs": [],
   "source": [
    "import numpy as np\n",
    "from numpy import *"
   ]
  },
  {
   "cell_type": "code",
   "execution_count": 302,
   "id": "b117dc59-df7d-47a9-81bb-728afbff9a3d",
   "metadata": {},
   "outputs": [
    {
     "data": {
      "text/plain": [
       "[1, 2, 3, 4, 5]"
      ]
     },
     "execution_count": 302,
     "metadata": {},
     "output_type": "execute_result"
    }
   ],
   "source": [
    "arr1 = [1,2,3,4,5]\n",
    "arr1"
   ]
  },
  {
   "cell_type": "code",
   "execution_count": 303,
   "id": "ad370dda-955c-4053-beaa-615d14baabda",
   "metadata": {},
   "outputs": [
    {
     "data": {
      "text/plain": [
       "[5, 6, 7, 8, 9]"
      ]
     },
     "execution_count": 303,
     "metadata": {},
     "output_type": "execute_result"
    }
   ],
   "source": [
    "arr2=[5,6,7,8,9]\n",
    "arr2"
   ]
  },
  {
   "cell_type": "code",
   "execution_count": 304,
   "id": "7f372d6e-5b06-4010-bd1e-4881f3834bb7",
   "metadata": {},
   "outputs": [
    {
     "data": {
      "text/plain": [
       "array([ 6,  8, 10, 12, 14])"
      ]
     },
     "execution_count": 304,
     "metadata": {},
     "output_type": "execute_result"
    }
   ],
   "source": [
    "#element-wise addition between two arrays\n",
    "np.add(arr1,arr2)"
   ]
  },
  {
   "cell_type": "code",
   "execution_count": 318,
   "id": "9586953b-661a-4c78-8e25-1fb801f02b4c",
   "metadata": {},
   "outputs": [
    {
     "data": {
      "text/plain": [
       "array([-4, -4, -4, -4, -4])"
      ]
     },
     "execution_count": 318,
     "metadata": {},
     "output_type": "execute_result"
    }
   ],
   "source": [
    "np.subtract(arr1,arr2) #Subtract arguments, element-wise."
   ]
  },
  {
   "cell_type": "code",
   "execution_count": 319,
   "id": "3c005fc0-82bc-4730-9b32-4bf34f8d76f9",
   "metadata": {},
   "outputs": [
    {
     "data": {
      "text/plain": [
       "array([ 5, 12, 21, 32, 45])"
      ]
     },
     "execution_count": 319,
     "metadata": {},
     "output_type": "execute_result"
    }
   ],
   "source": [
    "np.multiply(arr1,arr2) #Multiply arguments element-wise.\n"
   ]
  },
  {
   "cell_type": "code",
   "execution_count": 320,
   "id": "9c9c2121-41d5-417a-92b0-e5a3b25dbd0b",
   "metadata": {},
   "outputs": [
    {
     "data": {
      "text/plain": [
       "array([0.2       , 0.33333333, 0.42857143, 0.5       , 0.55555556])"
      ]
     },
     "execution_count": 320,
     "metadata": {},
     "output_type": "execute_result"
    }
   ],
   "source": [
    "np.divide(arr1,arr2) #Divide arguments element-wise.\n"
   ]
  },
  {
   "cell_type": "code",
   "execution_count": 308,
   "id": "1ebca0a5-54d9-4364-b20e-4498ae573cb8",
   "metadata": {},
   "outputs": [
    {
     "data": {
      "text/plain": [
       "[1, 2, 3, 4, 5]"
      ]
     },
     "execution_count": 308,
     "metadata": {},
     "output_type": "execute_result"
    }
   ],
   "source": [
    "arr1"
   ]
  },
  {
   "cell_type": "code",
   "execution_count": 321,
   "id": "c66f234e-acb5-4f2a-bcb7-f2831b1a8846",
   "metadata": {},
   "outputs": [
    {
     "data": {
      "text/plain": [
       "3.0"
      ]
     },
     "execution_count": 321,
     "metadata": {},
     "output_type": "execute_result"
    }
   ],
   "source": [
    "mean(arr1) #Compute the arithmetic mean along the specified axis."
   ]
  },
  {
   "cell_type": "code",
   "execution_count": 310,
   "id": "eae0e4ef-f64b-43d8-a615-3f6b654a3a28",
   "metadata": {},
   "outputs": [
    {
     "data": {
      "text/plain": [
       "1"
      ]
     },
     "execution_count": 310,
     "metadata": {},
     "output_type": "execute_result"
    }
   ],
   "source": [
    "min(arr1) #With a single iterable argument, return its smallest item. The default keyword-only argument specifies an object to return if the provided iterable is empty."
   ]
  },
  {
   "cell_type": "code",
   "execution_count": 311,
   "id": "3e29687c-d92e-4bae-901d-79f5cede4b9b",
   "metadata": {},
   "outputs": [
    {
     "data": {
      "text/plain": [
       "5"
      ]
     },
     "execution_count": 311,
     "metadata": {},
     "output_type": "execute_result"
    }
   ],
   "source": [
    "max(arr1) #With a single iterable argument, return its biggest item. The default keyword-only argument specifies an object to return if the provided iterable is empty."
   ]
  },
  {
   "cell_type": "code",
   "execution_count": 322,
   "id": "f574410f-b850-4c10-bfb7-86151a33b01c",
   "metadata": {},
   "outputs": [
    {
     "data": {
      "text/plain": [
       "15"
      ]
     },
     "execution_count": 322,
     "metadata": {},
     "output_type": "execute_result"
    }
   ],
   "source": [
    "sum(arr1) #Sum of array elements over a given axis."
   ]
  },
  {
   "cell_type": "code",
   "execution_count": 323,
   "id": "d4368c0f-5b26-48a3-af22-95ed60dcf57a",
   "metadata": {},
   "outputs": [
    {
     "data": {
      "text/plain": [
       "3.0"
      ]
     },
     "execution_count": 323,
     "metadata": {},
     "output_type": "execute_result"
    }
   ],
   "source": [
    "average(arr1) #Compute the weighted average along the specified axis.\n"
   ]
  },
  {
   "cell_type": "code",
   "execution_count": 315,
   "id": "9d11a980-af41-4e47-9d66-2bca1901e6ec",
   "metadata": {},
   "outputs": [
    {
     "data": {
      "text/plain": [
       "3.0"
      ]
     },
     "execution_count": 315,
     "metadata": {},
     "output_type": "execute_result"
    }
   ],
   "source": [
    "median(arr1) #Compute the median along the specified axis."
   ]
  },
  {
   "cell_type": "code",
   "execution_count": 324,
   "id": "84ae3823-4c96-4d1f-b69f-9f68d406a365",
   "metadata": {},
   "outputs": [
    {
     "data": {
      "text/plain": [
       "array([1.        , 1.41421356, 1.73205081, 2.        , 2.23606798])"
      ]
     },
     "execution_count": 324,
     "metadata": {},
     "output_type": "execute_result"
    }
   ],
   "source": [
    "sqrt(arr1) #Return the non-negative square-root of an array, element-wise."
   ]
  },
  {
   "cell_type": "code",
   "execution_count": 325,
   "id": "9307e2dc-9a64-4381-b36d-bb6090edab47",
   "metadata": {},
   "outputs": [
    {
     "data": {
      "text/plain": [
       "array([3, 4, 5, 6, 7])"
      ]
     },
     "execution_count": 325,
     "metadata": {},
     "output_type": "execute_result"
    }
   ],
   "source": [
    "add(arr1,2) #Add arguments element-wise."
   ]
  },
  {
   "cell_type": "markdown",
   "id": "025022f7-0f31-490d-a916-63c2125549ac",
   "metadata": {},
   "source": [
    "# ----------"
   ]
  },
  {
   "cell_type": "code",
   "execution_count": 335,
   "id": "4ef6a9f4-bf55-4c48-aba0-fe7ce9e105f3",
   "metadata": {},
   "outputs": [
    {
     "data": {
      "text/plain": [
       "array([ 0,  1,  2,  3,  4,  5,  6,  7,  8,  9, 10, 11, 12, 13, 14, 15, 16,\n",
       "       17, 18, 19, 20, 21, 22, 23, 24, 25, 26, 27, 28, 29, 30, 31, 32, 33,\n",
       "       34, 35, 36, 37, 38, 39, 40, 41, 42, 43, 44, 45, 46, 47, 48, 49, 50,\n",
       "       51, 52, 53, 54, 55, 56, 57, 58, 59, 60, 61, 62, 63, 64, 65, 66, 67,\n",
       "       68, 69, 70, 71, 72, 73, 74, 75, 76, 77, 78, 79, 80, 81, 82, 83, 84,\n",
       "       85, 86, 87, 88, 89, 90, 91, 92, 93, 94, 95, 96, 97, 98, 99])"
      ]
     },
     "execution_count": 335,
     "metadata": {},
     "output_type": "execute_result"
    }
   ],
   "source": [
    "mat= arange(0,100) #creating a matrix\n",
    "mat"
   ]
  },
  {
   "cell_type": "code",
   "execution_count": 336,
   "id": "e60d7a93-9dd0-40ca-a6bd-dbd90bdc9921",
   "metadata": {},
   "outputs": [
    {
     "data": {
      "text/plain": [
       "array([[ 0,  1,  2,  3,  4,  5,  6,  7,  8,  9],\n",
       "       [10, 11, 12, 13, 14, 15, 16, 17, 18, 19],\n",
       "       [20, 21, 22, 23, 24, 25, 26, 27, 28, 29],\n",
       "       [30, 31, 32, 33, 34, 35, 36, 37, 38, 39],\n",
       "       [40, 41, 42, 43, 44, 45, 46, 47, 48, 49],\n",
       "       [50, 51, 52, 53, 54, 55, 56, 57, 58, 59],\n",
       "       [60, 61, 62, 63, 64, 65, 66, 67, 68, 69],\n",
       "       [70, 71, 72, 73, 74, 75, 76, 77, 78, 79],\n",
       "       [80, 81, 82, 83, 84, 85, 86, 87, 88, 89],\n",
       "       [90, 91, 92, 93, 94, 95, 96, 97, 98, 99]])"
      ]
     },
     "execution_count": 336,
     "metadata": {},
     "output_type": "execute_result"
    }
   ],
   "source": [
    "matt=mat.reshape(10,10)\n",
    "matt"
   ]
  },
  {
   "cell_type": "code",
   "execution_count": 329,
   "id": "7cb8e044-76b6-4977-9e16-a756185483d4",
   "metadata": {},
   "outputs": [],
   "source": [
    "row=4\n",
    "col = 5"
   ]
  },
  {
   "cell_type": "code",
   "execution_count": 330,
   "id": "4725b265-6db4-4817-a9aa-329692584892",
   "metadata": {},
   "outputs": [
    {
     "data": {
      "text/plain": [
       "5"
      ]
     },
     "execution_count": 330,
     "metadata": {},
     "output_type": "execute_result"
    }
   ],
   "source": [
    "col"
   ]
  },
  {
   "cell_type": "code",
   "execution_count": 331,
   "id": "8946f31a-07a3-42fd-869f-50c8bd04a4a6",
   "metadata": {},
   "outputs": [
    {
     "data": {
      "text/plain": [
       "45"
      ]
     },
     "execution_count": 331,
     "metadata": {},
     "output_type": "execute_result"
    }
   ],
   "source": [
    "matt[row,col] #to access 4rd row and 5th column"
   ]
  },
  {
   "cell_type": "code",
   "execution_count": 332,
   "id": "947aac4c-49fc-4561-8165-ec2e26bc569e",
   "metadata": {},
   "outputs": [
    {
     "data": {
      "text/plain": [
       "array([[ 0,  1,  2,  3,  4,  5,  6,  7,  8,  9],\n",
       "       [10, 11, 12, 13, 14, 15, 16, 17, 18, 19],\n",
       "       [20, 21, 22, 23, 24, 25, 26, 27, 28, 29],\n",
       "       [30, 31, 32, 33, 34, 35, 36, 37, 38, 39],\n",
       "       [40, 41, 42, 43, 44, 45, 46, 47, 48, 49],\n",
       "       [50, 51, 52, 53, 54, 55, 56, 57, 58, 59],\n",
       "       [60, 61, 62, 63, 64, 65, 66, 67, 68, 69],\n",
       "       [70, 71, 72, 73, 74, 75, 76, 77, 78, 79],\n",
       "       [80, 81, 82, 83, 84, 85, 86, 87, 88, 89],\n",
       "       [90, 91, 92, 93, 94, 95, 96, 97, 98, 99]])"
      ]
     },
     "execution_count": 332,
     "metadata": {},
     "output_type": "execute_result"
    }
   ],
   "source": [
    "matt"
   ]
  },
  {
   "cell_type": "code",
   "execution_count": 333,
   "id": "aea57683-8fa1-4a73-8725-3e6a69632566",
   "metadata": {},
   "outputs": [
    {
     "data": {
      "text/plain": [
       "array([10, 11, 12, 13, 14, 15, 16, 17, 18, 19])"
      ]
     },
     "execution_count": 333,
     "metadata": {},
     "output_type": "execute_result"
    }
   ],
   "source": [
    "matt[1] #access the 2nd row"
   ]
  },
  {
   "cell_type": "code",
   "execution_count": 334,
   "id": "893e95e2-a2bc-462f-8f73-8e0313f77f0b",
   "metadata": {},
   "outputs": [
    {
     "data": {
      "text/plain": [
       "array([ 5, 15, 25, 35, 45, 55, 65, 75, 85, 95])"
      ]
     },
     "execution_count": 334,
     "metadata": {},
     "output_type": "execute_result"
    }
   ],
   "source": [
    "matt[:,col] #access the 6th column"
   ]
  },
  {
   "cell_type": "code",
   "execution_count": 209,
   "id": "a8641c0b-0850-46a4-9e6b-0a89b1c0fe5b",
   "metadata": {},
   "outputs": [
    {
     "data": {
      "text/plain": [
       "array([ 4, 14, 24, 34, 44, 54, 64, 74, 84, 94])"
      ]
     },
     "execution_count": 209,
     "metadata": {},
     "output_type": "execute_result"
    }
   ],
   "source": [
    "matt[:,4] #access the 4rd column"
   ]
  },
  {
   "cell_type": "code",
   "execution_count": 210,
   "id": "1ee1a153-7521-4456-a29a-380df8c60b77",
   "metadata": {},
   "outputs": [
    {
     "data": {
      "text/plain": [
       "array([ 3, 13, 23, 33, 43, 53, 63, 73, 83, 93])"
      ]
     },
     "execution_count": 210,
     "metadata": {},
     "output_type": "execute_result"
    }
   ],
   "source": [
    "matt[:,3] #access the 3rd column"
   ]
  },
  {
   "cell_type": "code",
   "execution_count": 211,
   "id": "783112bc-6d9a-4ec8-9211-ca5b0f6d227e",
   "metadata": {},
   "outputs": [
    {
     "data": {
      "text/plain": [
       "array([[ 0,  1,  2,  3,  4,  5,  6,  7,  8,  9],\n",
       "       [10, 11, 12, 13, 14, 15, 16, 17, 18, 19],\n",
       "       [20, 21, 22, 23, 24, 25, 26, 27, 28, 29],\n",
       "       [30, 31, 32, 33, 34, 35, 36, 37, 38, 39],\n",
       "       [40, 41, 42, 43, 44, 45, 46, 47, 48, 49],\n",
       "       [50, 51, 52, 53, 54, 55, 56, 57, 58, 59],\n",
       "       [60, 61, 62, 63, 64, 65, 66, 67, 68, 69],\n",
       "       [70, 71, 72, 73, 74, 75, 76, 77, 78, 79],\n",
       "       [80, 81, 82, 83, 84, 85, 86, 87, 88, 89],\n",
       "       [90, 91, 92, 93, 94, 95, 96, 97, 98, 99]])"
      ]
     },
     "execution_count": 211,
     "metadata": {},
     "output_type": "execute_result"
    }
   ],
   "source": [
    "matt"
   ]
  },
  {
   "cell_type": "code",
   "execution_count": 212,
   "id": "b0b6930e-046a-45b8-85db-c7a417a4f2fc",
   "metadata": {},
   "outputs": [
    {
     "data": {
      "text/plain": [
       "array([[90, 91, 92, 93, 94, 95, 96, 97, 98, 99],\n",
       "       [80, 81, 82, 83, 84, 85, 86, 87, 88, 89],\n",
       "       [70, 71, 72, 73, 74, 75, 76, 77, 78, 79],\n",
       "       [60, 61, 62, 63, 64, 65, 66, 67, 68, 69],\n",
       "       [50, 51, 52, 53, 54, 55, 56, 57, 58, 59],\n",
       "       [40, 41, 42, 43, 44, 45, 46, 47, 48, 49],\n",
       "       [30, 31, 32, 33, 34, 35, 36, 37, 38, 39],\n",
       "       [20, 21, 22, 23, 24, 25, 26, 27, 28, 29],\n",
       "       [10, 11, 12, 13, 14, 15, 16, 17, 18, 19],\n",
       "       [ 0,  1,  2,  3,  4,  5,  6,  7,  8,  9]])"
      ]
     },
     "execution_count": 212,
     "metadata": {},
     "output_type": "execute_result"
    }
   ],
   "source": [
    "matt[::-1] #reverse order"
   ]
  },
  {
   "cell_type": "code",
   "execution_count": 213,
   "id": "4ea0eaf9-f1c3-4e4a-916c-20ac707c4821",
   "metadata": {},
   "outputs": [
    {
     "data": {
      "text/plain": [
       "array([[90, 91, 92, 93, 94, 95, 96, 97, 98, 99],\n",
       "       [70, 71, 72, 73, 74, 75, 76, 77, 78, 79],\n",
       "       [50, 51, 52, 53, 54, 55, 56, 57, 58, 59],\n",
       "       [30, 31, 32, 33, 34, 35, 36, 37, 38, 39],\n",
       "       [10, 11, 12, 13, 14, 15, 16, 17, 18, 19]])"
      ]
     },
     "execution_count": 213,
     "metadata": {},
     "output_type": "execute_result"
    }
   ],
   "source": [
    "matt[::-2] "
   ]
  },
  {
   "cell_type": "code",
   "execution_count": 214,
   "id": "5dfb3899-f20d-4d09-a468-d0e6bd778086",
   "metadata": {},
   "outputs": [
    {
     "data": {
      "text/plain": [
       "array([[ 0,  1,  2,  3,  4,  5,  6,  7,  8,  9],\n",
       "       [10, 11, 12, 13, 14, 15, 16, 17, 18, 19],\n",
       "       [20, 21, 22, 23, 24, 25, 26, 27, 28, 29],\n",
       "       [30, 31, 32, 33, 34, 35, 36, 37, 38, 39],\n",
       "       [40, 41, 42, 43, 44, 45, 46, 47, 48, 49],\n",
       "       [50, 51, 52, 53, 54, 55, 56, 57, 58, 59],\n",
       "       [60, 61, 62, 63, 64, 65, 66, 67, 68, 69],\n",
       "       [70, 71, 72, 73, 74, 75, 76, 77, 78, 79],\n",
       "       [80, 81, 82, 83, 84, 85, 86, 87, 88, 89],\n",
       "       [90, 91, 92, 93, 94, 95, 96, 97, 98, 99]])"
      ]
     },
     "execution_count": 214,
     "metadata": {},
     "output_type": "execute_result"
    }
   ],
   "source": [
    "matt"
   ]
  },
  {
   "cell_type": "code",
   "execution_count": 215,
   "id": "0d7a57b6-5f0c-4340-a83d-006a188fb769",
   "metadata": {},
   "outputs": [
    {
     "data": {
      "text/plain": [
       "array([[22],\n",
       "       [32],\n",
       "       [42],\n",
       "       [52]])"
      ]
     },
     "execution_count": 215,
     "metadata": {},
     "output_type": "execute_result"
    }
   ],
   "source": [
    "matt[2:6,2:3] #gives 2nd to 6th row and 2nd to 3rd column"
   ]
  },
  {
   "cell_type": "code",
   "execution_count": 216,
   "id": "1f2e0935-0ef3-4f20-8c96-b61741e1c2a1",
   "metadata": {},
   "outputs": [
    {
     "data": {
      "text/plain": [
       "array([[22, 23, 24],\n",
       "       [32, 33, 34],\n",
       "       [42, 43, 44],\n",
       "       [52, 53, 54]])"
      ]
     },
     "execution_count": 216,
     "metadata": {},
     "output_type": "execute_result"
    }
   ],
   "source": [
    "matt[2:6,2:5]"
   ]
  },
  {
   "cell_type": "code",
   "execution_count": 217,
   "id": "855b3bf0-2a81-4832-909b-d1a1f22e7503",
   "metadata": {},
   "outputs": [
    {
     "data": {
      "text/plain": [
       "array([[12, 13]])"
      ]
     },
     "execution_count": 217,
     "metadata": {},
     "output_type": "execute_result"
    }
   ],
   "source": [
    "matt[1:2,2:4]"
   ]
  },
  {
   "cell_type": "code",
   "execution_count": 218,
   "id": "44d1bc39-0600-4f26-bfe6-9351d6336c3d",
   "metadata": {},
   "outputs": [
    {
     "data": {
      "text/plain": [
       "array([[32, 33],\n",
       "       [42, 43]])"
      ]
     },
     "execution_count": 218,
     "metadata": {},
     "output_type": "execute_result"
    }
   ],
   "source": [
    "matt[3:5,2:4]"
   ]
  },
  {
   "cell_type": "markdown",
   "id": "6c3af41d-73f9-4177-b1e0-a4d999bc057c",
   "metadata": {},
   "source": [
    "## Masking"
   ]
  },
  {
   "cell_type": "code",
   "execution_count": 337,
   "id": "17b480fa-f3eb-4c7e-83ab-7f704d58e788",
   "metadata": {},
   "outputs": [
    {
     "data": {
      "text/plain": [
       "array([[ 0,  1,  2,  3,  4,  5,  6,  7,  8,  9],\n",
       "       [10, 11, 12, 13, 14, 15, 16, 17, 18, 19],\n",
       "       [20, 21, 22, 23, 24, 25, 26, 27, 28, 29],\n",
       "       [30, 31, 32, 33, 34, 35, 36, 37, 38, 39],\n",
       "       [40, 41, 42, 43, 44, 45, 46, 47, 48, 49],\n",
       "       [50, 51, 52, 53, 54, 55, 56, 57, 58, 59],\n",
       "       [60, 61, 62, 63, 64, 65, 66, 67, 68, 69],\n",
       "       [70, 71, 72, 73, 74, 75, 76, 77, 78, 79],\n",
       "       [80, 81, 82, 83, 84, 85, 86, 87, 88, 89],\n",
       "       [90, 91, 92, 93, 94, 95, 96, 97, 98, 99]])"
      ]
     },
     "execution_count": 337,
     "metadata": {},
     "output_type": "execute_result"
    }
   ],
   "source": [
    "matt"
   ]
  },
  {
   "cell_type": "code",
   "execution_count": 338,
   "id": "63073f4f-fd3a-4b33-b755-864283d67022",
   "metadata": {},
   "outputs": [
    {
     "data": {
      "text/plain": [
       "array([[ True,  True,  True,  True,  True,  True,  True,  True,  True,\n",
       "         True],\n",
       "       [ True,  True,  True,  True,  True,  True,  True,  True,  True,\n",
       "         True],\n",
       "       [ True,  True,  True,  True,  True,  True,  True,  True,  True,\n",
       "         True],\n",
       "       [ True,  True,  True,  True,  True,  True,  True,  True,  True,\n",
       "         True],\n",
       "       [ True,  True,  True,  True,  True,  True,  True,  True,  True,\n",
       "         True],\n",
       "       [False, False, False, False, False, False, False, False, False,\n",
       "        False],\n",
       "       [False, False, False, False, False, False, False, False, False,\n",
       "        False],\n",
       "       [False, False, False, False, False, False, False, False, False,\n",
       "        False],\n",
       "       [False, False, False, False, False, False, False, False, False,\n",
       "        False],\n",
       "       [False, False, False, False, False, False, False, False, False,\n",
       "        False]])"
      ]
     },
     "execution_count": 338,
     "metadata": {},
     "output_type": "execute_result"
    }
   ],
   "source": [
    "matt<50 #gives true if elements are are less than 50 or else false"
   ]
  },
  {
   "cell_type": "code",
   "execution_count": 221,
   "id": "e3a60c12-d34f-4064-b887-7d657b85e718",
   "metadata": {},
   "outputs": [
    {
     "data": {
      "text/plain": [
       "array([[False, False, False, False, False, False, False, False, False,\n",
       "        False],\n",
       "       [False, False, False, False, False, False, False, False, False,\n",
       "        False],\n",
       "       [False, False, False, False, False, False, False, False, False,\n",
       "        False],\n",
       "       [False, False, False, False, False, False, False, False, False,\n",
       "        False],\n",
       "       [False, False, False, False, False, False, False, False, False,\n",
       "        False],\n",
       "       [False,  True,  True,  True,  True,  True,  True,  True,  True,\n",
       "         True],\n",
       "       [ True,  True,  True,  True,  True,  True,  True,  True,  True,\n",
       "         True],\n",
       "       [ True,  True,  True,  True,  True,  True,  True,  True,  True,\n",
       "         True],\n",
       "       [ True,  True,  True,  True,  True,  True,  True,  True,  True,\n",
       "         True],\n",
       "       [ True,  True,  True,  True,  True,  True,  True,  True,  True,\n",
       "         True]])"
      ]
     },
     "execution_count": 221,
     "metadata": {},
     "output_type": "execute_result"
    }
   ],
   "source": [
    "matt>50 #gives true if elements are greater than 50 or else false"
   ]
  },
  {
   "cell_type": "code",
   "execution_count": 222,
   "id": "37ece562-3913-4537-b818-a3efe8c21aab",
   "metadata": {},
   "outputs": [
    {
     "data": {
      "text/plain": [
       "array([51, 52, 53, 54, 55, 56, 57, 58, 59, 60, 61, 62, 63, 64, 65, 66, 67,\n",
       "       68, 69, 70, 71, 72, 73, 74, 75, 76, 77, 78, 79, 80, 81, 82, 83, 84,\n",
       "       85, 86, 87, 88, 89, 90, 91, 92, 93, 94, 95, 96, 97, 98, 99])"
      ]
     },
     "execution_count": 222,
     "metadata": {},
     "output_type": "execute_result"
    }
   ],
   "source": [
    "matt[matt>50] #it will produce ony those elements which are greater than 50"
   ]
  },
  {
   "cell_type": "code",
   "execution_count": 339,
   "id": "b3bec0a3-944c-422f-9087-e603900fd499",
   "metadata": {},
   "outputs": [
    {
     "data": {
      "text/plain": [
       "array([50, 51, 52, 53, 54, 55, 56, 57, 58, 59, 60, 61, 62, 63, 64, 65, 66,\n",
       "       67, 68, 69, 70, 71, 72, 73, 74, 75, 76, 77, 78, 79, 80, 81, 82, 83,\n",
       "       84, 85, 86, 87, 88, 89, 90, 91, 92, 93, 94, 95, 96, 97, 98, 99])"
      ]
     },
     "execution_count": 339,
     "metadata": {},
     "output_type": "execute_result"
    }
   ],
   "source": [
    "matt[matt>=50] #similary it will produce those elements which are greater than equal to 50"
   ]
  },
  {
   "cell_type": "code",
   "execution_count": 340,
   "id": "9f4cc51b-0e15-4091-af7c-e7c2f73645e3",
   "metadata": {},
   "outputs": [
    {
     "data": {
      "text/plain": [
       "array([ 0,  1,  2,  3,  4,  5,  6,  7,  8,  9, 10, 11, 12, 13, 14, 15, 16,\n",
       "       17, 18, 19, 20, 21, 22, 23, 24, 25, 26, 27, 28, 29, 30, 31, 32, 33,\n",
       "       34, 35, 36, 37, 38, 39, 40, 41, 42, 43, 44, 45, 46, 47, 48, 49])"
      ]
     },
     "execution_count": 340,
     "metadata": {},
     "output_type": "execute_result"
    }
   ],
   "source": [
    "matt[matt<50] #to produce less than 50 elements"
   ]
  },
  {
   "cell_type": "code",
   "execution_count": 341,
   "id": "f6323be3-8319-476c-b2a8-fb30c90d5b93",
   "metadata": {},
   "outputs": [
    {
     "data": {
      "text/plain": [
       "array([ 0,  1,  2,  3,  4,  5,  6,  7,  8,  9, 10, 11, 12, 13, 14, 15, 16,\n",
       "       17, 18, 19, 20, 21, 22, 23, 24, 25, 26, 27, 28, 29, 30, 31, 32, 33,\n",
       "       34, 35, 36, 37, 38, 39, 40, 41, 42, 43, 44, 45, 46, 47, 48, 49, 50])"
      ]
     },
     "execution_count": 341,
     "metadata": {},
     "output_type": "execute_result"
    }
   ],
   "source": [
    "matt[matt<=50] #to produce less than and equal to "
   ]
  },
  {
   "cell_type": "code",
   "execution_count": null,
   "id": "c399a69f-aaca-44fc-8ff1-314a89ba1e36",
   "metadata": {},
   "outputs": [],
   "source": []
  }
 ],
 "metadata": {
  "kernelspec": {
   "display_name": "Python 3 (ipykernel)",
   "language": "python",
   "name": "python3"
  },
  "language_info": {
   "codemirror_mode": {
    "name": "ipython",
    "version": 3
   },
   "file_extension": ".py",
   "mimetype": "text/x-python",
   "name": "python",
   "nbconvert_exporter": "python",
   "pygments_lexer": "ipython3",
   "version": "3.12.4"
  }
 },
 "nbformat": 4,
 "nbformat_minor": 5
}
