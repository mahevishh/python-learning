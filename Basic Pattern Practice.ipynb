{
 "cells": [
  {
   "cell_type": "code",
   "execution_count": 4,
   "id": "cd7fd1d7-eec4-42cf-9434-3d4b830083b3",
   "metadata": {},
   "outputs": [
    {
     "name": "stdout",
     "output_type": "stream",
     "text": [
      "* * * * \n",
      "* * * * \n",
      "* * * * \n",
      "* * * * \n"
     ]
    }
   ],
   "source": [
    "# 1.Print a square of * of size n\n",
    "i = 1\n",
    "while i < 5:\n",
    "    print('*', end=\" \")\n",
    "    j = 1\n",
    "    while j < 4:\n",
    "        print('*', end=\" \")\n",
    "        j = j + 1\n",
    "    i = i + 1\n",
    "    print()\n"
   ]
  },
  {
   "cell_type": "code",
   "execution_count": 9,
   "id": "6c0940ec-1f15-4351-bc92-53c890500c5f",
   "metadata": {},
   "outputs": [
    {
     "name": "stdout",
     "output_type": "stream",
     "text": [
      "# \n",
      "# # \n",
      "# # # \n",
      "# # # # \n"
     ]
    }
   ],
   "source": [
    "# Print a left-aligned right triangle of #\n",
    "for i in range(4):\n",
    "    for j in range(i+1):\n",
    "        print(\"#\",end=\" \")\n",
    "    print()"
   ]
  },
  {
   "cell_type": "code",
   "execution_count": 18,
   "id": "62aebad7-6fa2-4806-835b-87e261a5e6c0",
   "metadata": {},
   "outputs": [
    {
     "name": "stdout",
     "output_type": "stream",
     "text": [
      "            0 1 \n",
      "          0 1 2 \n",
      "        0 1 2 3 \n",
      "      0 1 2 3 4 \n",
      "    0 1 2 3 4 5 \n",
      "  0 1 2 3 4 5 6 \n",
      "0 1 2 3 4 5 6 7 \n"
     ]
    }
   ],
   "source": [
    "# Print a right-aligned triangle of numbers\n",
    "row=7\n",
    "for i in range(1,row+1):\n",
    "    for s in range(row - i):\n",
    "        print(\" \", end=\" \")\n",
    "    for j in range(i+1):\n",
    "        print(j,end=\" \")\n",
    "    print()"
   ]
  },
  {
   "cell_type": "code",
   "execution_count": 27,
   "id": "cf94d286-dd8e-4e87-a42e-d31600304a68",
   "metadata": {},
   "outputs": [
    {
     "name": "stdout",
     "output_type": "stream",
     "text": [
      "1 \n",
      "2 2 \n",
      "3 3 3 \n",
      "4 4 4 4 \n"
     ]
    }
   ],
   "source": [
    "# Print a triangle with row number repeated\n",
    "i = 1\n",
    "while i <= 4:\n",
    "    j = 1\n",
    "    while j <= i:\n",
    "        print(i, end=\" \")\n",
    "        j += 1\n",
    "    print()\n",
    "    i += 1\n"
   ]
  },
  {
   "cell_type": "code",
   "execution_count": 31,
   "id": "3adb3be2-fa0b-4253-affc-89cae8f9cc34",
   "metadata": {},
   "outputs": [
    {
     "name": "stdout",
     "output_type": "stream",
     "text": [
      "1 \n",
      "2 2 \n",
      "3 3 3 \n",
      "4 4 4 4 \n"
     ]
    }
   ],
   "source": [
    "i = 1\n",
    "while i<=4:\n",
    "    j=1\n",
    "    while j<=i:\n",
    "        print(i,end=\" \")\n",
    "        j+=1\n",
    "    print()\n",
    "    i+=1"
   ]
  },
  {
   "cell_type": "code",
   "execution_count": 32,
   "id": "84c73882-bfff-4830-9b03-7f63be17354f",
   "metadata": {},
   "outputs": [
    {
     "name": "stdout",
     "output_type": "stream",
     "text": [
      "1 \n",
      "2 2 \n",
      "3 3 3 \n",
      "4 4 4 4 \n"
     ]
    }
   ],
   "source": [
    "n = 4\n",
    "for i in range(1, n + 1):\n",
    "    for j in range(i):\n",
    "        print(i, end=\" \")\n",
    "    print()"
   ]
  },
  {
   "cell_type": "code",
   "execution_count": 37,
   "id": "6da9afc5-61da-44f7-8a32-8ad3e6d684e6",
   "metadata": {},
   "outputs": [
    {
     "name": "stdout",
     "output_type": "stream",
     "text": [
      "A \n",
      "A B \n",
      "A B C \n",
      "A B C D \n",
      "A B C D E \n"
     ]
    }
   ],
   "source": [
    "i = 0\n",
    "while i<=4:\n",
    "    j=0\n",
    "    while j<=i:\n",
    "        print(chr(65+j),end=\" \")\n",
    "        j+=1\n",
    "    print()\n",
    "    i+=1"
   ]
  },
  {
   "cell_type": "code",
   "execution_count": 40,
   "id": "90a80492-6c3d-4932-abb2-492742dc7b24",
   "metadata": {},
   "outputs": [
    {
     "name": "stdout",
     "output_type": "stream",
     "text": [
      "A \n",
      "A B \n",
      "A B C \n",
      "A B C D \n"
     ]
    }
   ],
   "source": [
    "n = 4\n",
    "for i in range(1, n + 1):\n",
    "    for j in range(i):\n",
    "        print(chr(65 + j), end=\" \")\n",
    "    print()\n"
   ]
  },
  {
   "cell_type": "code",
   "execution_count": 45,
   "id": "cb70da8c-af93-4507-a67a-955dd511cf46",
   "metadata": {},
   "outputs": [
    {
     "name": "stdout",
     "output_type": "stream",
     "text": [
      "A B C D E F \n",
      "A B C D E \n",
      "A B C D \n",
      "A B C \n",
      "A B \n",
      "A \n",
      "\n"
     ]
    }
   ],
   "source": [
    "n = 7\n",
    "for i in range(1, n + 1):\n",
    "    for j in range(7-i):\n",
    "        print(chr(65 + j), end=\" \")\n",
    "    print()\n"
   ]
  },
  {
   "cell_type": "code",
   "execution_count": 48,
   "id": "fa7e26bd-26fb-488f-98cf-95abb91f5d36",
   "metadata": {},
   "outputs": [
    {
     "name": "stdout",
     "output_type": "stream",
     "text": [
      "* * * * \n",
      "* * * \n",
      "* * \n",
      "* \n"
     ]
    }
   ],
   "source": [
    "# Print an inverted triangle of *\n",
    "for i in range(4):\n",
    "    for j in range(4-i):\n",
    "        print(\"*\",end=\" \")\n",
    "    print()"
   ]
  },
  {
   "cell_type": "code",
   "execution_count": 51,
   "id": "8a9e12a9-26a0-47e7-9cae-b36ed2386976",
   "metadata": {},
   "outputs": [
    {
     "name": "stdout",
     "output_type": "stream",
     "text": [
      "@ @ @ @ @ @ \n",
      "@         @ \n",
      "@         @ \n",
      "@ @ @ @ @ @ \n"
     ]
    }
   ],
   "source": [
    "# Create a hollow rectangle of @\n",
    "rows=4\n",
    "col=6\n",
    "for i in range(rows):\n",
    "    for j in range(col):\n",
    "        if i!=0 and i!=rows-1 and j!=0 and j!=col-1:\n",
    "            print(\" \", end=\" \")\n",
    "            continue\n",
    "        print(\"@\",end=\" \")\n",
    "    print()"
   ]
  },
  {
   "cell_type": "code",
   "execution_count": 58,
   "id": "514ca2f8-c422-47dc-aa2d-70b96bd2ded1",
   "metadata": {},
   "outputs": [
    {
     "name": "stdout",
     "output_type": "stream",
     "text": [
      "1 \n",
      "2 3 \n",
      "3 4 5 \n",
      "4 5 6 7 \n",
      "5 6 7 8 9 \n"
     ]
    }
   ],
   "source": [
    "# Print a number triangle:\n",
    "for i in range(1,6):\n",
    "    for j in range(i):\n",
    "        print(i+j,end=\" \")\n",
    "        j+=1\n",
    "    print()"
   ]
  },
  {
   "cell_type": "code",
   "execution_count": null,
   "id": "16d26d7a-21a3-4f3a-8998-2dda6967adb1",
   "metadata": {},
   "outputs": [],
   "source": []
  }
 ],
 "metadata": {
  "kernelspec": {
   "display_name": "Python 3 (ipykernel)",
   "language": "python",
   "name": "python3"
  },
  "language_info": {
   "codemirror_mode": {
    "name": "ipython",
    "version": 3
   },
   "file_extension": ".py",
   "mimetype": "text/x-python",
   "name": "python",
   "nbconvert_exporter": "python",
   "pygments_lexer": "ipython3",
   "version": "3.12.4"
  }
 },
 "nbformat": 4,
 "nbformat_minor": 5
}
