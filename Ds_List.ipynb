{
 "cells": [
  {
   "cell_type": "markdown",
   "id": "191b3317-04a4-47fb-8970-d2dc154d8520",
   "metadata": {},
   "source": [
    "#### Data Structure\n",
    "## List"
   ]
  },
  {
   "cell_type": "code",
   "execution_count": 1,
   "id": "16ebbef3-6401-4de8-b03c-339a0b21976e",
   "metadata": {},
   "outputs": [],
   "source": [
    "# Creating a list\n",
    "l=[10,20,30,40,50]"
   ]
  },
  {
   "cell_type": "code",
   "execution_count": 2,
   "id": "56f771de-8475-4cc1-b421-80de01b2cb06",
   "metadata": {},
   "outputs": [
    {
     "name": "stdout",
     "output_type": "stream",
     "text": [
      "[10, 20, 30, 40, 50]\n"
     ]
    }
   ],
   "source": [
    "#printing list\n",
    "l \n",
    "#or\n",
    "print(l)"
   ]
  },
  {
   "cell_type": "code",
   "execution_count": 3,
   "id": "03d2ae50-a2ac-4058-8afd-f7f14c59f4ef",
   "metadata": {},
   "outputs": [
    {
     "data": {
      "text/plain": [
       "20"
      ]
     },
     "execution_count": 3,
     "metadata": {},
     "output_type": "execute_result"
    }
   ],
   "source": [
    "#accessing list items\n",
    "l[1] #positive indexing\n"
   ]
  },
  {
   "cell_type": "code",
   "execution_count": 4,
   "id": "d229e1cc-3522-4a5a-8ff6-1cd280d41a02",
   "metadata": {},
   "outputs": [
    {
     "data": {
      "text/plain": [
       "30"
      ]
     },
     "execution_count": 4,
     "metadata": {},
     "output_type": "execute_result"
    }
   ],
   "source": [
    "l[-3] #negative indexing\n"
   ]
  },
  {
   "cell_type": "code",
   "execution_count": 5,
   "id": "df03830b-0a7b-4f00-a341-7dc118506c92",
   "metadata": {},
   "outputs": [
    {
     "data": {
      "text/plain": [
       "[10, 20, 30]"
      ]
     },
     "execution_count": 5,
     "metadata": {},
     "output_type": "execute_result"
    }
   ],
   "source": [
    "#Slicing a list\n",
    "#(start:stop)\n",
    "l[:3] \n"
   ]
  },
  {
   "cell_type": "code",
   "execution_count": 6,
   "id": "132f5137-5b97-4c93-a3a6-645fbe56152b",
   "metadata": {},
   "outputs": [
    {
     "data": {
      "text/plain": [
       "[30, 40, 50]"
      ]
     },
     "execution_count": 6,
     "metadata": {},
     "output_type": "execute_result"
    }
   ],
   "source": [
    "l[2:]"
   ]
  },
  {
   "cell_type": "code",
   "execution_count": 7,
   "id": "1f138800-d05a-4217-96af-81869761e6d8",
   "metadata": {},
   "outputs": [
    {
     "data": {
      "text/plain": [
       "[30]"
      ]
     },
     "execution_count": 7,
     "metadata": {},
     "output_type": "execute_result"
    }
   ],
   "source": [
    "l[2:3]"
   ]
  },
  {
   "cell_type": "code",
   "execution_count": 8,
   "id": "791fdb05-9dd6-455f-a597-78a0a1f690bd",
   "metadata": {},
   "outputs": [
    {
     "data": {
      "text/plain": [
       "[10, 30]"
      ]
     },
     "execution_count": 8,
     "metadata": {},
     "output_type": "execute_result"
    }
   ],
   "source": [
    "#(start:stop:step)\n",
    "l[0:4:2]"
   ]
  },
  {
   "cell_type": "code",
   "execution_count": 9,
   "id": "1de42ca8-72e3-41c6-8832-84a383b34a82",
   "metadata": {},
   "outputs": [],
   "source": [
    "#Modifying list elements\n",
    "l[2]=100 # Change the value of specific index\n"
   ]
  },
  {
   "cell_type": "code",
   "execution_count": 10,
   "id": "d2d4b1e4-c941-4871-9ce1-e65f621b3341",
   "metadata": {},
   "outputs": [
    {
     "data": {
      "text/plain": [
       "[10, 20, 100, 40, 50]"
      ]
     },
     "execution_count": 10,
     "metadata": {},
     "output_type": "execute_result"
    }
   ],
   "source": [
    "l"
   ]
  },
  {
   "cell_type": "code",
   "execution_count": 11,
   "id": "ef30d8eb-74a8-4a6e-bc05-d6679d0047a3",
   "metadata": {},
   "outputs": [
    {
     "data": {
      "text/plain": [
       "[10, 20, 100, 40, 200]"
      ]
     },
     "execution_count": 11,
     "metadata": {},
     "output_type": "execute_result"
    }
   ],
   "source": [
    "l[-1]=200 #by using negative indexing\n",
    "l"
   ]
  },
  {
   "cell_type": "code",
   "execution_count": 12,
   "id": "bd1dd1b4-5828-4873-b94a-6d89b798e26c",
   "metadata": {},
   "outputs": [
    {
     "data": {
      "text/plain": [
       "[10, 20, 100, 40, 200, 300]"
      ]
     },
     "execution_count": 12,
     "metadata": {},
     "output_type": "execute_result"
    }
   ],
   "source": [
    "#Adding elements\n",
    "l.append(300) #using append()-Append object to the end of the list\n",
    "l"
   ]
  },
  {
   "cell_type": "code",
   "execution_count": 13,
   "id": "5b470045-0c2c-4298-ba91-98d3b663fa28",
   "metadata": {},
   "outputs": [
    {
     "data": {
      "text/plain": [
       "[10, 20, 400, 100, 40, 200, 300]"
      ]
     },
     "execution_count": 13,
     "metadata": {},
     "output_type": "execute_result"
    }
   ],
   "source": [
    "l.insert(2,400) #using insert(index number,value)- Insert object before index.\n",
    "l"
   ]
  },
  {
   "cell_type": "code",
   "execution_count": 14,
   "id": "6606463a-5278-425c-8043-72f43e596770",
   "metadata": {},
   "outputs": [
    {
     "data": {
      "text/plain": [
       "[50, 60, 70, 80, 90]"
      ]
     },
     "execution_count": 14,
     "metadata": {},
     "output_type": "execute_result"
    }
   ],
   "source": [
    "l2=[50,60,70,80,90]\n",
    "l2"
   ]
  },
  {
   "cell_type": "code",
   "execution_count": 15,
   "id": "231fcb83-b353-44fa-9608-05716bc4e9cd",
   "metadata": {},
   "outputs": [
    {
     "data": {
      "text/plain": [
       "[10, 20, 400, 100, 40, 200, 300, 50, 60, 70, 80, 90]"
      ]
     },
     "execution_count": 15,
     "metadata": {},
     "output_type": "execute_result"
    }
   ],
   "source": [
    "l.extend(l2) #using extend()-Extend list by appending elements from the iterable\n",
    "l"
   ]
  },
  {
   "cell_type": "code",
   "execution_count": 16,
   "id": "b8c04f54-1bc5-4343-a1cc-04a544725ecb",
   "metadata": {},
   "outputs": [
    {
     "data": {
      "text/plain": [
       "[10, 400, 100, 40, 200, 300, 50, 60, 70, 80, 90]"
      ]
     },
     "execution_count": 16,
     "metadata": {},
     "output_type": "execute_result"
    }
   ],
   "source": [
    "#Removing elements\n",
    "l.remove(20) #using remove()- Remove first occurrence of value.\n",
    "l"
   ]
  },
  {
   "cell_type": "code",
   "execution_count": 17,
   "id": "01c9d1fb-d6df-4f2f-870b-ebf853901407",
   "metadata": {},
   "outputs": [
    {
     "data": {
      "text/plain": [
       "[10, 100, 40, 200, 300, 50, 60, 70, 80, 90]"
      ]
     },
     "execution_count": 17,
     "metadata": {},
     "output_type": "execute_result"
    }
   ],
   "source": [
    "l.pop(1) #using pop()- Remove and return item at index (default last).\n",
    "l"
   ]
  },
  {
   "cell_type": "code",
   "execution_count": 18,
   "id": "f9236c79-98a2-4c3d-a3be-3ed101464de4",
   "metadata": {},
   "outputs": [],
   "source": [
    "del l #using del keyword- delete the entire list"
   ]
  },
  {
   "cell_type": "code",
   "execution_count": 19,
   "id": "dea5c2a8-ebf8-436d-8d3e-c6a1406b3cc5",
   "metadata": {},
   "outputs": [
    {
     "ename": "NameError",
     "evalue": "name 'l' is not defined",
     "output_type": "error",
     "traceback": [
      "\u001b[1;31m---------------------------------------------------------------------------\u001b[0m",
      "\u001b[1;31mNameError\u001b[0m                                 Traceback (most recent call last)",
      "Cell \u001b[1;32mIn[19], line 1\u001b[0m\n\u001b[1;32m----> 1\u001b[0m \u001b[43ml\u001b[49m\n",
      "\u001b[1;31mNameError\u001b[0m: name 'l' is not defined"
     ]
    }
   ],
   "source": [
    "l"
   ]
  },
  {
   "cell_type": "code",
   "execution_count": 20,
   "id": "b579235a-48a5-44f9-aeca-afe037e37ae6",
   "metadata": {},
   "outputs": [],
   "source": [
    "l2.clear() #using clear()-Remove all items from list."
   ]
  },
  {
   "cell_type": "code",
   "execution_count": 21,
   "id": "05929e70-1a56-4d41-ba22-0066827c9b0b",
   "metadata": {},
   "outputs": [
    {
     "data": {
      "text/plain": [
       "[]"
      ]
     },
     "execution_count": 21,
     "metadata": {},
     "output_type": "execute_result"
    }
   ],
   "source": [
    "l2"
   ]
  },
  {
   "cell_type": "code",
   "execution_count": 22,
   "id": "48694442-e6c1-4e98-a175-0b4ee4ffebea",
   "metadata": {},
   "outputs": [],
   "source": [
    "#List operations\n",
    "list1=[\"one\",\"two\",\"three\",\"four\"]\n",
    "list2=[\"five\",\"six\",\"seven\",\"eight\"]\n"
   ]
  },
  {
   "cell_type": "code",
   "execution_count": 23,
   "id": "f4dcf242-5465-455a-8b43-e5800ae2a68b",
   "metadata": {},
   "outputs": [
    {
     "data": {
      "text/plain": [
       "(['one', 'two', 'three', 'four'], ['five', 'six', 'seven', 'eight'])"
      ]
     },
     "execution_count": 23,
     "metadata": {},
     "output_type": "execute_result"
    }
   ],
   "source": [
    "list1,list2"
   ]
  },
  {
   "cell_type": "code",
   "execution_count": 24,
   "id": "ca8d7cc3-ea4b-49d2-92bb-5d09112d615c",
   "metadata": {},
   "outputs": [
    {
     "data": {
      "text/plain": [
       "['one', 'two', 'three', 'four', 'five', 'six', 'seven', 'eight']"
      ]
     },
     "execution_count": 24,
     "metadata": {},
     "output_type": "execute_result"
    }
   ],
   "source": [
    "#+ (concatenation)\n",
    "list3=list1+list2\n",
    "list3"
   ]
  },
  {
   "cell_type": "code",
   "execution_count": 25,
   "id": "ab7418c0-ee3e-4f90-9a6f-6a4abaf72bf0",
   "metadata": {},
   "outputs": [
    {
     "data": {
      "text/plain": [
       "['one',\n",
       " 'two',\n",
       " 'three',\n",
       " 'four',\n",
       " 'one',\n",
       " 'two',\n",
       " 'three',\n",
       " 'four',\n",
       " 'one',\n",
       " 'two',\n",
       " 'three',\n",
       " 'four']"
      ]
     },
     "execution_count": 25,
     "metadata": {},
     "output_type": "execute_result"
    }
   ],
   "source": [
    "#* (repetition)\n",
    "list4=list1*3\n",
    "list4"
   ]
  },
  {
   "cell_type": "code",
   "execution_count": 26,
   "id": "835fd6ff-86f4-4a03-8a44-79082a7de4d3",
   "metadata": {},
   "outputs": [
    {
     "data": {
      "text/plain": [
       "True"
      ]
     },
     "execution_count": 26,
     "metadata": {},
     "output_type": "execute_result"
    }
   ],
   "source": [
    "#membership (in)\n",
    "\"one\" in list1"
   ]
  },
  {
   "cell_type": "code",
   "execution_count": 27,
   "id": "be9dba0f-f687-4258-b5a3-59a44c2f40fa",
   "metadata": {},
   "outputs": [
    {
     "data": {
      "text/plain": [
       "False"
      ]
     },
     "execution_count": 27,
     "metadata": {},
     "output_type": "execute_result"
    }
   ],
   "source": [
    "\"five\" in list1"
   ]
  },
  {
   "cell_type": "code",
   "execution_count": 28,
   "id": "6638bb2d-29c2-40f0-93e4-e1867b3b698c",
   "metadata": {},
   "outputs": [
    {
     "name": "stdout",
     "output_type": "stream",
     "text": [
      "one\n",
      "two\n",
      "three\n",
      "four\n"
     ]
    }
   ],
   "source": [
    "#Looping through a list\n",
    "#for-loop\n",
    "for i in list1:\n",
    "    print(i)\n",
    "    "
   ]
  },
  {
   "cell_type": "code",
   "execution_count": 30,
   "id": "9b9d0634-e536-4e6a-bdf4-28f433400cea",
   "metadata": {},
   "outputs": [
    {
     "name": "stdout",
     "output_type": "stream",
     "text": [
      "one\n",
      "two\n",
      "three\n",
      "four\n"
     ]
    }
   ],
   "source": [
    "#while-loop\n",
    "i=0\n",
    "while i< len(list1):\n",
    "    print(list1[i])\n",
    "    i+=1"
   ]
  },
  {
   "cell_type": "code",
   "execution_count": 33,
   "id": "a79baae2-a26d-48f0-a920-0f73e419fc86",
   "metadata": {},
   "outputs": [
    {
     "name": "stdout",
     "output_type": "stream",
     "text": [
      "square: [4, 9, 16, 25, 36, 49]\n"
     ]
    }
   ],
   "source": [
    "#List comprehension\n",
    "#Square each number in a list\n",
    "l=[2,3,4,5,6,7]\n",
    "square=[x**2 for x in l]\n",
    "print(\"square:\",square)"
   ]
  },
  {
   "cell_type": "code",
   "execution_count": 34,
   "id": "dde3f9be-5b19-43e5-84c3-95acffb12923",
   "metadata": {},
   "outputs": [
    {
     "name": "stdout",
     "output_type": "stream",
     "text": [
      "the even numbers: [2, 4, 6]\n"
     ]
    }
   ],
   "source": [
    "#Get only even numbers from a list\n",
    "even_num=[x for x in l if x%2==0]\n",
    "print(\"the even numbers:\",even_num)"
   ]
  },
  {
   "cell_type": "code",
   "execution_count": 38,
   "id": "c97cdfdd-c28f-4c71-aab2-5a942933b8a3",
   "metadata": {},
   "outputs": [
    {
     "data": {
      "text/plain": [
       "['apple', 'mango', 'grape', 'banana']"
      ]
     },
     "execution_count": 38,
     "metadata": {},
     "output_type": "execute_result"
    }
   ],
   "source": [
    "# Convert all strings to uppercase\n",
    "fruits=[\"apple\",\"mango\",\"grape\",\"banana\"]\n",
    "fruits"
   ]
  },
  {
   "cell_type": "code",
   "execution_count": 40,
   "id": "c4d5ef7d-0686-4020-903b-400294a84fc7",
   "metadata": {},
   "outputs": [
    {
     "name": "stdout",
     "output_type": "stream",
     "text": [
      "['APPLE', 'MANGO', 'GRAPE', 'BANANA']\n"
     ]
    }
   ],
   "source": [
    "upp_fruits=[fruit.upper() for fruit in fruits]\n",
    "print(upp_fruits)"
   ]
  },
  {
   "cell_type": "code",
   "execution_count": 42,
   "id": "8f3fe5c8-aa6e-41f8-b544-8df93ab0d533",
   "metadata": {},
   "outputs": [
    {
     "name": "stdout",
     "output_type": "stream",
     "text": [
      "[3, 6, 9, 12, 15]\n"
     ]
    }
   ],
   "source": [
    "#Multiply all numbers by 3 using a range\n",
    "triples=[x*3 for x in range(1,6)]\n",
    "print(triples)"
   ]
  },
  {
   "cell_type": "code",
   "execution_count": 48,
   "id": "a149b022-32f8-4d44-85d8-dbb8e4281d75",
   "metadata": {},
   "outputs": [
    {
     "data": {
      "text/plain": [
       "[1, 4, 5, 2, 6, 3]"
      ]
     },
     "execution_count": 48,
     "metadata": {},
     "output_type": "execute_result"
    }
   ],
   "source": [
    "#Sorting a list\n",
    "l=[1,4,5,2,6,3]\n",
    "l"
   ]
  },
  {
   "cell_type": "code",
   "execution_count": 45,
   "id": "731085a9-2935-493f-82ab-48b542cf2855",
   "metadata": {},
   "outputs": [
    {
     "data": {
      "text/plain": [
       "[1, 2, 3, 4, 5, 6]"
      ]
     },
     "execution_count": 45,
     "metadata": {},
     "output_type": "execute_result"
    }
   ],
   "source": [
    "l.sort() #using sort()-Sort the list in ascending order and return None.\n",
    "l"
   ]
  },
  {
   "cell_type": "code",
   "execution_count": 49,
   "id": "346fff39-2d75-4e73-a0dc-4f6b5e9d1980",
   "metadata": {},
   "outputs": [
    {
     "data": {
      "text/plain": [
       "[1, 4, 5, 2, 6, 3]"
      ]
     },
     "execution_count": 49,
     "metadata": {},
     "output_type": "execute_result"
    }
   ],
   "source": [
    "l"
   ]
  },
  {
   "cell_type": "code",
   "execution_count": 52,
   "id": "3954b0d1-e3dc-4a6b-b1a2-c91677d98cb8",
   "metadata": {},
   "outputs": [
    {
     "data": {
      "text/plain": [
       "[1, 2, 3, 4, 5, 6]"
      ]
     },
     "execution_count": 52,
     "metadata": {},
     "output_type": "execute_result"
    }
   ],
   "source": [
    "sorted_list=sorted(l) #Return a new list containing all items from the iterable in ascending order\n",
    "sorted_list"
   ]
  },
  {
   "cell_type": "code",
   "execution_count": 54,
   "id": "0f9a26df-67ef-4777-8a3e-44311e3a4c48",
   "metadata": {},
   "outputs": [
    {
     "data": {
      "text/plain": [
       "[6, 5, 4, 3, 2, 1]"
      ]
     },
     "execution_count": 54,
     "metadata": {},
     "output_type": "execute_result"
    }
   ],
   "source": [
    "l.sort(reverse=True) #reverse sorting\n",
    "l"
   ]
  },
  {
   "cell_type": "code",
   "execution_count": 56,
   "id": "624a90cd-ef1f-447a-a6a4-faef583128d6",
   "metadata": {},
   "outputs": [
    {
     "data": {
      "text/plain": [
       "6"
      ]
     },
     "execution_count": 56,
     "metadata": {},
     "output_type": "execute_result"
    }
   ],
   "source": [
    "#Finding length and index\n",
    "len(l) #using len()-Return the number of items in a container.\n"
   ]
  },
  {
   "cell_type": "code",
   "execution_count": 58,
   "id": "29960056-c213-4500-8cb1-97245ab86690",
   "metadata": {},
   "outputs": [
    {
     "data": {
      "text/plain": [
       "4"
      ]
     },
     "execution_count": 58,
     "metadata": {},
     "output_type": "execute_result"
    }
   ],
   "source": [
    "l.index(2) #Return first index of value"
   ]
  },
  {
   "cell_type": "code",
   "execution_count": 59,
   "id": "5191cc62-265f-421c-b7d0-c18fbd78e5ce",
   "metadata": {},
   "outputs": [
    {
     "data": {
      "text/plain": [
       "1"
      ]
     },
     "execution_count": 59,
     "metadata": {},
     "output_type": "execute_result"
    }
   ],
   "source": [
    "l.count(2) #Return number of occurrences of value."
   ]
  },
  {
   "cell_type": "code",
   "execution_count": 62,
   "id": "4b8fb4f7-4a3b-4f0f-86a4-fc8c93ffe2cc",
   "metadata": {},
   "outputs": [
    {
     "data": {
      "text/plain": [
       "[6, 5, 4, 3, 2, 1]"
      ]
     },
     "execution_count": 62,
     "metadata": {},
     "output_type": "execute_result"
    }
   ],
   "source": [
    "#Copying a list\n",
    "l2=l.copy()\n",
    "l2"
   ]
  },
  {
   "cell_type": "code",
   "execution_count": 64,
   "id": "05c504cb-26e5-4bb5-bde3-41091514e7a5",
   "metadata": {},
   "outputs": [
    {
     "data": {
      "text/plain": [
       "[[1, 2], [3, 4], [5], 6]"
      ]
     },
     "execution_count": 64,
     "metadata": {},
     "output_type": "execute_result"
    }
   ],
   "source": [
    "#Nested lists\n",
    "#creating \n",
    "l3=[[1,2],[3,4],[5],6]\n",
    "l3"
   ]
  },
  {
   "cell_type": "code",
   "execution_count": 65,
   "id": "90aabc40-15ad-4c0e-8550-65e1fd59bc12",
   "metadata": {},
   "outputs": [
    {
     "data": {
      "text/plain": [
       "1"
      ]
     },
     "execution_count": 65,
     "metadata": {},
     "output_type": "execute_result"
    }
   ],
   "source": [
    "#access elements inside a list of lists\n",
    "l3[0][0]"
   ]
  },
  {
   "cell_type": "code",
   "execution_count": 66,
   "id": "449dcbe0-9038-49f4-9a4a-e0342a33c371",
   "metadata": {},
   "outputs": [
    {
     "data": {
      "text/plain": [
       "2"
      ]
     },
     "execution_count": 66,
     "metadata": {},
     "output_type": "execute_result"
    }
   ],
   "source": [
    "l3[0][1]"
   ]
  },
  {
   "cell_type": "code",
   "execution_count": 68,
   "id": "7ab6f3d1-7227-4cd2-863e-cac42abc3801",
   "metadata": {},
   "outputs": [
    {
     "name": "stdout",
     "output_type": "stream",
     "text": [
      "yes\n"
     ]
    }
   ],
   "source": [
    "#Using lists with if conditions\n",
    "if 6 in l3:\n",
    "    print(\"yes\")\n",
    "else:\n",
    "    print(\"no\")"
   ]
  },
  {
   "cell_type": "code",
   "execution_count": 69,
   "id": "5c0b7409-7acc-4fd8-bc23-b0797ea23761",
   "metadata": {},
   "outputs": [
    {
     "name": "stdout",
     "output_type": "stream",
     "text": [
      "no\n"
     ]
    }
   ],
   "source": [
    "if 7 in l3:\n",
    "    print(\"yes\")\n",
    "else:\n",
    "    print(\"no\")"
   ]
  },
  {
   "cell_type": "code",
   "execution_count": null,
   "id": "41ce9862-01af-47b3-878d-fcb53960d233",
   "metadata": {},
   "outputs": [],
   "source": []
  }
 ],
 "metadata": {
  "kernelspec": {
   "display_name": "Python 3 (ipykernel)",
   "language": "python",
   "name": "python3"
  },
  "language_info": {
   "codemirror_mode": {
    "name": "ipython",
    "version": 3
   },
   "file_extension": ".py",
   "mimetype": "text/x-python",
   "name": "python",
   "nbconvert_exporter": "python",
   "pygments_lexer": "ipython3",
   "version": "3.12.4"
  }
 },
 "nbformat": 4,
 "nbformat_minor": 5
}
