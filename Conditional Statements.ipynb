{
 "cells": [
  {
   "cell_type": "markdown",
   "id": "3de969cb-a324-4b72-8132-476465984974",
   "metadata": {},
   "source": [
    "#### If Conditional Statement"
   ]
  },
  {
   "cell_type": "code",
   "execution_count": 4,
   "id": "fa6b2d59-70b3-406f-ac2a-b0add3f9332a",
   "metadata": {},
   "outputs": [
    {
     "name": "stdout",
     "output_type": "stream",
     "text": [
      "is a teenage\n"
     ]
    }
   ],
   "source": [
    "age = 19\n",
    "if age>18:\n",
    "    print(\"is a teenage\")"
   ]
  },
  {
   "cell_type": "code",
   "execution_count": 5,
   "id": "9e3f24d8-274a-4849-9c67-96746b8ba507",
   "metadata": {},
   "outputs": [],
   "source": [
    "age = 5\n",
    "if age>18:\n",
    "    print(\"is a teenage\") #won't print anything"
   ]
  },
  {
   "cell_type": "code",
   "execution_count": 6,
   "id": "a5a8dddb-3229-4a28-824f-001622d3f6df",
   "metadata": {},
   "outputs": [
    {
     "name": "stdout",
     "output_type": "stream",
     "text": [
      "is a teenage\n"
     ]
    }
   ],
   "source": [
    "age = 19\n",
    "if age>18: print(\"is a teenage\")"
   ]
  },
  {
   "cell_type": "markdown",
   "id": "e3163c2c-75c4-4c01-a16f-bf2346294ae6",
   "metadata": {},
   "source": [
    "#### If else Conditional Statements"
   ]
  },
  {
   "cell_type": "code",
   "execution_count": 8,
   "id": "496ea071-f069-4a55-ba52-fe449861691e",
   "metadata": {},
   "outputs": [
    {
     "name": "stdout",
     "output_type": "stream",
     "text": [
      "b is greater than a\n"
     ]
    }
   ],
   "source": [
    "a=5\n",
    "b=6\n",
    "if(a>b):\n",
    "    print(\"a is greater than b\")\n",
    "else:\n",
    "    print(\"b is greater than a\")"
   ]
  },
  {
   "cell_type": "markdown",
   "id": "5e238fdb-1cb9-4a01-967f-2f10fe94a69b",
   "metadata": {},
   "source": [
    "#### elif Statement"
   ]
  },
  {
   "cell_type": "code",
   "execution_count": 9,
   "id": "b4110f98-bc3e-4cc2-ae97-e6d64c6d024f",
   "metadata": {},
   "outputs": [
    {
     "name": "stdout",
     "output_type": "stream",
     "text": [
      "c is greater than both a and b\n"
     ]
    }
   ],
   "source": [
    "a=4\n",
    "b=5\n",
    "c=6\n",
    "if(a>b & a>c):\n",
    "    print(\"a is greater than both b and c\")\n",
    "elif(b>a & b>c):\n",
    "    print(\"b is greater than both a and c\")\n",
    "else:\n",
    "    print(\"c is greater than both a and b\")"
   ]
  },
  {
   "cell_type": "code",
   "execution_count": 11,
   "id": "a5918b7e-27d7-48ef-b6fd-460af328b393",
   "metadata": {},
   "outputs": [
    {
     "name": "stdout",
     "output_type": "stream",
     "text": [
      "is Young adult.\n"
     ]
    }
   ],
   "source": [
    "age = 33\n",
    "\n",
    "if age <= 12:\n",
    "    print(\"is a Child.\")\n",
    "elif age <= 19:\n",
    "    print(\"is a Teenager.\")\n",
    "elif age <= 35:\n",
    "    print(\"is Young adult.\")\n",
    "else:\n",
    "    print(\"is an Adult.\")"
   ]
  },
  {
   "cell_type": "markdown",
   "id": "1bdf9474-b56c-4beb-aa8a-091d00d0093b",
   "metadata": {},
   "source": [
    "#### Nested if..else Conditional Statements"
   ]
  },
  {
   "cell_type": "code",
   "execution_count": 13,
   "id": "81c0ea04-ad38-4a6d-8ba8-b2a011316833",
   "metadata": {},
   "outputs": [
    {
     "name": "stdout",
     "output_type": "stream",
     "text": [
      "c is greater than a and b\n"
     ]
    }
   ],
   "source": [
    "a = 9\n",
    "b = 8\n",
    "c = 10\n",
    "\n",
    "if a > b:\n",
    "    if a > c:\n",
    "        print(\"a is the greatest\")\n",
    "    else:\n",
    "        print(\"c is greater than a and b\")\n",
    "else:\n",
    "    if b > c:\n",
    "        print(\"b is the greatest\")\n",
    "    else:\n",
    "        print(\"c is the greatest\")\n"
   ]
  },
  {
   "cell_type": "markdown",
   "id": "973bb8bc-6d32-4411-9c59-716a7e110adb",
   "metadata": {},
   "source": [
    "#### Match-Case Statement"
   ]
  },
  {
   "cell_type": "code",
   "execution_count": 15,
   "id": "c67c4790-b8e1-43cf-9b1e-051fdc7b2c51",
   "metadata": {},
   "outputs": [
    {
     "name": "stdout",
     "output_type": "stream",
     "text": [
      "it's 4 or 5\n"
     ]
    }
   ],
   "source": [
    "a = 5\n",
    "match a:\n",
    "    case 1:\n",
    "        print(\"it's 1\")\n",
    "    case 2|3:\n",
    "        print(\"it's 2 or 3\")\n",
    "    case 4|5:\n",
    "        print(\"it's 4 or 5\")\n",
    "    case _:\n",
    "        print(\"it's some other number\")"
   ]
  },
  {
   "cell_type": "markdown",
   "id": "db9a1a60-cbff-45f2-9fec-3bfaee368af0",
   "metadata": {},
   "source": [
    "#### Even and Odd program"
   ]
  },
  {
   "cell_type": "code",
   "execution_count": 16,
   "id": "cbf4f01a-e234-4297-afdf-b0c765c158b0",
   "metadata": {},
   "outputs": [
    {
     "name": "stdout",
     "output_type": "stream",
     "text": [
      "the number is even\n"
     ]
    }
   ],
   "source": [
    "num = 6\n",
    "if num%2==0:\n",
    "    print(\"the number is even\")\n",
    "else:\n",
    "    print(\"the number is odd\")"
   ]
  },
  {
   "cell_type": "code",
   "execution_count": 17,
   "id": "726d3352-92cf-4902-8c7e-d97525c18613",
   "metadata": {},
   "outputs": [
    {
     "name": "stdout",
     "output_type": "stream",
     "text": [
      "the number is odd\n"
     ]
    }
   ],
   "source": [
    "num = 7\n",
    "if num%2==0:\n",
    "    print(\"the number is even\")\n",
    "else:\n",
    "    print(\"the number is odd\")"
   ]
  },
  {
   "cell_type": "code",
   "execution_count": 18,
   "id": "98a8b1ef-3f2b-47ed-84ae-ad49272620e9",
   "metadata": {},
   "outputs": [
    {
     "name": "stdout",
     "output_type": "stream",
     "text": [
      "the number is even\n"
     ]
    }
   ],
   "source": [
    "num = 6\n",
    "if num%2!=0:\n",
    "    print(\"the number is odd\")\n",
    "else:\n",
    "    print(\"the number is even\")"
   ]
  },
  {
   "cell_type": "markdown",
   "id": "461a21af-3b60-451e-bb93-0f03d99e1595",
   "metadata": {},
   "source": [
    "#### Check the status program"
   ]
  },
  {
   "cell_type": "code",
   "execution_count": 24,
   "id": "03ba220d-8620-4335-b088-c2f5e4fce6be",
   "metadata": {},
   "outputs": [
    {
     "name": "stdout",
     "output_type": "stream",
     "text": [
      "False\n"
     ]
    }
   ],
   "source": [
    "a = 5\n",
    "b = 6\n",
    "flag = True\n",
    "\n",
    "def check_status(a, b, flag):\n",
    "    if flag:\n",
    "        if a < 0 and b < 0:\n",
    "            return True\n",
    "    else:\n",
    "        if (a >= 0 and b < 0) or (a < 0 and b >= 0):\n",
    "            return True\n",
    "    return False\n",
    "\n",
    "print(check_status(a, b, flag))\n"
   ]
  },
  {
   "cell_type": "code",
   "execution_count": 25,
   "id": "babd21bd-0c95-484c-b8b4-013e661753e5",
   "metadata": {},
   "outputs": [
    {
     "name": "stdout",
     "output_type": "stream",
     "text": [
      "True\n"
     ]
    }
   ],
   "source": [
    "a = -5\n",
    "b = -6\n",
    "flag = True\n",
    "\n",
    "def check_status(a, b, flag):\n",
    "    if flag:\n",
    "        if a < 0 and b < 0:\n",
    "            return True\n",
    "    else:\n",
    "        if (a >= 0 and b < 0) or (a < 0 and b >= 0):\n",
    "            return True\n",
    "    return False\n",
    "\n",
    "print(check_status(a, b, flag))\n"
   ]
  },
  {
   "cell_type": "code",
   "execution_count": 30,
   "id": "3c3e2e0c-1a63-4154-9615-5ad47dbbe8e9",
   "metadata": {},
   "outputs": [
    {
     "name": "stdout",
     "output_type": "stream",
     "text": [
      "True\n"
     ]
    }
   ],
   "source": [
    "str = 'catinhat'\n",
    "cat = str.count('cat')\n",
    "hat = str.count('hat')\n",
    "if cat==hat:\n",
    "    print(True)\n",
    "else:\n",
    "    print(False)"
   ]
  },
  {
   "cell_type": "code",
   "execution_count": 31,
   "id": "e0fea4e0-63f4-4412-90c6-3038d3e91ab3",
   "metadata": {},
   "outputs": [
    {
     "name": "stdout",
     "output_type": "stream",
     "text": [
      "False\n"
     ]
    }
   ],
   "source": [
    "str = 'catcatinhat'\n",
    "cat = str.count('cat')\n",
    "hat = str.count('hat')\n",
    "if cat==hat:\n",
    "    print(True)\n",
    "else:\n",
    "    print(False)"
   ]
  },
  {
   "cell_type": "markdown",
   "id": "69e9b928-e937-4f62-90c8-a3553136ed17",
   "metadata": {},
   "source": [
    "#### The Else Statement"
   ]
  },
  {
   "cell_type": "code",
   "execution_count": 34,
   "id": "b35a938c-a167-4b49-b315-63137ad6d806",
   "metadata": {},
   "outputs": [
    {
     "name": "stdout",
     "output_type": "stream",
     "text": [
      "Number\n"
     ]
    }
   ],
   "source": [
    "a = 10\n",
    "if 10>100:\n",
    "    print(\"BIG\")\n",
    "else:\n",
    "    print(\"Number\")"
   ]
  },
  {
   "cell_type": "markdown",
   "id": "b5ba046c-1c19-4181-b517-beb7bf905cb4",
   "metadata": {},
   "source": [
    "#### The FizzBuzz Program"
   ]
  },
  {
   "cell_type": "code",
   "execution_count": 39,
   "id": "b97753f6-7d32-4a30-b90f-d1e943b2d93c",
   "metadata": {},
   "outputs": [
    {
     "name": "stdout",
     "output_type": "stream",
     "text": [
      "fizz\n"
     ]
    }
   ],
   "source": [
    "num = 3\n",
    "if num%3==0:\n",
    "    print(\"fizz\")\n",
    "elif num%5==0:\n",
    "    print(\"Buzz\")\n",
    "elif num%3==0 and num%5==0:\n",
    "    print(\"FizzBuzz\")"
   ]
  },
  {
   "cell_type": "code",
   "execution_count": 40,
   "id": "df1377c0-90ed-42be-9f9e-30b3fdeeda18",
   "metadata": {},
   "outputs": [
    {
     "name": "stdout",
     "output_type": "stream",
     "text": [
      "Buzz\n"
     ]
    }
   ],
   "source": [
    "num = 10\n",
    "if num%3==0:\n",
    "    print(\"fizz\")\n",
    "elif num%5==0:\n",
    "    print(\"Buzz\")\n",
    "elif num%3==0 and num%5==0:\n",
    "    print(\"FizzBuzz\")"
   ]
  },
  {
   "cell_type": "code",
   "execution_count": 42,
   "id": "fec1d4b9-c2e2-457a-8bf3-37d588ae7cca",
   "metadata": {},
   "outputs": [
    {
     "name": "stdout",
     "output_type": "stream",
     "text": [
      "fizzBuzz\n"
     ]
    }
   ],
   "source": [
    "num = 15\n",
    "if num%3==0 and num%5==0:\n",
    "    print(\"fizzBuzz\")\n",
    "elif num%5==0:\n",
    "    print(\"Buzz\")\n",
    "elif num%3==0:\n",
    "    print(\"Fizz\")"
   ]
  },
  {
   "cell_type": "markdown",
   "id": "e876b651-4abb-4c89-9bb4-1a8d9572d0e0",
   "metadata": {},
   "source": [
    "### Even Odd Game"
   ]
  },
  {
   "cell_type": "code",
   "execution_count": 46,
   "id": "fa1c11ce-8271-466b-a471-bfb33f97a7ec",
   "metadata": {},
   "outputs": [
    {
     "name": "stdout",
     "output_type": "stream",
     "text": [
      "you\n"
     ]
    }
   ],
   "source": [
    "n = 9\n",
    "if n%2==0:\n",
    "    print(\"friend\")\n",
    "else:\n",
    "    print(\"you\")"
   ]
  },
  {
   "cell_type": "code",
   "execution_count": 47,
   "id": "8f7c90ec-364c-4e21-a172-e2918e468c0d",
   "metadata": {},
   "outputs": [
    {
     "name": "stdout",
     "output_type": "stream",
     "text": [
      "friend\n"
     ]
    }
   ],
   "source": [
    "n = 10\n",
    "if n%2==0:\n",
    "    print(\"friend\")\n",
    "else:\n",
    "    print(\"you\")"
   ]
  },
  {
   "cell_type": "markdown",
   "id": "1293d2c3-a04d-4662-9c41-3bd4146b80e8",
   "metadata": {},
   "source": [
    "### Odd or Even"
   ]
  },
  {
   "cell_type": "code",
   "execution_count": 50,
   "id": "05234fae-bceb-439f-ac21-e8c3a2665211",
   "metadata": {},
   "outputs": [
    {
     "name": "stdout",
     "output_type": "stream",
     "text": [
      "False\n"
     ]
    }
   ],
   "source": [
    "n = 15\n",
    "if n%2!=0:\n",
    "    print(False)\n",
    "else:\n",
    "    print(True)"
   ]
  },
  {
   "cell_type": "code",
   "execution_count": 51,
   "id": "9e3897d7-9432-42b8-b40a-6a049eafac6c",
   "metadata": {},
   "outputs": [
    {
     "name": "stdout",
     "output_type": "stream",
     "text": [
      "True\n"
     ]
    }
   ],
   "source": [
    "n = 4\n",
    "if n%2!=0:\n",
    "    print(False)\n",
    "else:\n",
    "    print(True)"
   ]
  },
  {
   "cell_type": "markdown",
   "id": "55c14fe3-e2fb-49ec-bf2d-4409ad0d3b52",
   "metadata": {},
   "source": [
    "### Greatest of Three"
   ]
  },
  {
   "cell_type": "code",
   "execution_count": 52,
   "id": "5c4b655d-dba9-47b1-bdaf-bcc01f66b28a",
   "metadata": {},
   "outputs": [
    {
     "name": "stdout",
     "output_type": "stream",
     "text": [
      "b is greatest\n"
     ]
    }
   ],
   "source": [
    "a = 6\n",
    "b = 7\n",
    "c = 5\n",
    "if a>b and a>c:\n",
    "    print(\"a is greatest\")\n",
    "elif b>a and b>c:\n",
    "    print(\"b is greatest\")\n",
    "else:\n",
    "    print(\"c is greatest\")"
   ]
  },
  {
   "cell_type": "markdown",
   "id": "2c454e92-d651-43ad-9ec1-1a7cbbf21e02",
   "metadata": {},
   "source": [
    "### Leap Year"
   ]
  },
  {
   "cell_type": "code",
   "execution_count": 54,
   "id": "3b246374-01ad-45bc-a583-6ae5e18bf33a",
   "metadata": {},
   "outputs": [
    {
     "name": "stdout",
     "output_type": "stream",
     "text": [
      "2024 is a leap year\n"
     ]
    }
   ],
   "source": [
    "year = 2024\n",
    "\n",
    "if (year % 4 == 0):\n",
    "    if (year % 100 == 0):\n",
    "        if (year % 400 == 0):\n",
    "            print(year, \"is a leap year\")\n",
    "        else:\n",
    "            print(year, \"is not a leap year\")\n",
    "    else:\n",
    "        print(year, \"is a leap year\")\n",
    "else:\n",
    "    print(year, \"is not a leap year\")\n"
   ]
  },
  {
   "cell_type": "code",
   "execution_count": 55,
   "id": "1d7a84b9-ebbb-40f0-a399-e10061740da7",
   "metadata": {},
   "outputs": [
    {
     "name": "stdout",
     "output_type": "stream",
     "text": [
      "2022 is not a leap year\n"
     ]
    }
   ],
   "source": [
    "year = 2022\n",
    "\n",
    "if (year % 4 == 0):\n",
    "    if (year % 100 == 0):\n",
    "        if (year % 400 == 0):\n",
    "            print(year, \"is a leap year\")\n",
    "        else:\n",
    "            print(year, \"is not a leap year\")\n",
    "    else:\n",
    "        print(year, \"is a leap year\")\n",
    "else:\n",
    "    print(year, \"is not a leap year\")\n"
   ]
  },
  {
   "cell_type": "markdown",
   "id": "e60b47c3-54a2-481b-9c3c-761846573113",
   "metadata": {},
   "source": [
    "### Calculator"
   ]
  },
  {
   "cell_type": "code",
   "execution_count": 57,
   "id": "5b29c74d-c3af-4616-8864-3400cb54d2da",
   "metadata": {},
   "outputs": [
    {
     "name": "stdin",
     "output_type": "stream",
     "text": [
      "enter first number 6\n",
      "enter second number 2\n",
      "enter operator (+,-,*,/,//,%,** -\n"
     ]
    },
    {
     "name": "stdout",
     "output_type": "stream",
     "text": [
      "result 4\n"
     ]
    }
   ],
   "source": [
    "num1 = int(input(\"enter first number\"))\n",
    "num2 = int(input(\"enter second number\"))\n",
    "op = input(\"enter operator (+,-,*,/,//,%,**\")\n",
    "if op=='+':\n",
    "    print(\"result\",num1+num2)\n",
    "elif op=='-':\n",
    "    print(\"result\",num1-num2)\n",
    "elif op=='*':\n",
    "    print(\"result\",num1*num2)  \n",
    "elif op=='/':\n",
    "    print(\"result\",num1/num2)\n",
    "elif op=='//':\n",
    "    print(\"result\",num1//num2)\n",
    "elif op=='%':\n",
    "    print(\"result\",num1%num2)\n",
    "elif op=='**':\n",
    "    print(\"result\",num1**num2)\n",
    "else:\n",
    "    print(\"invalid symbol\")"
   ]
  },
  {
   "cell_type": "markdown",
   "id": "533ee592-af02-4bc0-92cc-af9fdf06878f",
   "metadata": {},
   "source": [
    "### Closest Number"
   ]
  },
  {
   "cell_type": "code",
   "execution_count": 58,
   "id": "f5cb4ed0-c943-4824-9910-8827eadfe2e7",
   "metadata": {},
   "outputs": [
    {
     "name": "stdin",
     "output_type": "stream",
     "text": [
      "Enter n:  7\n",
      "Enter m (not zero):  8\n"
     ]
    },
    {
     "name": "stdout",
     "output_type": "stream",
     "text": [
      "8\n"
     ]
    }
   ],
   "source": [
    "n = int(input(\"Enter n: \"))\n",
    "m = int(input(\"Enter m (not zero): \"))\n",
    "\n",
    "q = n // m\n",
    "n1 = m * q\n",
    "n2 = m * (q + 1) if m > 0 else m * (q - 1)\n",
    "\n",
    "if abs(n - n1) < abs(n - n2):\n",
    "    print(n1)\n",
    "elif abs(n - n1) > abs(n - n2):\n",
    "    print(n2)\n",
    "else:\n",
    "    print(n1 if abs(n1) > abs(n2) else n2)\n"
   ]
  },
  {
   "cell_type": "code",
   "execution_count": 59,
   "id": "d310a03c-696b-4491-8311-03c35eae7d12",
   "metadata": {},
   "outputs": [
    {
     "name": "stdout",
     "output_type": "stream",
     "text": [
      "12\n"
     ]
    }
   ],
   "source": [
    "n = 13\n",
    "m = 4\n",
    "\n",
    "q = n // m            \n",
    "n1 = m * q            \n",
    "n2 = m * (q + 1)      \n",
    "\n",
    "\n",
    "if abs(n - n1) < abs(n - n2):\n",
    "    print(n1)\n",
    "elif abs(n - n1) > abs(n - n2):\n",
    "    print(n2)\n",
    "else:\n",
    "    print(n1 if abs(n1) > abs(n2) else n2)\n"
   ]
  },
  {
   "cell_type": "markdown",
   "id": "37d8f844-c14e-4e3a-9933-8ebc0e7faf0f",
   "metadata": {},
   "source": [
    "### The dice problem"
   ]
  },
  {
   "cell_type": "code",
   "execution_count": 61,
   "id": "728ce828-48e5-4a7b-9374-0c4fb4820111",
   "metadata": {},
   "outputs": [
    {
     "name": "stdout",
     "output_type": "stream",
     "text": [
      "1\n"
     ]
    }
   ],
   "source": [
    "n = 6\n",
    "if 1<=n<=6:\n",
    "    print(7-n)\n",
    "else:\n",
    "    print(\"invalid number\")"
   ]
  },
  {
   "cell_type": "code",
   "execution_count": 62,
   "id": "43e4eeb5-90c2-4dc1-9b49-d9740dad52de",
   "metadata": {},
   "outputs": [
    {
     "name": "stdout",
     "output_type": "stream",
     "text": [
      "2\n"
     ]
    }
   ],
   "source": [
    "n = 5\n",
    "if 1<=n<=6:\n",
    "    print(7-n)\n",
    "else:\n",
    "    print(\"invalid number\")"
   ]
  },
  {
   "cell_type": "markdown",
   "id": "4e361c8a-a263-42eb-8caa-bf524a54776c",
   "metadata": {},
   "source": [
    "### Test if tuple is distinct"
   ]
  },
  {
   "cell_type": "code",
   "execution_count": 68,
   "id": "d6324fc5-e23b-4f47-9a11-f116c2c875da",
   "metadata": {},
   "outputs": [
    {
     "name": "stdout",
     "output_type": "stream",
     "text": [
      "True\n"
     ]
    }
   ],
   "source": [
    "arr = (1,2,3,4,5)\n",
    "if len(arr)==len(set(arr)):\n",
    "    print(True)\n",
    "else:\n",
    "    print(False)"
   ]
  },
  {
   "cell_type": "code",
   "execution_count": 69,
   "id": "a291985a-b188-4588-8c40-2f78b33d5cf7",
   "metadata": {},
   "outputs": [
    {
     "name": "stdout",
     "output_type": "stream",
     "text": [
      "False\n"
     ]
    }
   ],
   "source": [
    "arr = (1,2,3,4,5,4)\n",
    "if len(arr)==len(set(arr)):\n",
    "    print(True)\n",
    "else:\n",
    "    print(False)"
   ]
  },
  {
   "cell_type": "markdown",
   "id": "258b5202-362c-40cc-a390-6ceb37705ac1",
   "metadata": {},
   "source": [
    "### Day before N days"
   ]
  },
  {
   "cell_type": "code",
   "execution_count": 70,
   "id": "848770d8-2621-452a-8315-e7e04f15d49e",
   "metadata": {},
   "outputs": [
    {
     "name": "stdout",
     "output_type": "stream",
     "text": [
      "1\n"
     ]
    }
   ],
   "source": [
    "d = 3 #current day index\n",
    "n = 2 \n",
    "diff = d - n\n",
    "\n",
    "if diff < 0:\n",
    "    diff += 7\n",
    "\n",
    "if diff == 0:\n",
    "    print(0)\n",
    "elif diff == 1:\n",
    "    print(1)\n",
    "elif diff == 2:\n",
    "    print(2)\n",
    "elif diff == 3:\n",
    "    print(3)\n",
    "elif diff == 4:\n",
    "    print(4)\n",
    "elif diff == 5:\n",
    "    print(5)\n",
    "elif diff == 6:\n",
    "    print(6)"
   ]
  },
  {
   "cell_type": "code",
   "execution_count": 75,
   "id": "89583646-08c0-4e50-9554-5bd22a0ede5f",
   "metadata": {},
   "outputs": [
    {
     "name": "stdout",
     "output_type": "stream",
     "text": [
      "5\n"
     ]
    }
   ],
   "source": [
    "d = 2  \n",
    "n = 4 \n",
    "diff = d - n\n",
    "\n",
    "if diff < 0:\n",
    "    diff += 7\n",
    "\n",
    "if diff == 0:\n",
    "    print(0)\n",
    "elif diff == 1:\n",
    "    print(1)\n",
    "elif diff == 2:\n",
    "    print(2)\n",
    "elif diff == 3:\n",
    "    print(3)\n",
    "elif diff == 4:\n",
    "    print(4)\n",
    "elif diff == 5:\n",
    "    print(5)\n",
    "elif diff == 6:\n",
    "    print(6)"
   ]
  },
  {
   "cell_type": "markdown",
   "id": "e65e2fd2-6f23-4329-a043-24392ea87bfa",
   "metadata": {},
   "source": [
    "### Solving queries"
   ]
  },
  {
   "cell_type": "code",
   "execution_count": 82,
   "id": "f1e97ee9-fc9b-47e7-9fa1-a93060448292",
   "metadata": {},
   "outputs": [
    {
     "name": "stdout",
     "output_type": "stream",
     "text": [
      "efg\n",
      "cde\n",
      "ghi\n",
      "none\n"
     ]
    }
   ],
   "source": [
    "dict={1:'abc',2:'cde',3:'efg', 4:'ghi'}\n",
    "query=[3,2,4,5]\n",
    "for key in query:\n",
    "    if key in dict:\n",
    "        print(dict[key])\n",
    "    else:\n",
    "        print(\"none\")"
   ]
  },
  {
   "cell_type": "markdown",
   "id": "d7c6816b-6033-434e-9dd6-c395123662a4",
   "metadata": {},
   "source": [
    "### Factorial"
   ]
  },
  {
   "cell_type": "code",
   "execution_count": 90,
   "id": "d38b1c52-9ac2-491a-83e3-9e3025b19813",
   "metadata": {},
   "outputs": [
    {
     "name": "stdout",
     "output_type": "stream",
     "text": [
      "120\n"
     ]
    }
   ],
   "source": [
    "n = 5\n",
    "if n==0:\n",
    "    print(\"it's a negative number\")\n",
    "elif n==1:\n",
    "    print(1)\n",
    "else:\n",
    "     fact = 1\n",
    "     for i in range(1, n + 1):\n",
    "        fact *= i\n",
    "     print(fact)"
   ]
  },
  {
   "cell_type": "code",
   "execution_count": 91,
   "id": "cafd9a40-dee1-4d5c-8926-2fbab75b891b",
   "metadata": {},
   "outputs": [
    {
     "name": "stdout",
     "output_type": "stream",
     "text": [
      "3628800\n"
     ]
    }
   ],
   "source": [
    "n = 10\n",
    "if n==0:\n",
    "    print(\"it's a negative number\")\n",
    "elif n==1:\n",
    "    print(1)\n",
    "else:\n",
    "     fact = 1\n",
    "     for i in range(1, n + 1):\n",
    "        fact *= i\n",
    "     print(fact)"
   ]
  },
  {
   "cell_type": "markdown",
   "id": "bc56b374-09e5-4385-876f-fcb7edb019ae",
   "metadata": {},
   "source": [
    "### Check Prime"
   ]
  },
  {
   "cell_type": "code",
   "execution_count": 94,
   "id": "078a7db2-08f7-4cd4-bd94-4ddbbb2129a1",
   "metadata": {},
   "outputs": [
    {
     "name": "stdout",
     "output_type": "stream",
     "text": [
      "Is prime number\n"
     ]
    }
   ],
   "source": [
    "n = 5\n",
    "\n",
    "if n <= 1:\n",
    "    print(\"Not a prime number\")\n",
    "else:\n",
    "    for i in range(2, n):\n",
    "        if n % i == 0:\n",
    "            print(\"Not a prime number\")\n",
    "            break\n",
    "    else:\n",
    "        print(\"Is prime number\")\n"
   ]
  },
  {
   "cell_type": "code",
   "execution_count": 96,
   "id": "42aa8d4a-089f-4d8f-8570-ecb7db268dc3",
   "metadata": {},
   "outputs": [
    {
     "name": "stdout",
     "output_type": "stream",
     "text": [
      "Not a prime number\n"
     ]
    }
   ],
   "source": [
    "n = 8\n",
    "\n",
    "if n <= 1:\n",
    "    print(\"Not a prime number\")\n",
    "else:\n",
    "    for i in range(2, n):\n",
    "        if n % i == 0:\n",
    "            print(\"Not a prime number\")\n",
    "            break\n",
    "    else:\n",
    "        print(\"Is prime number\")\n"
   ]
  },
  {
   "cell_type": "markdown",
   "id": "df44756b-cceb-47ff-a36c-a8cbe3163c2b",
   "metadata": {},
   "source": [
    "### Next Prime Number"
   ]
  },
  {
   "cell_type": "code",
   "execution_count": 101,
   "id": "0818cbce-0eda-49fa-9670-8000db16f8fa",
   "metadata": {},
   "outputs": [
    {
     "name": "stdout",
     "output_type": "stream",
     "text": [
      "11\n"
     ]
    }
   ],
   "source": [
    "n = 9\n",
    "\n",
    "while True:\n",
    "    n += 1\n",
    "    for i in range(2, n):\n",
    "        if n % i == 0:\n",
    "            break\n",
    "    else:\n",
    "        print(n)\n",
    "        break\n"
   ]
  },
  {
   "cell_type": "markdown",
   "id": "f29819fc-e28c-42f1-af52-29b25140c8a0",
   "metadata": {},
   "source": [
    "### Fibonacci Number"
   ]
  },
  {
   "cell_type": "code",
   "execution_count": 103,
   "id": "b781a0d5-4071-445d-a784-4580f75378a3",
   "metadata": {},
   "outputs": [
    {
     "name": "stdin",
     "output_type": "stream",
     "text": [
      "Enter n:  4\n"
     ]
    },
    {
     "name": "stdout",
     "output_type": "stream",
     "text": [
      "3\n"
     ]
    }
   ],
   "source": [
    "n = 4\n",
    "\n",
    "if n == 0:\n",
    "    print(0)\n",
    "elif n == 1:\n",
    "    print(1)\n",
    "else:\n",
    "    a = 0\n",
    "    b = 1\n",
    "    for i in range(2, n + 1):\n",
    "        c = a + b\n",
    "        a = b\n",
    "        b = c\n",
    "    print(b)\n"
   ]
  },
  {
   "cell_type": "markdown",
   "id": "9297eb21-d95e-49a9-bf1f-e5023e42c019",
   "metadata": {},
   "source": [
    "### Perfect Numbers"
   ]
  },
  {
   "cell_type": "code",
   "execution_count": 113,
   "id": "fa77ac84-a9b9-4a56-acc3-4fa908c884ec",
   "metadata": {},
   "outputs": [
    {
     "name": "stdout",
     "output_type": "stream",
     "text": [
      "not perfect number\n"
     ]
    }
   ],
   "source": [
    "n = 4\n",
    "\n",
    "sum =0 \n",
    "for i in range(1,n):\n",
    "    if n%i==0:\n",
    "        sum+=i\n",
    "if sum==n:\n",
    "    print(\"perefect number\")\n",
    "else: \n",
    "    print(\"not perfect number\")\n",
    "    "
   ]
  },
  {
   "cell_type": "code",
   "execution_count": 112,
   "id": "e3f2aa82-85b7-47fb-a204-b65ceddf8e08",
   "metadata": {},
   "outputs": [
    {
     "name": "stdout",
     "output_type": "stream",
     "text": [
      "perefect number\n"
     ]
    }
   ],
   "source": [
    "n = 6\n",
    "sum =0 \n",
    "for i in range(1,n):\n",
    "    if n%i==0:\n",
    "        sum+=i\n",
    "if sum==n:\n",
    "    print(\"perefect number\")\n",
    "else: \n",
    "    print(\"not perfect number\")\n",
    "    \n"
   ]
  },
  {
   "cell_type": "markdown",
   "id": "3d8ac8ed-873d-4e30-bbd7-b7c196e7a5be",
   "metadata": {},
   "source": [
    "### Adam Number"
   ]
  },
  {
   "cell_type": "code",
   "execution_count": 124,
   "id": "79a8c9c1-aff2-4f9c-b52c-b4b2e5ddee16",
   "metadata": {},
   "outputs": [
    {
     "name": "stdout",
     "output_type": "stream",
     "text": [
      "Is adam number\n"
     ]
    }
   ],
   "source": [
    "n = 12\n",
    "reverse = int(str(n)[::-1])\n",
    "sqr_n= n**2\n",
    "sqr_rev= reverse**2\n",
    "\n",
    "if sqr_n == int(str(sqr_rev)[::-1]):\n",
    "        print(\"Is adam number\")\n",
    "else:\n",
    "    print(\"Is not adam number\")"
   ]
  },
  {
   "cell_type": "code",
   "execution_count": 125,
   "id": "506a5455-4d04-4202-b6e5-379e448b1cb0",
   "metadata": {},
   "outputs": [
    {
     "name": "stdout",
     "output_type": "stream",
     "text": [
      "Is adam number\n"
     ]
    }
   ],
   "source": [
    "n = 11\n",
    "reverse = int(str(n)[::-1])\n",
    "sqr_n= n**2\n",
    "sqr_rev= reverse**2\n",
    "\n",
    "if sqr_n == int(str(sqr_rev)[::-1]):\n",
    "        print(\"Is adam number\")\n",
    "else:\n",
    "    print(\"Is not adam number\")"
   ]
  },
  {
   "cell_type": "code",
   "execution_count": 126,
   "id": "d7715de8-e8fe-45f1-afbf-7787f18ac96b",
   "metadata": {},
   "outputs": [
    {
     "name": "stdout",
     "output_type": "stream",
     "text": [
      "Is not adam number\n"
     ]
    }
   ],
   "source": [
    "n = 10\n",
    "reverse = int(str(n)[::-1])\n",
    "sqr_n= n**2\n",
    "sqr_rev= reverse**2\n",
    "\n",
    "if sqr_n == int(str(sqr_rev)[::-1]):\n",
    "        print(\"Is adam number\")\n",
    "else:\n",
    "    print(\"Is not adam number\")"
   ]
  },
  {
   "cell_type": "markdown",
   "id": "690cb0a1-6787-43f5-860b-38d40d6f4e0a",
   "metadata": {},
   "source": [
    "### Strong Numbers"
   ]
  },
  {
   "cell_type": "code",
   "execution_count": 131,
   "id": "95000d45-ebe0-493d-bf33-d724d95cdc8e",
   "metadata": {},
   "outputs": [
    {
     "name": "stdout",
     "output_type": "stream",
     "text": [
      "1\n"
     ]
    }
   ],
   "source": [
    "n = 145\n",
    "org=n\n",
    "sum = 0\n",
    "\n",
    "while n > 0:\n",
    "    digit = n % 10\n",
    "\n",
    " \n",
    "    fact = 1\n",
    "    for i in range(1, digit + 1):\n",
    "        fact *= i\n",
    "\n",
    "    sum += fact\n",
    "    n = n // 10\n",
    "\n",
    "if sum == org:\n",
    "    print(1)  \n",
    "else:\n",
    "    print(0)  \n"
   ]
  },
  {
   "cell_type": "code",
   "execution_count": null,
   "id": "4ffa1f95-12b6-48a9-a317-0eccf875b2e1",
   "metadata": {},
   "outputs": [],
   "source": []
  }
 ],
 "metadata": {
  "kernelspec": {
   "display_name": "Python 3 (ipykernel)",
   "language": "python",
   "name": "python3"
  },
  "language_info": {
   "codemirror_mode": {
    "name": "ipython",
    "version": 3
   },
   "file_extension": ".py",
   "mimetype": "text/x-python",
   "name": "python",
   "nbconvert_exporter": "python",
   "pygments_lexer": "ipython3",
   "version": "3.12.4"
  }
 },
 "nbformat": 4,
 "nbformat_minor": 5
}
