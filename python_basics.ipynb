{
 "cells": [
  {
   "cell_type": "markdown",
   "id": "05c91fbc-4077-43b3-8649-3a1dae292751",
   "metadata": {},
   "source": [
    "Python's Basics\n"
   ]
  },
  {
   "cell_type": "code",
   "execution_count": 20,
   "id": "9e8b2a13-56a6-437c-aeb7-4964878baf19",
   "metadata": {},
   "outputs": [],
   "source": [
    "#This script introduces basic Python syntax and operations"
   ]
  },
  {
   "cell_type": "code",
   "execution_count": 21,
   "id": "097e0635-8cee-42fb-b465-4e6ff1e1f5d3",
   "metadata": {},
   "outputs": [],
   "source": [
    "# Comments\n",
    "# This is a single-line comment"
   ]
  },
  {
   "cell_type": "code",
   "execution_count": 22,
   "id": "327f14e4-bf98-45b8-8c07-bde27632f2aa",
   "metadata": {},
   "outputs": [
    {
     "data": {
      "text/plain": [
       "'\\nThis is a\\nmulti-line comment\\n'"
      ]
     },
     "execution_count": 22,
     "metadata": {},
     "output_type": "execute_result"
    }
   ],
   "source": [
    "\"\"\"\n",
    "This is a\n",
    "multi-line comment\n",
    "\"\"\""
   ]
  },
  {
   "cell_type": "code",
   "execution_count": 23,
   "id": "d667bceb-108f-46c2-a8b4-9b1c4aa49620",
   "metadata": {},
   "outputs": [
    {
     "name": "stdout",
     "output_type": "stream",
     "text": [
      "Hello world\n"
     ]
    }
   ],
   "source": [
    "#printing to console\n",
    "print(\"Hello world\")"
   ]
  },
  {
   "cell_type": "code",
   "execution_count": 24,
   "id": "fe910793-fe7f-46b9-a04d-fd9a6c4fc88d",
   "metadata": {},
   "outputs": [],
   "source": [
    "#variable declearatin and Data type\n",
    "name = \"alex\" #string\n",
    "age = 17 #int\n",
    "height = 5.1 #float\n",
    "is_student = True #Boolean"
   ]
  },
  {
   "cell_type": "code",
   "execution_count": 25,
   "id": "eb3b168a-2bb5-4b32-ad0f-50e334b5adf1",
   "metadata": {},
   "outputs": [
    {
     "name": "stdout",
     "output_type": "stream",
     "text": [
      "name: alex\n",
      "age: 17\n",
      "height: 5.1\n",
      "is student: True\n"
     ]
    }
   ],
   "source": [
    "#displaying variables\n",
    "print(\"name:\",name)\n",
    "print(\"age:\",age)\n",
    "print(\"height:\",height)\n",
    "print(\"is student:\",is_student)"
   ]
  },
  {
   "cell_type": "code",
   "execution_count": 26,
   "id": "e574f24d-aa0e-43a9-a09b-eee960ff2c97",
   "metadata": {},
   "outputs": [
    {
     "name": "stdin",
     "output_type": "stream",
     "text": [
      "enter your name: alex\n"
     ]
    }
   ],
   "source": [
    "#taking input from user\n",
    "name = input(\"enter your name:\")"
   ]
  },
  {
   "cell_type": "code",
   "execution_count": 19,
   "id": "eb8368f6-a595-400d-9b80-dd7a902b42b6",
   "metadata": {},
   "outputs": [
    {
     "data": {
      "text/plain": [
       "'5.1'"
      ]
     },
     "execution_count": 19,
     "metadata": {},
     "output_type": "execute_result"
    }
   ],
   "source": [
    "#type-casting\n",
    "float(age) #int to float\n",
    "int(height) #float to int\n",
    "str(age) #int to string\n",
    "str(height) #float to string"
   ]
  },
  {
   "cell_type": "code",
   "execution_count": 28,
   "id": "0622fdd5-b7cc-4444-bea9-29051364b06c",
   "metadata": {},
   "outputs": [
    {
     "name": "stdout",
     "output_type": "stream",
     "text": [
      "Addition: 15\n",
      "subtraction: -5\n",
      "division: 0.5\n",
      "floor division 0\n",
      "multiplication: 50\n",
      "Modules: 5\n",
      "Exponent: 9765625\n"
     ]
    }
   ],
   "source": [
    "#basic Math\n",
    "a=5\n",
    "b=10\n",
    "print(\"Addition:\", a+b)\n",
    "print(\"subtraction:\", a-b)\n",
    "print(\"division:\", a/b)\n",
    "print(\"floor division\", a//b)\n",
    "print(\"multiplication:\", a*b)\n",
    "print(\"Modules:\", a%b)\n",
    "print(\"Exponent:\", a**b)"
   ]
  },
  {
   "cell_type": "code",
   "execution_count": 29,
   "id": "b1e1eb22-206b-4537-9172-f1850ee89115",
   "metadata": {},
   "outputs": [
    {
     "data": {
      "text/plain": [
       "bool"
      ]
     },
     "execution_count": 29,
     "metadata": {},
     "output_type": "execute_result"
    }
   ],
   "source": [
    "#Check types\n",
    "type(age)\n",
    "type(name)\n",
    "type(height)\n",
    "type(is_student)"
   ]
  },
  {
   "cell_type": "code",
   "execution_count": null,
   "id": "8f28fc86-463f-40d0-be85-e124d89bc226",
   "metadata": {},
   "outputs": [],
   "source": []
  }
 ],
 "metadata": {
  "kernelspec": {
   "display_name": "Python 3 (ipykernel)",
   "language": "python",
   "name": "python3"
  },
  "language_info": {
   "codemirror_mode": {
    "name": "ipython",
    "version": 3
   },
   "file_extension": ".py",
   "mimetype": "text/x-python",
   "name": "python",
   "nbconvert_exporter": "python",
   "pygments_lexer": "ipython3",
   "version": "3.12.4"
  }
 },
 "nbformat": 4,
 "nbformat_minor": 5
}
