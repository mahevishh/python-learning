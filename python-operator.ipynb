{
 "cells": [
  {
   "cell_type": "markdown",
   "id": "846f9649-ab19-4319-bb05-83a5996de0b6",
   "metadata": {},
   "source": [
    "### Python's Operator"
   ]
  },
  {
   "cell_type": "markdown",
   "id": "baf7eb6d-584c-4a59-835f-bd9ea61a0fab",
   "metadata": {},
   "source": [
    "#### 1. Arithmetic Operators"
   ]
  },
  {
   "cell_type": "code",
   "execution_count": 1,
   "id": "15af4234-fddb-45f2-b435-fc01d301d67c",
   "metadata": {},
   "outputs": [
    {
     "name": "stdout",
     "output_type": "stream",
     "text": [
      "10 2\n"
     ]
    }
   ],
   "source": [
    "a = 10\n",
    "b = 2\n",
    "print(a,b)"
   ]
  },
  {
   "cell_type": "code",
   "execution_count": 3,
   "id": "721c9e4b-d23f-4b92-92fb-7d83b1bf8528",
   "metadata": {},
   "outputs": [
    {
     "data": {
      "text/plain": [
       "12"
      ]
     },
     "execution_count": 3,
     "metadata": {},
     "output_type": "execute_result"
    }
   ],
   "source": [
    "a+b #+ ( Addition )"
   ]
  },
  {
   "cell_type": "code",
   "execution_count": 4,
   "id": "f3f44951-6381-43be-bba6-23f240a5ef73",
   "metadata": {},
   "outputs": [
    {
     "data": {
      "text/plain": [
       "8"
      ]
     },
     "execution_count": 4,
     "metadata": {},
     "output_type": "execute_result"
    }
   ],
   "source": [
    "a - b #- (substraction )"
   ]
  },
  {
   "cell_type": "code",
   "execution_count": 6,
   "id": "3e85cf46-2018-4d8c-8f40-f21b62d762af",
   "metadata": {},
   "outputs": [
    {
     "data": {
      "text/plain": [
       "5.0"
      ]
     },
     "execution_count": 6,
     "metadata": {},
     "output_type": "execute_result"
    }
   ],
   "source": [
    "a / b #/ (Division)"
   ]
  },
  {
   "cell_type": "code",
   "execution_count": 7,
   "id": "a2a618d6-f9f6-446c-89f8-e9630a2deb74",
   "metadata": {},
   "outputs": [
    {
     "data": {
      "text/plain": [
       "5"
      ]
     },
     "execution_count": 7,
     "metadata": {},
     "output_type": "execute_result"
    }
   ],
   "source": [
    "a // b #// (Floor division)"
   ]
  },
  {
   "cell_type": "code",
   "execution_count": 8,
   "id": "fa1fcfde-e75b-4153-9544-b2e40ac69c0d",
   "metadata": {},
   "outputs": [
    {
     "data": {
      "text/plain": [
       "20"
      ]
     },
     "execution_count": 8,
     "metadata": {},
     "output_type": "execute_result"
    }
   ],
   "source": [
    "a * b #* (multiplication)"
   ]
  },
  {
   "cell_type": "code",
   "execution_count": 9,
   "id": "012fceca-b0cc-4126-ab2a-ab7500f94639",
   "metadata": {},
   "outputs": [
    {
     "data": {
      "text/plain": [
       "100"
      ]
     },
     "execution_count": 9,
     "metadata": {},
     "output_type": "execute_result"
    }
   ],
   "source": [
    "a ** b #** (Exponentiation)"
   ]
  },
  {
   "cell_type": "code",
   "execution_count": 10,
   "id": "1af8a106-8cd2-40c2-b91b-6a1a7085c5e0",
   "metadata": {},
   "outputs": [
    {
     "data": {
      "text/plain": [
       "100"
      ]
     },
     "execution_count": 10,
     "metadata": {},
     "output_type": "execute_result"
    }
   ],
   "source": [
    "a ** 2"
   ]
  },
  {
   "cell_type": "code",
   "execution_count": 11,
   "id": "d8e1cd18-c67d-4ce7-a2f0-a7b056e187a1",
   "metadata": {},
   "outputs": [
    {
     "data": {
      "text/plain": [
       "1000"
      ]
     },
     "execution_count": 11,
     "metadata": {},
     "output_type": "execute_result"
    }
   ],
   "source": [
    "a ** 3"
   ]
  },
  {
   "cell_type": "code",
   "execution_count": 12,
   "id": "70dae707-32d0-4582-987e-6ca8da9eeae1",
   "metadata": {},
   "outputs": [
    {
     "data": {
      "text/plain": [
       "0"
      ]
     },
     "execution_count": 12,
     "metadata": {},
     "output_type": "execute_result"
    }
   ],
   "source": [
    "a % b #% (module)"
   ]
  },
  {
   "cell_type": "code",
   "execution_count": 13,
   "id": "2e9f9258-ae22-46fe-9553-d9cced3feafe",
   "metadata": {},
   "outputs": [
    {
     "data": {
      "text/plain": [
       "1"
      ]
     },
     "execution_count": 13,
     "metadata": {},
     "output_type": "execute_result"
    }
   ],
   "source": [
    "a % 3"
   ]
  },
  {
   "cell_type": "code",
   "execution_count": 14,
   "id": "1c92cfd1-a597-4b6f-92e2-ddb8505399b5",
   "metadata": {},
   "outputs": [
    {
     "name": "stdout",
     "output_type": "stream",
     "text": [
      "Addition: 12\n",
      "Subtraction: 8\n",
      "Multiplication: 20\n",
      "Division: 5.0\n",
      "Modulus: 0\n",
      "Floor Division: 5\n",
      "Exponent: 100\n"
     ]
    }
   ],
   "source": [
    "print(\"Addition:\", a + b)\n",
    "print(\"Subtraction:\", a - b)\n",
    "print(\"Multiplication:\", a * b)\n",
    "print(\"Division:\", a / b)\n",
    "print(\"Modulus:\", a % b)\n",
    "print(\"Floor Division:\", a // b)\n",
    "print(\"Exponent:\", a ** b)"
   ]
  },
  {
   "cell_type": "markdown",
   "id": "68e1f6e5-c256-46c7-bbbf-657886ba6022",
   "metadata": {},
   "source": [
    "#### 2. Relational Operators"
   ]
  },
  {
   "cell_type": "code",
   "execution_count": 16,
   "id": "90945bdb-c6b0-4ab4-b333-361ade368039",
   "metadata": {},
   "outputs": [
    {
     "name": "stdout",
     "output_type": "stream",
     "text": [
      "a = 5\n",
      "b = 6\n"
     ]
    }
   ],
   "source": [
    "a = 5\n",
    "b = 6\n",
    "print(\"a =\", a)\n",
    "print(\"b =\", b)"
   ]
  },
  {
   "cell_type": "code",
   "execution_count": 18,
   "id": "51a0b2cf-4531-4044-b7fe-e0d89133c3b7",
   "metadata": {},
   "outputs": [
    {
     "data": {
      "text/plain": [
       "False"
      ]
     },
     "execution_count": 18,
     "metadata": {},
     "output_type": "execute_result"
    }
   ],
   "source": [
    "a == b # == Equal to"
   ]
  },
  {
   "cell_type": "code",
   "execution_count": 19,
   "id": "cdf18777-6f95-4809-80aa-5ee4b996887f",
   "metadata": {},
   "outputs": [
    {
     "data": {
      "text/plain": [
       "True"
      ]
     },
     "execution_count": 19,
     "metadata": {},
     "output_type": "execute_result"
    }
   ],
   "source": [
    "a != b # != Not equal to"
   ]
  },
  {
   "cell_type": "code",
   "execution_count": 20,
   "id": "95e63f7c-a53c-4d3c-a009-dbd486c74859",
   "metadata": {},
   "outputs": [
    {
     "data": {
      "text/plain": [
       "False"
      ]
     },
     "execution_count": 20,
     "metadata": {},
     "output_type": "execute_result"
    }
   ],
   "source": [
    "a > b # > Greater than"
   ]
  },
  {
   "cell_type": "code",
   "execution_count": 21,
   "id": "c5d67cec-166d-4586-b6ad-5bf4cd1b7da9",
   "metadata": {},
   "outputs": [
    {
     "data": {
      "text/plain": [
       "True"
      ]
     },
     "execution_count": 21,
     "metadata": {},
     "output_type": "execute_result"
    }
   ],
   "source": [
    "a < b # < less than"
   ]
  },
  {
   "cell_type": "code",
   "execution_count": 22,
   "id": "2b973947-58b7-4324-aa0e-feca3192bd85",
   "metadata": {},
   "outputs": [
    {
     "data": {
      "text/plain": [
       "False"
      ]
     },
     "execution_count": 22,
     "metadata": {},
     "output_type": "execute_result"
    }
   ],
   "source": [
    "a >= b # >= greater than equal to"
   ]
  },
  {
   "cell_type": "code",
   "execution_count": 23,
   "id": "8789aca1-e1c0-4ae6-9a1a-734277d1a1b4",
   "metadata": {},
   "outputs": [
    {
     "data": {
      "text/plain": [
       "True"
      ]
     },
     "execution_count": 23,
     "metadata": {},
     "output_type": "execute_result"
    }
   ],
   "source": [
    "a <= b # <= less than equal to"
   ]
  },
  {
   "cell_type": "markdown",
   "id": "24c62864-ca7b-4dee-839c-602830ffa745",
   "metadata": {},
   "source": [
    "####  3. Assignment Operators"
   ]
  },
  {
   "cell_type": "code",
   "execution_count": 57,
   "id": "275b6aba-ee96-4dde-bf75-7789aaaef408",
   "metadata": {},
   "outputs": [
    {
     "data": {
      "text/plain": [
       "1"
      ]
     },
     "execution_count": 57,
     "metadata": {},
     "output_type": "execute_result"
    }
   ],
   "source": [
    "a = 1 # + assign a value to the variable\n",
    "a"
   ]
  },
  {
   "cell_type": "code",
   "execution_count": 58,
   "id": "d53532ed-8d75-40b1-a4ab-b9294a407f1a",
   "metadata": {},
   "outputs": [
    {
     "data": {
      "text/plain": [
       "2"
      ]
     },
     "execution_count": 58,
     "metadata": {},
     "output_type": "execute_result"
    }
   ],
   "source": [
    "a += 1 #+= add and save the value to the variable\n",
    "a"
   ]
  },
  {
   "cell_type": "code",
   "execution_count": 59,
   "id": "8ced7650-5135-4ab5-a953-5655f2536a50",
   "metadata": {},
   "outputs": [],
   "source": [
    "a -=1 #-= substract and save the value to the variable"
   ]
  },
  {
   "cell_type": "code",
   "execution_count": 60,
   "id": "52925785-3fc5-4373-8f33-0374b2fd3038",
   "metadata": {},
   "outputs": [
    {
     "data": {
      "text/plain": [
       "1"
      ]
     },
     "execution_count": 60,
     "metadata": {},
     "output_type": "execute_result"
    }
   ],
   "source": [
    "a"
   ]
  },
  {
   "cell_type": "code",
   "execution_count": 61,
   "id": "da28613d-d949-4161-bfa1-1d19444d46a0",
   "metadata": {},
   "outputs": [],
   "source": [
    "a = 5"
   ]
  },
  {
   "cell_type": "code",
   "execution_count": 62,
   "id": "6af6cf92-16eb-4084-b57c-fa453be54a83",
   "metadata": {},
   "outputs": [
    {
     "data": {
      "text/plain": [
       "5"
      ]
     },
     "execution_count": 62,
     "metadata": {},
     "output_type": "execute_result"
    }
   ],
   "source": [
    "a"
   ]
  },
  {
   "cell_type": "code",
   "execution_count": 63,
   "id": "06eaffda-be43-461e-8142-1ec96cd3d963",
   "metadata": {},
   "outputs": [
    {
     "data": {
      "text/plain": [
       "25"
      ]
     },
     "execution_count": 63,
     "metadata": {},
     "output_type": "execute_result"
    }
   ],
   "source": [
    "a *= 5 #*= multiply and save the value to the variable\n",
    "a"
   ]
  },
  {
   "cell_type": "code",
   "execution_count": 64,
   "id": "1be1c178-2559-4be9-a732-8aae1ad1dddb",
   "metadata": {},
   "outputs": [
    {
     "data": {
      "text/plain": [
       "12.5"
      ]
     },
     "execution_count": 64,
     "metadata": {},
     "output_type": "execute_result"
    }
   ],
   "source": [
    "a /= 2 #/= divide and save the vallue to the variable\n",
    "a"
   ]
  },
  {
   "cell_type": "code",
   "execution_count": 65,
   "id": "f95384ff-9098-495d-8d01-e6250152de5b",
   "metadata": {},
   "outputs": [
    {
     "data": {
      "text/plain": [
       "6.0"
      ]
     },
     "execution_count": 65,
     "metadata": {},
     "output_type": "execute_result"
    }
   ],
   "source": [
    "a //=2 #//= floor division and save the value to the varibale\n",
    "a"
   ]
  },
  {
   "cell_type": "code",
   "execution_count": 66,
   "id": "658321d4-7551-4392-8511-ad346deddb0e",
   "metadata": {},
   "outputs": [
    {
     "data": {
      "text/plain": [
       "36.0"
      ]
     },
     "execution_count": 66,
     "metadata": {},
     "output_type": "execute_result"
    }
   ],
   "source": [
    "a **= 2 #**= give exponent and save the value to the varibale\n",
    "a"
   ]
  },
  {
   "cell_type": "markdown",
   "id": "e6edb86d-3be0-4f15-9836-7e1987c4aebf",
   "metadata": {},
   "source": [
    "#### 4.Logical operator"
   ]
  },
  {
   "cell_type": "code",
   "execution_count": 67,
   "id": "d06622d2-72ae-44d9-869b-33afba7fb677",
   "metadata": {},
   "outputs": [
    {
     "name": "stdout",
     "output_type": "stream",
     "text": [
      "a = 6\n",
      "b = 7\n"
     ]
    }
   ],
   "source": [
    "a = 6\n",
    "b = 7\n",
    "print(\"a =\",a)\n",
    "print(\"b =\",b)"
   ]
  },
  {
   "cell_type": "code",
   "execution_count": 68,
   "id": "244ce5df-a73a-4b12-a079-437b47a370b2",
   "metadata": {},
   "outputs": [
    {
     "data": {
      "text/plain": [
       "True"
      ]
     },
     "execution_count": 68,
     "metadata": {},
     "output_type": "execute_result"
    }
   ],
   "source": [
    "a<b and b>a #and - Returns True if both conditions are true or else false"
   ]
  },
  {
   "cell_type": "code",
   "execution_count": 69,
   "id": "f7cfd4b3-c6e5-48eb-991d-a6b5f87e4c78",
   "metadata": {},
   "outputs": [
    {
     "data": {
      "text/plain": [
       "False"
      ]
     },
     "execution_count": 69,
     "metadata": {},
     "output_type": "execute_result"
    }
   ],
   "source": [
    "a>b and b>a"
   ]
  },
  {
   "cell_type": "code",
   "execution_count": 70,
   "id": "ab69c9f5-f8e3-4015-8bac-12a9d957c241",
   "metadata": {},
   "outputs": [
    {
     "data": {
      "text/plain": [
       "True"
      ]
     },
     "execution_count": 70,
     "metadata": {},
     "output_type": "execute_result"
    }
   ],
   "source": [
    "a>b or b>a #or - \tReturns True if at least one condition is true or else false"
   ]
  },
  {
   "cell_type": "code",
   "execution_count": 71,
   "id": "b1dc6b88-8055-4d9f-aba2-0e2b02e82380",
   "metadata": {},
   "outputs": [
    {
     "data": {
      "text/plain": [
       "False"
      ]
     },
     "execution_count": 71,
     "metadata": {},
     "output_type": "execute_result"
    }
   ],
   "source": [
    "a>b or b<a "
   ]
  },
  {
   "cell_type": "code",
   "execution_count": 72,
   "id": "e9290f36-d998-4a69-a76d-db01ffea515c",
   "metadata": {},
   "outputs": [
    {
     "data": {
      "text/plain": [
       "False"
      ]
     },
     "execution_count": 72,
     "metadata": {},
     "output_type": "execute_result"
    }
   ],
   "source": [
    "not( a<b ) #not- \tReverses the result (True ↔ False)"
   ]
  },
  {
   "cell_type": "code",
   "execution_count": 73,
   "id": "98555e71-0744-4573-9e28-7a54a0b3d858",
   "metadata": {},
   "outputs": [
    {
     "data": {
      "text/plain": [
       "True"
      ]
     },
     "execution_count": 73,
     "metadata": {},
     "output_type": "execute_result"
    }
   ],
   "source": [
    "not(b<a)"
   ]
  },
  {
   "cell_type": "markdown",
   "id": "3b9c7f96-c438-4fb4-9196-750ee1f343c3",
   "metadata": {},
   "source": [
    "#### 5. Bitwise operator"
   ]
  },
  {
   "cell_type": "markdown",
   "id": "258e7fa2-e85c-4cd8-8724-6b6a6f2ab88b",
   "metadata": {},
   "source": [
    "##### 5.5 Number Systems in Python (for Bitwise Understanding)"
   ]
  },
  {
   "cell_type": "raw",
   "id": "bb73d47c-2421-42bf-ac12-fda7fd56d253",
   "metadata": {},
   "source": [
    " Python supports different number systems:\n",
    " Decimal     : Base-10 (normal numbers, e.g., 10)\n",
    " Binary      : Base-2, starts with '0b' (e.g., 0b1010)\n",
    " Octal       : Base-8, starts with '0o' (e.g., 0o12)\n",
    " Hexadecimal : Base-16, starts with '0x' (e.g., 0xA)"
   ]
  },
  {
   "cell_type": "code",
   "execution_count": 74,
   "id": "cfeda518-0ea5-42cb-b0d2-726570f7dfc9",
   "metadata": {},
   "outputs": [
    {
     "name": "stdout",
     "output_type": "stream",
     "text": [
      "Decimal: 10\n",
      "Binary: 0b1010\n",
      "Octal: 0o12\n",
      "Hexadecimal: 0xa\n"
     ]
    }
   ],
   "source": [
    "n = 10\n",
    "print(\"Decimal:\", n)\n",
    "print(\"Binary:\", bin(n))       # 0b1010\n",
    "print(\"Octal:\", oct(n))        # 0o12\n",
    "print(\"Hexadecimal:\", hex(n))  # 0xa"
   ]
  },
  {
   "cell_type": "markdown",
   "id": "c06138a6-5852-405e-aeee-b4eb99bb9a68",
   "metadata": {},
   "source": [
    "##### Bitwise operations"
   ]
  },
  {
   "cell_type": "code",
   "execution_count": 75,
   "id": "ac6d6034-1c0e-49a9-a4c3-4f2e5cd84769",
   "metadata": {},
   "outputs": [
    {
     "data": {
      "text/plain": [
       "12"
      ]
     },
     "execution_count": 75,
     "metadata": {},
     "output_type": "execute_result"
    }
   ],
   "source": [
    "13 & 12 #&\t(AND)\tSets each bit to 1 if both bits are 1"
   ]
  },
  {
   "cell_type": "code",
   "execution_count": 76,
   "id": "9e2722b6-59dc-493c-8c97-7c0fc8de5cc8",
   "metadata": {},
   "outputs": [
    {
     "data": {
      "text/plain": [
       "12"
      ]
     },
     "execution_count": 76,
     "metadata": {},
     "output_type": "execute_result"
    }
   ],
   "source": [
    "14 & 12"
   ]
  },
  {
   "cell_type": "code",
   "execution_count": 77,
   "id": "a2741fda-1658-4bbe-9ae0-aa0108091d90",
   "metadata": {},
   "outputs": [
    {
     "data": {
      "text/plain": [
       "12"
      ]
     },
     "execution_count": 77,
     "metadata": {},
     "output_type": "execute_result"
    }
   ],
   "source": [
    "15 & 12"
   ]
  },
  {
   "cell_type": "code",
   "execution_count": 81,
   "id": "98032d61-a696-44a5-a62f-2758f3eea8e4",
   "metadata": {},
   "outputs": [
    {
     "data": {
      "text/plain": [
       "12"
      ]
     },
     "execution_count": 81,
     "metadata": {},
     "output_type": "execute_result"
    }
   ],
   "source": [
    "14 & 13"
   ]
  },
  {
   "cell_type": "code",
   "execution_count": 78,
   "id": "5594adde-6e9d-4cf4-97ac-0c9e5bd29cfe",
   "metadata": {},
   "outputs": [
    {
     "data": {
      "text/plain": [
       "13"
      ]
     },
     "execution_count": 78,
     "metadata": {},
     "output_type": "execute_result"
    }
   ],
   "source": [
    "13 | 12 #| (OR)\tSets each bit to 1 if one or both are 1"
   ]
  },
  {
   "cell_type": "code",
   "execution_count": 79,
   "id": "c8e0f412-df0b-43f4-9ccc-0bc9a2833a59",
   "metadata": {},
   "outputs": [
    {
     "data": {
      "text/plain": [
       "15"
      ]
     },
     "execution_count": 79,
     "metadata": {},
     "output_type": "execute_result"
    }
   ],
   "source": [
    "14 | 13"
   ]
  },
  {
   "cell_type": "code",
   "execution_count": 80,
   "id": "c8760953-ca33-4943-b719-dff21f666055",
   "metadata": {},
   "outputs": [
    {
     "data": {
      "text/plain": [
       "15"
      ]
     },
     "execution_count": 80,
     "metadata": {},
     "output_type": "execute_result"
    }
   ],
   "source": [
    "15 | 12"
   ]
  },
  {
   "cell_type": "code",
   "execution_count": 82,
   "id": "3c71ad37-3150-47ce-ab90-a4a541ea9750",
   "metadata": {},
   "outputs": [
    {
     "data": {
      "text/plain": [
       "1"
      ]
     },
     "execution_count": 82,
     "metadata": {},
     "output_type": "execute_result"
    }
   ],
   "source": [
    "12 ^ 13 #^ (XOR) Sets each bit to 1 if only one is 1"
   ]
  },
  {
   "cell_type": "code",
   "execution_count": 83,
   "id": "66b5016a-5531-45f3-baca-6880a56d105a",
   "metadata": {},
   "outputs": [
    {
     "data": {
      "text/plain": [
       "13"
      ]
     },
     "execution_count": 83,
     "metadata": {},
     "output_type": "execute_result"
    }
   ],
   "source": [
    "14 ^ 3"
   ]
  },
  {
   "cell_type": "code",
   "execution_count": 84,
   "id": "70bf2131-2a5e-4d2e-b297-7ef44fe17f73",
   "metadata": {},
   "outputs": [
    {
     "data": {
      "text/plain": [
       "7"
      ]
     },
     "execution_count": 84,
     "metadata": {},
     "output_type": "execute_result"
    }
   ],
   "source": [
    "19 ^ 20"
   ]
  },
  {
   "cell_type": "code",
   "execution_count": 85,
   "id": "b5b1a5dd-1b59-4f1c-b938-3311184543d6",
   "metadata": {},
   "outputs": [
    {
     "data": {
      "text/plain": [
       "-10"
      ]
     },
     "execution_count": 85,
     "metadata": {},
     "output_type": "execute_result"
    }
   ],
   "source": [
    "~9 #NOT\tInverts all the bits"
   ]
  },
  {
   "cell_type": "code",
   "execution_count": 86,
   "id": "fc851a4c-a3b6-4668-94a1-efea762116a6",
   "metadata": {},
   "outputs": [
    {
     "data": {
      "text/plain": [
       "-13"
      ]
     },
     "execution_count": 86,
     "metadata": {},
     "output_type": "execute_result"
    }
   ],
   "source": [
    "~12"
   ]
  },
  {
   "cell_type": "code",
   "execution_count": 87,
   "id": "6776fd54-cdcc-4c94-a50a-d0915f65cdfb",
   "metadata": {},
   "outputs": [
    {
     "data": {
      "text/plain": [
       "-19"
      ]
     },
     "execution_count": 87,
     "metadata": {},
     "output_type": "execute_result"
    }
   ],
   "source": [
    "~18"
   ]
  },
  {
   "cell_type": "code",
   "execution_count": 88,
   "id": "ab30000b-144f-4da7-bf93-8d4c62fe21cb",
   "metadata": {},
   "outputs": [
    {
     "data": {
      "text/plain": [
       "-2"
      ]
     },
     "execution_count": 88,
     "metadata": {},
     "output_type": "execute_result"
    }
   ],
   "source": [
    "~1"
   ]
  },
  {
   "cell_type": "code",
   "execution_count": 89,
   "id": "f5eeedfa-61d2-4a81-aacb-f5ba264ffae7",
   "metadata": {},
   "outputs": [
    {
     "data": {
      "text/plain": [
       "40"
      ]
     },
     "execution_count": 89,
     "metadata": {},
     "output_type": "execute_result"
    }
   ],
   "source": [
    "10<<2 #<< (Left Shift)\tShifts bits to the left (multiply by 2)"
   ]
  },
  {
   "cell_type": "code",
   "execution_count": 90,
   "id": "c5a70579-05a2-45f7-bc84-c808afffa0e7",
   "metadata": {},
   "outputs": [
    {
     "data": {
      "text/plain": [
       "88"
      ]
     },
     "execution_count": 90,
     "metadata": {},
     "output_type": "execute_result"
    }
   ],
   "source": [
    "11 << 3"
   ]
  },
  {
   "cell_type": "code",
   "execution_count": 91,
   "id": "cebc1941-60b9-4777-9cbc-bcdb41f1d7bd",
   "metadata": {},
   "outputs": [
    {
     "data": {
      "text/plain": [
       "192"
      ]
     },
     "execution_count": 91,
     "metadata": {},
     "output_type": "execute_result"
    }
   ],
   "source": [
    "12 << 4"
   ]
  },
  {
   "cell_type": "code",
   "execution_count": 92,
   "id": "24e5890e-3698-4005-b78f-8bea1aa65480",
   "metadata": {},
   "outputs": [
    {
     "data": {
      "text/plain": [
       "2"
      ]
     },
     "execution_count": 92,
     "metadata": {},
     "output_type": "execute_result"
    }
   ],
   "source": [
    "10 >> 2 #>> (Right Shift)\tShifts bits to the right (divide by 2)"
   ]
  },
  {
   "cell_type": "code",
   "execution_count": 93,
   "id": "48a96e01-beb2-4025-a0a2-33cd82d8df06",
   "metadata": {},
   "outputs": [
    {
     "data": {
      "text/plain": [
       "1"
      ]
     },
     "execution_count": 93,
     "metadata": {},
     "output_type": "execute_result"
    }
   ],
   "source": [
    "11>>3"
   ]
  },
  {
   "cell_type": "code",
   "execution_count": 94,
   "id": "a0eef780-e052-4079-ad3d-898fad7f0b69",
   "metadata": {},
   "outputs": [
    {
     "data": {
      "text/plain": [
       "0"
      ]
     },
     "execution_count": 94,
     "metadata": {},
     "output_type": "execute_result"
    }
   ],
   "source": [
    "12>>4"
   ]
  },
  {
   "cell_type": "markdown",
   "id": "b1824ea6-51d7-46bc-a96c-3fb59d6fec99",
   "metadata": {},
   "source": [
    "#### 6.unary operator"
   ]
  },
  {
   "cell_type": "code",
   "execution_count": 95,
   "id": "8220453a-be3b-49f0-b151-f2609ed7a328",
   "metadata": {},
   "outputs": [
    {
     "name": "stdout",
     "output_type": "stream",
     "text": [
      "+a: 5\n",
      "-a: -5\n",
      "not b: False\n",
      "~c: -5\n"
     ]
    }
   ],
   "source": [
    "# ✅ Example 1: Unary + and -\n",
    "a = 5\n",
    "print(\"+a:\", +a)  # Positive (no change) → 5\n",
    "print(\"-a:\", -a)  # Negation → -5\n",
    "\n",
    "# ✅ Example 2: Logical NOT\n",
    "b = True\n",
    "print(\"not b:\", not b)  # Logical NOT → False\n",
    "\n",
    "# ✅ Example 3: Bitwise NOT\n",
    "c = 4  # Binary: 0100\n",
    "print(\"~c:\", ~c)  # Bitwise NOT → -(c + 1) → -5"
   ]
  },
  {
   "cell_type": "code",
   "execution_count": null,
   "id": "ef6c826e-8e5c-421f-897c-e4a4c61e89b1",
   "metadata": {},
   "outputs": [],
   "source": []
  }
 ],
 "metadata": {
  "kernelspec": {
   "display_name": "Python 3 (ipykernel)",
   "language": "python",
   "name": "python3"
  },
  "language_info": {
   "codemirror_mode": {
    "name": "ipython",
    "version": 3
   },
   "file_extension": ".py",
   "mimetype": "text/x-python",
   "name": "python",
   "nbconvert_exporter": "python",
   "pygments_lexer": "ipython3",
   "version": "3.12.4"
  }
 },
 "nbformat": 4,
 "nbformat_minor": 5
}
