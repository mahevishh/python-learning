{
 "cells": [
  {
   "cell_type": "markdown",
   "id": "12b2dfcd-4890-454b-8f38-223153312029",
   "metadata": {},
   "source": [
    "### Dictionary"
   ]
  },
  {
   "cell_type": "markdown",
   "id": "33e4d787-0133-4205-ae94-7b5e733e3c93",
   "metadata": {},
   "source": [
    "#### creating a dictionary"
   ]
  },
  {
   "cell_type": "code",
   "execution_count": 3,
   "id": "539383cb-8029-4254-9c71-c352b5b45cc0",
   "metadata": {},
   "outputs": [
    {
     "data": {
      "text/plain": [
       "{1: 'one', 2: 'two', 3: 'three', 4: 'two'}"
      ]
     },
     "execution_count": 3,
     "metadata": {},
     "output_type": "execute_result"
    }
   ],
   "source": [
    "#A python dictionary is a collection of key and value pairs separated by a colon (:) & enclosed in curly braces {}. \n",
    "#dict with int key\n",
    "d = {1:'one' , 2:'two', 3:'three' , 4:'two'} #Keys must be unique in a dictionary, duplicate values are allowed. \n",
    "d"
   ]
  },
  {
   "cell_type": "code",
   "execution_count": 4,
   "id": "b7f0df64-8f74-4d86-a5c4-4898180d7c09",
   "metadata": {},
   "outputs": [
    {
     "data": {
      "text/plain": [
       "{'one': 1, 'two': 2, 'three': 3}"
      ]
     },
     "execution_count": 4,
     "metadata": {},
     "output_type": "execute_result"
    }
   ],
   "source": [
    "#dict with string key\n",
    "d2={'one':1, 'two':2, 'three':3}\n",
    "d2"
   ]
  },
  {
   "cell_type": "code",
   "execution_count": 5,
   "id": "749e2956-1dec-46b1-9e6f-aee2ec1933cc",
   "metadata": {},
   "outputs": [
    {
     "data": {
      "text/plain": [
       "{'A': 'one', 2: 'two', 'C': 'three'}"
      ]
     },
     "execution_count": 5,
     "metadata": {},
     "output_type": "execute_result"
    }
   ],
   "source": [
    "#dict with mixed keys\n",
    "d3={'A':'one',2:'two','C':'three'}\n",
    "d3"
   ]
  },
  {
   "cell_type": "code",
   "execution_count": 6,
   "id": "0e8f8eb2-6b8d-4927-9029-0be37a0afdd6",
   "metadata": {},
   "outputs": [
    {
     "data": {
      "text/plain": [
       "dict_keys(['A', 2, 'C'])"
      ]
     },
     "execution_count": 6,
     "metadata": {},
     "output_type": "execute_result"
    }
   ],
   "source": [
    "d3.keys() ## Return Dictionary Keys using keys() method "
   ]
  },
  {
   "cell_type": "code",
   "execution_count": 7,
   "id": "2d2a0b8d-cf81-43fd-9aba-a9e9d8f1e17f",
   "metadata": {},
   "outputs": [
    {
     "data": {
      "text/plain": [
       "dict_values(['one', 'two', 'three'])"
      ]
     },
     "execution_count": 7,
     "metadata": {},
     "output_type": "execute_result"
    }
   ],
   "source": [
    "d3.values() #Return dictionary values using value()"
   ]
  },
  {
   "cell_type": "code",
   "execution_count": 8,
   "id": "b816cefc-a4a4-4a99-a75d-e3db1b5b9fa0",
   "metadata": {},
   "outputs": [
    {
     "data": {
      "text/plain": [
       "dict_items([('A', 'one'), (2, 'two'), ('C', 'three')])"
      ]
     },
     "execution_count": 8,
     "metadata": {},
     "output_type": "execute_result"
    }
   ],
   "source": [
    "d3.items() # Access each key-value pair within a dictionary "
   ]
  },
  {
   "cell_type": "code",
   "execution_count": 9,
   "id": "3115f5f8-e1f2-41e0-9033-b655417c6b52",
   "metadata": {},
   "outputs": [
    {
     "data": {
      "text/plain": [
       "{1: 'one', 2: 'two', 3: ['three', 'four']}"
      ]
     },
     "execution_count": 9,
     "metadata": {},
     "output_type": "execute_result"
    }
   ],
   "source": [
    "d4 = {1:'one' , 2: 'two', 3:['three','four']} #list inside a dictionary\n",
    "d4"
   ]
  },
  {
   "cell_type": "code",
   "execution_count": 11,
   "id": "bfccf285-642c-4f5f-ad79-a4ff92ceff0a",
   "metadata": {},
   "outputs": [
    {
     "data": {
      "text/plain": [
       "{'one': 1, 'two': 2, 'three': {3: 3, 4: 4}}"
      ]
     },
     "execution_count": 11,
     "metadata": {},
     "output_type": "execute_result"
    }
   ],
   "source": [
    "d5 = {'one': 1, 'two': 2 , 'three':{3:3,4:4}} #nested dictionary\n",
    "d5"
   ]
  },
  {
   "cell_type": "code",
   "execution_count": 13,
   "id": "f2973b09-10cf-4122-84b9-a26b4dfe2e1f",
   "metadata": {},
   "outputs": [
    {
     "data": {
      "text/plain": [
       "{'a': None, 'c': None, 'b': None, 'd': None}"
      ]
     },
     "execution_count": 13,
     "metadata": {},
     "output_type": "execute_result"
    }
   ],
   "source": [
    "keys={'a','b','c','d'} # Create a dictionary from a sequence of keys\n",
    "mydict= dict.fromkeys(keys) #Create a new dictionary with keys from iterable and values set to value.\n",
    "mydict"
   ]
  },
  {
   "cell_type": "code",
   "execution_count": 14,
   "id": "0fd02ed9-d18a-47e4-b1c1-cb614e8ac8b2",
   "metadata": {},
   "outputs": [
    {
     "data": {
      "text/plain": [
       "{'a': 5, 'c': 5, 'b': 5, 'd': 5}"
      ]
     },
     "execution_count": 14,
     "metadata": {},
     "output_type": "execute_result"
    }
   ],
   "source": [
    "keys={'a','b','c','d'}\n",
    "values=5\n",
    "mydict=dict.fromkeys(keys, values)\n",
    "mydict"
   ]
  },
  {
   "cell_type": "code",
   "execution_count": 15,
   "id": "91a813ec-9a14-4328-bf4f-036a0b18d480",
   "metadata": {},
   "outputs": [
    {
     "data": {
      "text/plain": [
       "{'a': [1, 2, 3], 'c': [1, 2, 3], 'b': [1, 2, 3], 'd': [1, 2, 3]}"
      ]
     },
     "execution_count": 15,
     "metadata": {},
     "output_type": "execute_result"
    }
   ],
   "source": [
    "keys={'a','b','c','d'}\n",
    "values=[1,2,3]\n",
    "mydict=dict.fromkeys(keys, values)\n",
    "mydict"
   ]
  },
  {
   "cell_type": "code",
   "execution_count": 17,
   "id": "0efaae60-6cda-495c-abcc-a7b933ba88b1",
   "metadata": {},
   "outputs": [
    {
     "data": {
      "text/plain": [
       "{'a': [1, 2, 3, 4, 4],\n",
       " 'c': [1, 2, 3, 4, 4],\n",
       " 'b': [1, 2, 3, 4, 4],\n",
       " 'd': [1, 2, 3, 4, 4]}"
      ]
     },
     "execution_count": 17,
     "metadata": {},
     "output_type": "execute_result"
    }
   ],
   "source": [
    "values.append(4) # Append object to the end of the list.\n",
    "mydict"
   ]
  },
  {
   "cell_type": "markdown",
   "id": "ecd3880a-c1d7-4ce9-a4a6-1b00cacb00d4",
   "metadata": {},
   "source": [
    "#### Accessing Items "
   ]
  },
  {
   "cell_type": "code",
   "execution_count": 18,
   "id": "df4d0a52-1ea0-4dbb-b924-c96845eb0abd",
   "metadata": {},
   "outputs": [
    {
     "data": {
      "text/plain": [
       "{'one': 1, 'two': 2, 'three': 3, 'four': 4}"
      ]
     },
     "execution_count": 18,
     "metadata": {},
     "output_type": "execute_result"
    }
   ],
   "source": [
    "d={'one':1, 'two':2, 'three':3, 'four':4}\n",
    "d"
   ]
  },
  {
   "cell_type": "code",
   "execution_count": 22,
   "id": "608a33ef-dcb3-40a1-bd44-68f35c946364",
   "metadata": {},
   "outputs": [
    {
     "data": {
      "text/plain": [
       "1"
      ]
     },
     "execution_count": 22,
     "metadata": {},
     "output_type": "execute_result"
    }
   ],
   "source": [
    "d['one'] # Access item using key "
   ]
  },
  {
   "cell_type": "code",
   "execution_count": 23,
   "id": "f6e004bc-8b40-46a2-b38d-2e389bc6fab7",
   "metadata": {},
   "outputs": [
    {
     "data": {
      "text/plain": [
       "2"
      ]
     },
     "execution_count": 23,
     "metadata": {},
     "output_type": "execute_result"
    }
   ],
   "source": [
    "d.get('two') #Return the value for key if key is in the dictionary, else default."
   ]
  },
  {
   "cell_type": "code",
   "execution_count": 25,
   "id": "409bf2ff-2552-455e-8201-ec70d1b49ee9",
   "metadata": {},
   "outputs": [],
   "source": [
    "d.get('five')"
   ]
  },
  {
   "cell_type": "markdown",
   "id": "3d220250-2b3a-4362-827c-9372683b5da9",
   "metadata": {},
   "source": [
    "#### Add, Remove & Change Items "
   ]
  },
  {
   "cell_type": "code",
   "execution_count": 43,
   "id": "fec42bf9-2ec6-41cc-8c22-36b7a26914c2",
   "metadata": {},
   "outputs": [
    {
     "data": {
      "text/plain": [
       "{'name': 'alex', 'age': 25, 'height': 5.1, 'phone_no': 0}"
      ]
     },
     "execution_count": 43,
     "metadata": {},
     "output_type": "execute_result"
    }
   ],
   "source": [
    "d={'name':'alex' , 'age':25, 'height':5.1, 'phone_no': 0000000000}\n",
    "d"
   ]
  },
  {
   "cell_type": "code",
   "execution_count": 44,
   "id": "4e8671d0-4306-4551-94c9-8c0ccd758b36",
   "metadata": {},
   "outputs": [
    {
     "data": {
      "text/plain": [
       "{'name': 'alex', 'age': 26, 'height': 5.1, 'phone_no': 0}"
      ]
     },
     "execution_count": 44,
     "metadata": {},
     "output_type": "execute_result"
    }
   ],
   "source": [
    "d['age']=26 ## Changing Dictionary Items \n",
    "d"
   ]
  },
  {
   "cell_type": "code",
   "execution_count": 45,
   "id": "39483d92-6729-4d9a-b0a8-3c434f45b89a",
   "metadata": {},
   "outputs": [
    {
     "data": {
      "text/plain": [
       "{'name': 'alex', 'age': 27, 'height': 5.1, 'phone_no': 0}"
      ]
     },
     "execution_count": 45,
     "metadata": {},
     "output_type": "execute_result"
    }
   ],
   "source": [
    "update_d={'age':27} \n",
    "d.update(update_d) \n",
    "d"
   ]
  },
  {
   "cell_type": "code",
   "execution_count": 46,
   "id": "b40b9d28-0cb0-4f5e-a754-2d753bc1f06e",
   "metadata": {},
   "outputs": [
    {
     "data": {
      "text/plain": [
       "{'name': 'alex', 'age': 27, 'height': 5.1, 'phone_no': 0}"
      ]
     },
     "execution_count": 46,
     "metadata": {},
     "output_type": "execute_result"
    }
   ],
   "source": [
    "#adding items in dictionary\n",
    "d"
   ]
  },
  {
   "cell_type": "code",
   "execution_count": 47,
   "id": "16c6365a-2a6f-421b-89ed-0d315020cc5a",
   "metadata": {},
   "outputs": [
    {
     "data": {
      "text/plain": [
       "{'name': 'alex', 'age': 27, 'height': 5.1, 'phone_no': 0, 'salary': 25000}"
      ]
     },
     "execution_count": 47,
     "metadata": {},
     "output_type": "execute_result"
    }
   ],
   "source": [
    "d['salary'] = 25000\n",
    "d"
   ]
  },
  {
   "cell_type": "code",
   "execution_count": 48,
   "id": "6bcf8011-c5fd-4ec5-81a1-49b05255b5d0",
   "metadata": {},
   "outputs": [
    {
     "data": {
      "text/plain": [
       "5.1"
      ]
     },
     "execution_count": 48,
     "metadata": {},
     "output_type": "execute_result"
    }
   ],
   "source": [
    "# Removing items in the dictionary using Pop method \n",
    "d.pop('height')"
   ]
  },
  {
   "cell_type": "code",
   "execution_count": 49,
   "id": "7d24287e-1733-4947-b2fa-f3445b12c534",
   "metadata": {},
   "outputs": [
    {
     "data": {
      "text/plain": [
       "{'name': 'alex', 'age': 27, 'phone_no': 0, 'salary': 25000}"
      ]
     },
     "execution_count": 49,
     "metadata": {},
     "output_type": "execute_result"
    }
   ],
   "source": [
    "d"
   ]
  },
  {
   "cell_type": "code",
   "execution_count": 50,
   "id": "db513927-b550-4006-962d-8c3c3062588b",
   "metadata": {},
   "outputs": [
    {
     "data": {
      "text/plain": [
       "{'name': 'alex', 'age': 27, 'phone_no': 0}"
      ]
     },
     "execution_count": 50,
     "metadata": {},
     "output_type": "execute_result"
    }
   ],
   "source": [
    "d.popitem() # A random item is removed \n",
    "d"
   ]
  },
  {
   "cell_type": "code",
   "execution_count": 51,
   "id": "4672ec05-bdee-4c6e-8f0d-a118b798d205",
   "metadata": {},
   "outputs": [
    {
     "data": {
      "text/plain": [
       "{'name': 'alex', 'phone_no': 0}"
      ]
     },
     "execution_count": 51,
     "metadata": {},
     "output_type": "execute_result"
    }
   ],
   "source": [
    "del[d['age']] ## Removing item using del method \n",
    "d"
   ]
  },
  {
   "cell_type": "code",
   "execution_count": 52,
   "id": "09b4e33a-5072-485d-8921-893cfef363e5",
   "metadata": {},
   "outputs": [
    {
     "data": {
      "text/plain": [
       "{}"
      ]
     },
     "execution_count": 52,
     "metadata": {},
     "output_type": "execute_result"
    }
   ],
   "source": [
    "d.clear()  # Delete all items of the dictionary using clear method\n",
    "d"
   ]
  },
  {
   "cell_type": "code",
   "execution_count": 54,
   "id": "d62592d4-3f84-4ac0-846e-00dee2c9e33b",
   "metadata": {},
   "outputs": [],
   "source": [
    "del d # Delete the dictionary object"
   ]
  },
  {
   "cell_type": "code",
   "execution_count": 55,
   "id": "883e4432-abec-4831-9f2b-d7be77eda1b5",
   "metadata": {},
   "outputs": [
    {
     "ename": "NameError",
     "evalue": "name 'd' is not defined",
     "output_type": "error",
     "traceback": [
      "\u001b[1;31m---------------------------------------------------------------------------\u001b[0m",
      "\u001b[1;31mNameError\u001b[0m                                 Traceback (most recent call last)",
      "Cell \u001b[1;32mIn[55], line 1\u001b[0m\n\u001b[1;32m----> 1\u001b[0m \u001b[43md\u001b[49m\n",
      "\u001b[1;31mNameError\u001b[0m: name 'd' is not defined"
     ]
    }
   ],
   "source": [
    "d"
   ]
  },
  {
   "cell_type": "markdown",
   "id": "525ff9c4-b467-40a7-ae14-e1214d85658d",
   "metadata": {},
   "source": [
    "#### Copy Dictionary "
   ]
  },
  {
   "cell_type": "code",
   "execution_count": 56,
   "id": "8916231d-d4c9-4316-bdf5-62480d1b6746",
   "metadata": {},
   "outputs": [
    {
     "data": {
      "text/plain": [
       "{1: 'one', 2: 'two', 3: 'three'}"
      ]
     },
     "execution_count": 56,
     "metadata": {},
     "output_type": "execute_result"
    }
   ],
   "source": [
    "d={1:'one', 2:'two', 3:'three'}\n",
    "d"
   ]
  },
  {
   "cell_type": "code",
   "execution_count": 57,
   "id": "3041504d-b0be-4bb5-a258-d6d1245e189d",
   "metadata": {},
   "outputs": [
    {
     "data": {
      "text/plain": [
       "{1: 'one', 2: 'two', 3: 'three'}"
      ]
     },
     "execution_count": 57,
     "metadata": {},
     "output_type": "execute_result"
    }
   ],
   "source": [
    "mydict=d.copy() #D.copy() -> a shallow copy of D\n",
    "mydict"
   ]
  },
  {
   "cell_type": "code",
   "execution_count": 58,
   "id": "d01e7eef-7d9d-4ec0-862b-17b0e242b508",
   "metadata": {},
   "outputs": [
    {
     "data": {
      "text/plain": [
       "True"
      ]
     },
     "execution_count": 58,
     "metadata": {},
     "output_type": "execute_result"
    }
   ],
   "source": [
    "mydict == d"
   ]
  },
  {
   "cell_type": "code",
   "execution_count": 59,
   "id": "a4ae0f55-c763-4ce8-b23e-69ed824b9aa7",
   "metadata": {},
   "outputs": [
    {
     "data": {
      "text/plain": [
       "False"
      ]
     },
     "execution_count": 59,
     "metadata": {},
     "output_type": "execute_result"
    }
   ],
   "source": [
    "id(mydict)== id(d)\n"
   ]
  },
  {
   "cell_type": "markdown",
   "id": "aa57bfb2-450e-4a30-8d6b-6e0db49afb4a",
   "metadata": {},
   "source": [
    "#### Loop through a Dictionary "
   ]
  },
  {
   "cell_type": "code",
   "execution_count": 60,
   "id": "7c9da016-94d7-4d32-a49d-1018895cf008",
   "metadata": {},
   "outputs": [
    {
     "data": {
      "text/plain": [
       "{1: 'one', 2: 'two', 3: 'three'}"
      ]
     },
     "execution_count": 60,
     "metadata": {},
     "output_type": "execute_result"
    }
   ],
   "source": [
    "mydict"
   ]
  },
  {
   "cell_type": "code",
   "execution_count": 63,
   "id": "202ea9da-1439-42c9-b6d8-187e91131c0c",
   "metadata": {},
   "outputs": [
    {
     "name": "stdout",
     "output_type": "stream",
     "text": [
      "1 : one\n",
      "2 : two\n",
      "3 : three\n"
     ]
    }
   ],
   "source": [
    "for i in mydict:\n",
    "    print(i, ':', mydict[i]) ## Key & value pair "
   ]
  },
  {
   "cell_type": "code",
   "execution_count": 64,
   "id": "d431bd16-1710-4af3-8e10-dca05ae7aa30",
   "metadata": {},
   "outputs": [
    {
     "name": "stdout",
     "output_type": "stream",
     "text": [
      "1\n",
      "2\n",
      "3\n"
     ]
    }
   ],
   "source": [
    "for i in mydict:\n",
    "    print(i) #print keys\n"
   ]
  },
  {
   "cell_type": "code",
   "execution_count": 65,
   "id": "f71887cc-75f5-4d64-bd2f-45731b819599",
   "metadata": {},
   "outputs": [
    {
     "name": "stdout",
     "output_type": "stream",
     "text": [
      "one\n",
      "two\n",
      "three\n"
     ]
    }
   ],
   "source": [
    "for i in mydict:\n",
    "    print(mydict[i]) #print values"
   ]
  },
  {
   "cell_type": "markdown",
   "id": "ea75c241-e458-42a4-bc2f-362e01c88aed",
   "metadata": {},
   "source": [
    "#### Dictionary Membership"
   ]
  },
  {
   "cell_type": "code",
   "execution_count": 66,
   "id": "b69375b3-63a0-43e3-98ff-74bf7d99c07f",
   "metadata": {},
   "outputs": [
    {
     "data": {
      "text/plain": [
       "{1: 'one', 2: 'two', 3: 'three'}"
      ]
     },
     "execution_count": 66,
     "metadata": {},
     "output_type": "execute_result"
    }
   ],
   "source": [
    "mydict"
   ]
  },
  {
   "cell_type": "code",
   "execution_count": 69,
   "id": "e0c6d6c4-3f01-4064-9a5a-dec41354eb25",
   "metadata": {},
   "outputs": [
    {
     "data": {
      "text/plain": [
       "True"
      ]
     },
     "execution_count": 69,
     "metadata": {},
     "output_type": "execute_result"
    }
   ],
   "source": [
    "1 in mydict # Test if a key is in a dictionary or not. "
   ]
  },
  {
   "cell_type": "code",
   "execution_count": 70,
   "id": "3792d40d-f161-4349-b36d-bc2794cc60ff",
   "metadata": {},
   "outputs": [
    {
     "data": {
      "text/plain": [
       "False"
      ]
     },
     "execution_count": 70,
     "metadata": {},
     "output_type": "execute_result"
    }
   ],
   "source": [
    "'two' in mydict ## Membership test can be only done for keys."
   ]
  },
  {
   "cell_type": "code",
   "execution_count": 71,
   "id": "10828b83-692c-4545-836e-4287ed216d26",
   "metadata": {},
   "outputs": [
    {
     "data": {
      "text/plain": [
       "True"
      ]
     },
     "execution_count": 71,
     "metadata": {},
     "output_type": "execute_result"
    }
   ],
   "source": [
    "2 in mydict"
   ]
  },
  {
   "cell_type": "code",
   "execution_count": 72,
   "id": "ddf64376-4afb-4ec2-a935-a02f530d276a",
   "metadata": {},
   "outputs": [
    {
     "data": {
      "text/plain": [
       "False"
      ]
     },
     "execution_count": 72,
     "metadata": {},
     "output_type": "execute_result"
    }
   ],
   "source": [
    "4 in mydict"
   ]
  },
  {
   "cell_type": "markdown",
   "id": "6c8c8165-4d03-4d7b-b639-571e4eede989",
   "metadata": {},
   "source": [
    "#### All / Any \n",
    "##### The all() method returns:  True - If all all keys of the dictionary are true , False - If any key of the dictionary is false \n",
    "\n",
    "\n",
    "##### The any() function returns True if any key of the dictionary is True. If not, any() returns False. "
   ]
  },
  {
   "cell_type": "code",
   "execution_count": 73,
   "id": "c5f0ef70-e161-482c-befe-543ecb981e3a",
   "metadata": {},
   "outputs": [
    {
     "data": {
      "text/plain": [
       "{1: 'one', 2: 'two', 3: 'three'}"
      ]
     },
     "execution_count": 73,
     "metadata": {},
     "output_type": "execute_result"
    }
   ],
   "source": [
    "d"
   ]
  },
  {
   "cell_type": "code",
   "execution_count": 74,
   "id": "d4d2d006-4964-4ea7-acfc-4fc8eab5eea0",
   "metadata": {},
   "outputs": [
    {
     "data": {
      "text/plain": [
       "True"
      ]
     },
     "execution_count": 74,
     "metadata": {},
     "output_type": "execute_result"
    }
   ],
   "source": [
    "all(d)"
   ]
  },
  {
   "cell_type": "code",
   "execution_count": 75,
   "id": "65dc93ed-e054-4387-a11c-47695b69ce99",
   "metadata": {},
   "outputs": [
    {
     "data": {
      "text/plain": [
       "True"
      ]
     },
     "execution_count": 75,
     "metadata": {},
     "output_type": "execute_result"
    }
   ],
   "source": [
    "any(d)"
   ]
  },
  {
   "cell_type": "code",
   "execution_count": null,
   "id": "0e6a0c8b-5206-40f2-86dc-b7daa54f3bf8",
   "metadata": {},
   "outputs": [],
   "source": [
    "mydict."
   ]
  }
 ],
 "metadata": {
  "kernelspec": {
   "display_name": "Python 3 (ipykernel)",
   "language": "python",
   "name": "python3"
  },
  "language_info": {
   "codemirror_mode": {
    "name": "ipython",
    "version": 3
   },
   "file_extension": ".py",
   "mimetype": "text/x-python",
   "name": "python",
   "nbconvert_exporter": "python",
   "pygments_lexer": "ipython3",
   "version": "3.12.4"
  }
 },
 "nbformat": 4,
 "nbformat_minor": 5
}
