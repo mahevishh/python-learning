{
 "cells": [
  {
   "cell_type": "markdown",
   "id": "a7258b8c-7d18-40b8-93d7-f811116dab05",
   "metadata": {},
   "source": [
    "# Dta Structure\n",
    "## Set"
   ]
  },
  {
   "cell_type": "code",
   "execution_count": 33,
   "id": "08c5e953-f132-41e7-945c-136a69cd03a3",
   "metadata": {},
   "outputs": [
    {
     "data": {
      "text/plain": [
       "set()"
      ]
     },
     "execution_count": 33,
     "metadata": {},
     "output_type": "execute_result"
    }
   ],
   "source": [
    "#Creating a set\n",
    "s= set()\n",
    "s"
   ]
  },
  {
   "cell_type": "markdown",
   "id": "fe024380-1058-431d-a792-a526992e31f1",
   "metadata": {},
   "source": [
    "### ❌ You cannot access by index"
   ]
  },
  {
   "cell_type": "code",
   "execution_count": 34,
   "id": "f3e61f5e-bf9f-4258-9fab-01c9f6a8ff5b",
   "metadata": {},
   "outputs": [
    {
     "ename": "TypeError",
     "evalue": "'set' object is not subscriptable",
     "output_type": "error",
     "traceback": [
      "\u001b[1;31m---------------------------------------------------------------------------\u001b[0m",
      "\u001b[1;31mTypeError\u001b[0m                                 Traceback (most recent call last)",
      "Cell \u001b[1;32mIn[34], line 2\u001b[0m\n\u001b[0;32m      1\u001b[0m \u001b[38;5;66;03m#try accessing set through index\u001b[39;00m\n\u001b[1;32m----> 2\u001b[0m \u001b[43ms\u001b[49m\u001b[43m[\u001b[49m\u001b[38;5;241;43m0\u001b[39;49m\u001b[43m]\u001b[49m\n",
      "\u001b[1;31mTypeError\u001b[0m: 'set' object is not subscriptable"
     ]
    }
   ],
   "source": [
    "#try accessing set through index\n",
    "s[0]"
   ]
  },
  {
   "cell_type": "markdown",
   "id": "0013963e-aedb-46ec-94bc-8069879e4856",
   "metadata": {},
   "source": [
    "### ❌ You cannot slice a set"
   ]
  },
  {
   "cell_type": "code",
   "execution_count": 35,
   "id": "27893319-091b-4344-837b-f93658819726",
   "metadata": {},
   "outputs": [
    {
     "ename": "TypeError",
     "evalue": "'set' object is not subscriptable",
     "output_type": "error",
     "traceback": [
      "\u001b[1;31m---------------------------------------------------------------------------\u001b[0m",
      "\u001b[1;31mTypeError\u001b[0m                                 Traceback (most recent call last)",
      "Cell \u001b[1;32mIn[35], line 2\u001b[0m\n\u001b[0;32m      1\u001b[0m \u001b[38;5;66;03m#try slicing\u001b[39;00m\n\u001b[1;32m----> 2\u001b[0m \u001b[43ms\u001b[49m\u001b[43m[\u001b[49m\u001b[43m:\u001b[49m\u001b[43m]\u001b[49m\n",
      "\u001b[1;31mTypeError\u001b[0m: 'set' object is not subscriptable"
     ]
    }
   ],
   "source": [
    "#try slicing\n",
    "s[:]"
   ]
  },
  {
   "cell_type": "markdown",
   "id": "27caeea4-246e-4177-ae42-f42c30be7ff8",
   "metadata": {},
   "source": [
    "### Adding elements in a set"
   ]
  },
  {
   "cell_type": "code",
   "execution_count": 36,
   "id": "71d4f4c0-e050-46f7-97f9-0e930ccd2d83",
   "metadata": {},
   "outputs": [
    {
     "data": {
      "text/plain": [
       "{1, 2, 3, 4, 5, 9}"
      ]
     },
     "execution_count": 36,
     "metadata": {},
     "output_type": "execute_result"
    }
   ],
   "source": [
    "#using add()-Add an element to a set in ordered way only if the data type is similar.\n",
    "s.add(1) \n",
    "s.add(3)\n",
    "s.add(5)\n",
    "s.add(9)\n",
    "s.add(2)\n",
    "s.add(4)\n",
    "s\n",
    "\n"
   ]
  },
  {
   "cell_type": "code",
   "execution_count": 37,
   "id": "963cd828-bf24-4096-bd0f-7d03cdf57fd8",
   "metadata": {},
   "outputs": [],
   "source": [
    "#using update()-Update a set with the union of itself and others.\n",
    "s.update(\"10\")"
   ]
  },
  {
   "cell_type": "code",
   "execution_count": 38,
   "id": "77f6fbbb-1839-4946-aefd-c7b9e59bd6c2",
   "metadata": {},
   "outputs": [
    {
     "data": {
      "text/plain": [
       "{'0', 1, '1', 2, 3, 4, 5, 9}"
      ]
     },
     "execution_count": 38,
     "metadata": {},
     "output_type": "execute_result"
    }
   ],
   "source": [
    "s"
   ]
  },
  {
   "cell_type": "markdown",
   "id": "6f966b51-93f3-4e01-9dae-3352ed562037",
   "metadata": {},
   "source": [
    "### Sets with different data types"
   ]
  },
  {
   "cell_type": "code",
   "execution_count": 39,
   "id": "3cc78566-1351-4e18-9bee-bdc0bb699ea2",
   "metadata": {},
   "outputs": [],
   "source": [
    "s1=set()"
   ]
  },
  {
   "cell_type": "code",
   "execution_count": 40,
   "id": "5d5e5e87-e6b9-47a3-bee7-f5cda1ca26f9",
   "metadata": {},
   "outputs": [
    {
     "data": {
      "text/plain": [
       "{(1+2j), 1, 20, 5.3, 'nit_student'}"
      ]
     },
     "execution_count": 40,
     "metadata": {},
     "output_type": "execute_result"
    }
   ],
   "source": [
    "# Set with different data types\n",
    "s1={1,5.3,20,\"nit_student\", 1+2j,True}\n",
    "s1"
   ]
  },
  {
   "cell_type": "code",
   "execution_count": 41,
   "id": "d369b22a-6afe-4b4d-a333-3d2f285d3dc7",
   "metadata": {},
   "outputs": [
    {
     "ename": "TypeError",
     "evalue": "unhashable type: 'list'",
     "output_type": "error",
     "traceback": [
      "\u001b[1;31m---------------------------------------------------------------------------\u001b[0m",
      "\u001b[1;31mTypeError\u001b[0m                                 Traceback (most recent call last)",
      "Cell \u001b[1;32mIn[41], line 2\u001b[0m\n\u001b[0;32m      1\u001b[0m \u001b[38;5;66;03m# This will raise an error\u001b[39;00m\n\u001b[1;32m----> 2\u001b[0m nesting_list\u001b[38;5;241m=\u001b[39m{[\u001b[38;5;241m1\u001b[39m,\u001b[38;5;241m2\u001b[39m]} \u001b[38;5;66;03m## ❌ lists are unhashable\u001b[39;00m\n",
      "\u001b[1;31mTypeError\u001b[0m: unhashable type: 'list'"
     ]
    }
   ],
   "source": [
    "# This will raise an error\n",
    "nesting_list={[1,2]} ## ❌ lists are unhashable"
   ]
  },
  {
   "cell_type": "markdown",
   "id": "ee459e9c-9295-4190-9431-8ace0d9006fd",
   "metadata": {},
   "source": [
    "### Removing elements from a set"
   ]
  },
  {
   "cell_type": "code",
   "execution_count": 42,
   "id": "f928c64c-cba8-41e1-95e8-1f55d8419440",
   "metadata": {},
   "outputs": [
    {
     "data": {
      "text/plain": [
       "{'0', 1, '1', 2, 3, 5, 9}"
      ]
     },
     "execution_count": 42,
     "metadata": {},
     "output_type": "execute_result"
    }
   ],
   "source": [
    "#using remove()- Remove an element from a set; it must be a member\n",
    "s.remove(4)\n",
    "s"
   ]
  },
  {
   "cell_type": "code",
   "execution_count": 43,
   "id": "c4cf8bef-1843-4199-990c-91261115b79b",
   "metadata": {},
   "outputs": [
    {
     "data": {
      "text/plain": [
       "1"
      ]
     },
     "execution_count": 43,
     "metadata": {},
     "output_type": "execute_result"
    }
   ],
   "source": [
    "#ussing pop()- Remove and return an arbitrary set element.Raises KeyError if the set is empty.s.pop() \n",
    "s.pop()"
   ]
  },
  {
   "cell_type": "code",
   "execution_count": 44,
   "id": "45044209-bc6c-4255-aaf5-cca5cd9daf20",
   "metadata": {},
   "outputs": [
    {
     "data": {
      "text/plain": [
       "{'0', '1', 2, 3, 5, 9}"
      ]
     },
     "execution_count": 44,
     "metadata": {},
     "output_type": "execute_result"
    }
   ],
   "source": [
    "s"
   ]
  },
  {
   "cell_type": "code",
   "execution_count": 45,
   "id": "1b871edc-2d4d-4c37-8191-f953868461bf",
   "metadata": {},
   "outputs": [],
   "source": [
    "#using discard()- Remove an element from a set if it is a member.\n",
    "s.discard(3)"
   ]
  },
  {
   "cell_type": "code",
   "execution_count": 46,
   "id": "c22bd09d-cc59-4183-a357-26c5216ddb5e",
   "metadata": {},
   "outputs": [
    {
     "data": {
      "text/plain": [
       "{'0', '1', 2, 5, 9}"
      ]
     },
     "execution_count": 46,
     "metadata": {},
     "output_type": "execute_result"
    }
   ],
   "source": [
    "s"
   ]
  },
  {
   "cell_type": "code",
   "execution_count": 47,
   "id": "3866c741-e27f-4b87-9670-330d5ce1c9e1",
   "metadata": {},
   "outputs": [],
   "source": [
    "#Unlike set.remove(), the discard() method does not raise an exception when an element is missing from the set.\n",
    "s.discard(100)"
   ]
  },
  {
   "cell_type": "code",
   "execution_count": 48,
   "id": "cbb5f21b-2cb6-4d6d-846b-f310bc90ba64",
   "metadata": {},
   "outputs": [
    {
     "data": {
      "text/plain": [
       "{'0', '1', 2, 5, 9}"
      ]
     },
     "execution_count": 48,
     "metadata": {},
     "output_type": "execute_result"
    }
   ],
   "source": [
    "s"
   ]
  },
  {
   "cell_type": "code",
   "execution_count": 49,
   "id": "76812325-8ba8-4f70-a117-5256e1d55248",
   "metadata": {},
   "outputs": [],
   "source": [
    "#using clear()-Remove all elements from this set.\n",
    "s.clear()"
   ]
  },
  {
   "cell_type": "code",
   "execution_count": 50,
   "id": "4d381fb8-0f21-40e1-b95e-a538453110c0",
   "metadata": {},
   "outputs": [
    {
     "data": {
      "text/plain": [
       "set()"
      ]
     },
     "execution_count": 50,
     "metadata": {},
     "output_type": "execute_result"
    }
   ],
   "source": [
    "s"
   ]
  },
  {
   "cell_type": "code",
   "execution_count": 51,
   "id": "23cbeb6b-1419-43e4-b34b-af22ac5c6b22",
   "metadata": {},
   "outputs": [],
   "source": [
    "s3=set()\n",
    "s3={1,4,6,3,7}"
   ]
  },
  {
   "cell_type": "code",
   "execution_count": 52,
   "id": "d3e59234-297e-4d0b-9590-5d1160de8b89",
   "metadata": {},
   "outputs": [
    {
     "data": {
      "text/plain": [
       "{1, 3, 4, 6, 7}"
      ]
     },
     "execution_count": 52,
     "metadata": {},
     "output_type": "execute_result"
    }
   ],
   "source": [
    "s3"
   ]
  },
  {
   "cell_type": "markdown",
   "id": "7ea2feba-e292-41c7-aaa9-40c7f17a4930",
   "metadata": {},
   "source": [
    "### for loop in set"
   ]
  },
  {
   "cell_type": "code",
   "execution_count": 53,
   "id": "71f69c73-0aea-43bd-9c3e-5adf976fc6cf",
   "metadata": {},
   "outputs": [
    {
     "name": "stdout",
     "output_type": "stream",
     "text": [
      "1\n",
      "3\n",
      "4\n",
      "6\n",
      "7\n"
     ]
    }
   ],
   "source": [
    "for i in s3:\n",
    "    print(i)"
   ]
  },
  {
   "cell_type": "code",
   "execution_count": 54,
   "id": "1a2e0dfd-c1ae-49b4-8fc1-b23b96c631b4",
   "metadata": {},
   "outputs": [
    {
     "name": "stdout",
     "output_type": "stream",
     "text": [
      "(0, 1)\n",
      "(1, 3)\n",
      "(2, 4)\n",
      "(3, 6)\n",
      "(4, 7)\n"
     ]
    }
   ],
   "source": [
    "for i in enumerate(s3):\n",
    "    print(i)"
   ]
  },
  {
   "cell_type": "markdown",
   "id": "b33d4a1b-6e79-4075-8b60-6486f34b0798",
   "metadata": {},
   "source": [
    "### Set Uniqueness and Duplicates"
   ]
  },
  {
   "cell_type": "code",
   "execution_count": 104,
   "id": "7037f8b2-565a-40c9-8e97-1084edb0cc71",
   "metadata": {},
   "outputs": [
    {
     "name": "stdout",
     "output_type": "stream",
     "text": [
      "Set with duplicates removed: {1, 2, 3, 4, 5}\n"
     ]
    }
   ],
   "source": [
    "# Creating a set with duplicate values\n",
    "numbers = {1, 2, 2, 3, 4, 4, 5}\n",
    "\n",
    "print(\"Set with duplicates removed:\", numbers)"
   ]
  },
  {
   "cell_type": "code",
   "execution_count": 105,
   "id": "0a58ca29-4114-4361-a5ce-fabbcd401125",
   "metadata": {},
   "outputs": [],
   "source": [
    "#Even though you added 2 and 4 twice, the set only keeps one copy of each."
   ]
  },
  {
   "cell_type": "code",
   "execution_count": 106,
   "id": "b149b0d4-364a-4050-9470-7c390d05cbbd",
   "metadata": {},
   "outputs": [
    {
     "name": "stdout",
     "output_type": "stream",
     "text": [
      "Fruits set: {'apple', 'banana', 'cherry'}\n"
     ]
    }
   ],
   "source": [
    "fruits = {\"apple\", \"banana\"}\n",
    "fruits.add(\"apple\")   # Duplicate\n",
    "fruits.add(\"cherry\")  # New item\n",
    "\n",
    "print(\"Fruits set:\", fruits)"
   ]
  },
  {
   "cell_type": "markdown",
   "id": "5214d828-fd8f-4685-bf93-4e63406519da",
   "metadata": {},
   "source": [
    "### set operations"
   ]
  },
  {
   "cell_type": "code",
   "execution_count": 55,
   "id": "330b6333-753b-4b95-b179-e81def188d3b",
   "metadata": {},
   "outputs": [
    {
     "name": "stdout",
     "output_type": "stream",
     "text": [
      "{1, 2, 3, 4} {3, 4, 5, 6, 7, 8} {8, 9, 10}\n"
     ]
    }
   ],
   "source": [
    "s1={1,2,3,4}\n",
    "s2={3,4,5,6,7,8}\n",
    "s3={8,9,10}\n",
    "print(s1,s2,s3)"
   ]
  },
  {
   "cell_type": "markdown",
   "id": "d303b852-0097-41b0-a0c9-04feff3c4a85",
   "metadata": {},
   "source": [
    "#### Union"
   ]
  },
  {
   "cell_type": "code",
   "execution_count": 56,
   "id": "df3b7f28-dd07-471a-baee-89020e262598",
   "metadata": {},
   "outputs": [
    {
     "data": {
      "text/plain": [
       "{1, 2, 3, 4, 5, 6, 7, 8}"
      ]
     },
     "execution_count": 56,
     "metadata": {},
     "output_type": "execute_result"
    }
   ],
   "source": [
    "#union()- Return the union of sets as a new set.\n",
    "s1.union(s2) "
   ]
  },
  {
   "cell_type": "code",
   "execution_count": 57,
   "id": "d3528444-483c-44db-a20f-c7f81b253cf8",
   "metadata": {},
   "outputs": [
    {
     "data": {
      "text/plain": [
       "{1, 2, 3, 4, 5, 6, 7, 8}"
      ]
     },
     "execution_count": 57,
     "metadata": {},
     "output_type": "execute_result"
    }
   ],
   "source": [
    "s1 | s2 #|-  concate the set similar to union"
   ]
  },
  {
   "cell_type": "code",
   "execution_count": 58,
   "id": "75e54dfc-134e-498c-b1b0-14fb86107505",
   "metadata": {},
   "outputs": [
    {
     "data": {
      "text/plain": [
       "{1, 2, 3, 4, 5, 6, 7, 8, 9, 10}"
      ]
     },
     "execution_count": 58,
     "metadata": {},
     "output_type": "execute_result"
    }
   ],
   "source": [
    "s1 | s2 | s3"
   ]
  },
  {
   "cell_type": "code",
   "execution_count": 59,
   "id": "c8649cc6-b9cf-44c2-a707-078c44875d05",
   "metadata": {},
   "outputs": [
    {
     "data": {
      "text/plain": [
       "{1, 2, 3, 4, 5, 6, 7, 8, 9, 10}"
      ]
     },
     "execution_count": 59,
     "metadata": {},
     "output_type": "execute_result"
    }
   ],
   "source": [
    "s1.union(s2,s3)"
   ]
  },
  {
   "cell_type": "markdown",
   "id": "c44d41bd-aeec-4930-9be2-49adbac96f74",
   "metadata": {},
   "source": [
    "#### difference"
   ]
  },
  {
   "cell_type": "code",
   "execution_count": 60,
   "id": "387c4908-03c9-4d67-80a3-3279b107b0d6",
   "metadata": {},
   "outputs": [
    {
     "name": "stdout",
     "output_type": "stream",
     "text": [
      "{1, 2, 3, 4} {3, 4, 5, 6, 7, 8} {8, 9, 10}\n"
     ]
    }
   ],
   "source": [
    "print(s1,s2,s3)\n"
   ]
  },
  {
   "cell_type": "code",
   "execution_count": 61,
   "id": "4561a25a-8eb2-49e2-8d41-8f4e27461821",
   "metadata": {},
   "outputs": [
    {
     "data": {
      "text/plain": [
       "{1, 2}"
      ]
     },
     "execution_count": 61,
     "metadata": {},
     "output_type": "execute_result"
    }
   ],
   "source": [
    "#difference- Return the difference of two or more sets as a new set.\n",
    "s1.difference(s2)"
   ]
  },
  {
   "cell_type": "code",
   "execution_count": 62,
   "id": "03b94f8b-a056-4ba2-83b9-653b46d84f2d",
   "metadata": {},
   "outputs": [
    {
     "data": {
      "text/plain": [
       "{5, 6, 7, 8}"
      ]
     },
     "execution_count": 62,
     "metadata": {},
     "output_type": "execute_result"
    }
   ],
   "source": [
    "s2.difference(s1)"
   ]
  },
  {
   "cell_type": "code",
   "execution_count": 63,
   "id": "17fcebfd-3bb1-4e87-9b43-9f09b74f3a0e",
   "metadata": {},
   "outputs": [
    {
     "data": {
      "text/plain": [
       "{3, 4, 5, 6, 7}"
      ]
     },
     "execution_count": 63,
     "metadata": {},
     "output_type": "execute_result"
    }
   ],
   "source": [
    "s2.difference(s3)"
   ]
  },
  {
   "cell_type": "code",
   "execution_count": 64,
   "id": "3d6c0d7b-5c9e-4040-b61a-b3222bc85b07",
   "metadata": {},
   "outputs": [
    {
     "data": {
      "text/plain": [
       "{8, 9, 10}"
      ]
     },
     "execution_count": 64,
     "metadata": {},
     "output_type": "execute_result"
    }
   ],
   "source": [
    "s3.difference(s1)"
   ]
  },
  {
   "cell_type": "code",
   "execution_count": 65,
   "id": "c354ea6d-7481-4dc0-b872-9a4a7178dfbc",
   "metadata": {},
   "outputs": [
    {
     "data": {
      "text/plain": [
       "{1, 2}"
      ]
     },
     "execution_count": 65,
     "metadata": {},
     "output_type": "execute_result"
    }
   ],
   "source": [
    "s1.difference(s2,s3)"
   ]
  },
  {
   "cell_type": "code",
   "execution_count": 66,
   "id": "e263a003-6ed6-4877-b6d2-4c147ffc50de",
   "metadata": {},
   "outputs": [
    {
     "data": {
      "text/plain": [
       "{1, 2}"
      ]
     },
     "execution_count": 66,
     "metadata": {},
     "output_type": "execute_result"
    }
   ],
   "source": [
    "s1-s2 #'-' symbol act as difference"
   ]
  },
  {
   "cell_type": "markdown",
   "id": "3f48197f-e954-4098-870a-3e56bb4cb78d",
   "metadata": {},
   "source": [
    "#### symmetric_difference"
   ]
  },
  {
   "cell_type": "code",
   "execution_count": 67,
   "id": "04d6097c-7e09-4549-9955-8e9b928b52cd",
   "metadata": {},
   "outputs": [
    {
     "data": {
      "text/plain": [
       "({1, 2, 3, 4}, {3, 4, 5, 6, 7, 8}, {8, 9, 10})"
      ]
     },
     "execution_count": 67,
     "metadata": {},
     "output_type": "execute_result"
    }
   ],
   "source": [
    "s1,s2,s3"
   ]
  },
  {
   "cell_type": "code",
   "execution_count": 68,
   "id": "a65fb049-e715-41a3-b3dc-5a6b149b7daa",
   "metadata": {},
   "outputs": [
    {
     "data": {
      "text/plain": [
       "{1, 2, 5, 6, 7, 8}"
      ]
     },
     "execution_count": 68,
     "metadata": {},
     "output_type": "execute_result"
    }
   ],
   "source": [
    "s1.symmetric_difference(s2) #Return the symmetric difference of two sets as a new set"
   ]
  },
  {
   "cell_type": "code",
   "execution_count": 69,
   "id": "3d76bbbf-a1f7-4356-8d2f-13022ae8b9f9",
   "metadata": {},
   "outputs": [
    {
     "data": {
      "text/plain": [
       "{3, 4, 5, 6, 7, 9, 10}"
      ]
     },
     "execution_count": 69,
     "metadata": {},
     "output_type": "execute_result"
    }
   ],
   "source": [
    "s2.symmetric_difference(s3)"
   ]
  },
  {
   "cell_type": "markdown",
   "id": "7e794404-0fda-4e9c-8b97-ba4ff42a35a6",
   "metadata": {},
   "source": [
    "#### symmetric_difference_update"
   ]
  },
  {
   "cell_type": "code",
   "execution_count": 71,
   "id": "d11e44d7-2a90-433a-82f2-91c9e6f61ded",
   "metadata": {},
   "outputs": [
    {
     "data": {
      "text/plain": [
       "({1, 2, 3, 4}, {3, 4, 5, 6, 7, 8}, {8, 9, 10})"
      ]
     },
     "execution_count": 71,
     "metadata": {},
     "output_type": "execute_result"
    }
   ],
   "source": [
    "s1,s2,s3"
   ]
  },
  {
   "cell_type": "code",
   "execution_count": 72,
   "id": "8f6f0147-0741-4ebd-b907-4bdee5db533e",
   "metadata": {},
   "outputs": [],
   "source": [
    "s1.symmetric_difference_update(s2) #Update a set with the symmetric difference of itself and another."
   ]
  },
  {
   "cell_type": "code",
   "execution_count": 73,
   "id": "1185ac90-3f43-454d-8dab-9c1e183b47f4",
   "metadata": {},
   "outputs": [
    {
     "data": {
      "text/plain": [
       "{1, 2, 5, 6, 7, 8}"
      ]
     },
     "execution_count": 73,
     "metadata": {},
     "output_type": "execute_result"
    }
   ],
   "source": [
    "s1"
   ]
  },
  {
   "cell_type": "markdown",
   "id": "6e0aef36-c601-431e-8d78-07206d2e73d7",
   "metadata": {},
   "source": [
    "#### intersection"
   ]
  },
  {
   "cell_type": "code",
   "execution_count": 74,
   "id": "087dd133-b14f-44d6-a90a-cf3834017763",
   "metadata": {},
   "outputs": [
    {
     "data": {
      "text/plain": [
       "({1, 2, 5, 6, 7, 8}, {3, 4, 5, 6, 7, 8}, {8, 9, 10})"
      ]
     },
     "execution_count": 74,
     "metadata": {},
     "output_type": "execute_result"
    }
   ],
   "source": [
    "s1,s2,s3"
   ]
  },
  {
   "cell_type": "code",
   "execution_count": 75,
   "id": "f6534ba3-bec2-4464-9c9c-d5455931d56e",
   "metadata": {},
   "outputs": [
    {
     "data": {
      "text/plain": [
       "{5, 6, 7, 8}"
      ]
     },
     "execution_count": 75,
     "metadata": {},
     "output_type": "execute_result"
    }
   ],
   "source": [
    "s1.intersection(s2)"
   ]
  },
  {
   "cell_type": "code",
   "execution_count": 76,
   "id": "cc50d151-d5f6-490b-9e9a-755e6ea4d3b6",
   "metadata": {},
   "outputs": [
    {
     "data": {
      "text/plain": [
       "{8}"
      ]
     },
     "execution_count": 76,
     "metadata": {},
     "output_type": "execute_result"
    }
   ],
   "source": [
    "s2.intersection(s3)"
   ]
  },
  {
   "cell_type": "code",
   "execution_count": 78,
   "id": "27c261ea-58c7-4ad1-aa95-c6ae42524e3e",
   "metadata": {},
   "outputs": [
    {
     "data": {
      "text/plain": [
       "{8}"
      ]
     },
     "execution_count": 78,
     "metadata": {},
     "output_type": "execute_result"
    }
   ],
   "source": [
    "s2 & s3 #\"&\"- symbol act as intersection"
   ]
  },
  {
   "cell_type": "code",
   "execution_count": 79,
   "id": "465d0205-d5aa-47cd-ba65-101b92731be9",
   "metadata": {},
   "outputs": [
    {
     "data": {
      "text/plain": [
       "{8}"
      ]
     },
     "execution_count": 79,
     "metadata": {},
     "output_type": "execute_result"
    }
   ],
   "source": [
    "s1 & s2 & s3"
   ]
  },
  {
   "cell_type": "markdown",
   "id": "ca82ca16-581d-47f3-8e85-09ae18312443",
   "metadata": {},
   "source": [
    "#### intersection_update"
   ]
  },
  {
   "cell_type": "code",
   "execution_count": 82,
   "id": "e352e173-b4d3-4382-a918-87c48595fe97",
   "metadata": {},
   "outputs": [],
   "source": [
    "s1.intersection_update(s2) #Update a set with the intersection of itself and another."
   ]
  },
  {
   "cell_type": "code",
   "execution_count": 83,
   "id": "4446aeb7-e392-47b5-8e3b-e1acb6d55c79",
   "metadata": {},
   "outputs": [
    {
     "data": {
      "text/plain": [
       "{5, 6, 7, 8}"
      ]
     },
     "execution_count": 83,
     "metadata": {},
     "output_type": "execute_result"
    }
   ],
   "source": [
    "s1"
   ]
  },
  {
   "cell_type": "markdown",
   "id": "c1398ca5-7de0-4cf1-9e3c-02025cef6ba1",
   "metadata": {},
   "source": [
    "### Set methods"
   ]
  },
  {
   "cell_type": "code",
   "execution_count": 91,
   "id": "7d830d7f-b0c0-43fe-8374-791f2d068cbb",
   "metadata": {},
   "outputs": [],
   "source": [
    "a = {1,2,3,4,5,6,7,8}\n",
    "b = {5,6,7,8}\n",
    "c = {10,20,30,40}"
   ]
  },
  {
   "cell_type": "code",
   "execution_count": 92,
   "id": "896328be-f133-4e91-a708-772d1b357f8c",
   "metadata": {},
   "outputs": [
    {
     "name": "stdout",
     "output_type": "stream",
     "text": [
      "{1, 2, 3, 4, 5, 6, 7, 8}\n",
      "{8, 5, 6, 7}\n",
      "{40, 10, 20, 30}\n"
     ]
    }
   ],
   "source": [
    "print(a)\n",
    "print(b)\n",
    "print(c)"
   ]
  },
  {
   "cell_type": "markdown",
   "id": "1813419c-bfc0-45aa-9625-43c08bf58a6f",
   "metadata": {},
   "source": [
    "#### issuperset()"
   ]
  },
  {
   "cell_type": "code",
   "execution_count": 93,
   "id": "063c6bb1-e2e6-4298-830e-91f82506d262",
   "metadata": {},
   "outputs": [
    {
     "data": {
      "text/plain": [
       "True"
      ]
     },
     "execution_count": 93,
     "metadata": {},
     "output_type": "execute_result"
    }
   ],
   "source": [
    "a.issuperset(b) #Test whether every element in other is in the set."
   ]
  },
  {
   "cell_type": "code",
   "execution_count": 94,
   "id": "29942c83-a17e-4a1c-bf9c-b7db454dbb07",
   "metadata": {},
   "outputs": [
    {
     "data": {
      "text/plain": [
       "False"
      ]
     },
     "execution_count": 94,
     "metadata": {},
     "output_type": "execute_result"
    }
   ],
   "source": [
    "b.issuperset(a)"
   ]
  },
  {
   "cell_type": "markdown",
   "id": "a1f526aa-6ac5-485f-949c-6cf9153f3fa4",
   "metadata": {},
   "source": [
    "#### issubset()"
   ]
  },
  {
   "cell_type": "code",
   "execution_count": 100,
   "id": "634c7650-e9a4-4f51-9e4b-a945d187b1e1",
   "metadata": {},
   "outputs": [
    {
     "data": {
      "text/plain": [
       "True"
      ]
     },
     "execution_count": 100,
     "metadata": {},
     "output_type": "execute_result"
    }
   ],
   "source": [
    "b.issubset(a) #Test whether every element in the set is in other."
   ]
  },
  {
   "cell_type": "code",
   "execution_count": 101,
   "id": "463b090d-04a3-40f4-86ec-6e19b54fdae3",
   "metadata": {},
   "outputs": [
    {
     "data": {
      "text/plain": [
       "False"
      ]
     },
     "execution_count": 101,
     "metadata": {},
     "output_type": "execute_result"
    }
   ],
   "source": [
    "a.issubset(b)"
   ]
  },
  {
   "cell_type": "markdown",
   "id": "33ab8e73-dabc-4ffc-bebe-f1ed27e80fa9",
   "metadata": {},
   "source": [
    "#### isdisjoint()"
   ]
  },
  {
   "cell_type": "code",
   "execution_count": 102,
   "id": "249aa5fc-a14f-427a-b38a-2492de36c054",
   "metadata": {},
   "outputs": [
    {
     "data": {
      "text/plain": [
       "True"
      ]
     },
     "execution_count": 102,
     "metadata": {},
     "output_type": "execute_result"
    }
   ],
   "source": [
    "a.isdisjoint(c) #Return True if two sets have a null intersection."
   ]
  },
  {
   "cell_type": "code",
   "execution_count": 103,
   "id": "5863bc3d-3170-41df-961f-3d858ffb8e4b",
   "metadata": {},
   "outputs": [
    {
     "data": {
      "text/plain": [
       "False"
      ]
     },
     "execution_count": 103,
     "metadata": {},
     "output_type": "execute_result"
    }
   ],
   "source": [
    "a.isdisjoint(b)"
   ]
  }
 ],
 "metadata": {
  "kernelspec": {
   "display_name": "Python 3 (ipykernel)",
   "language": "python",
   "name": "python3"
  },
  "language_info": {
   "codemirror_mode": {
    "name": "ipython",
    "version": 3
   },
   "file_extension": ".py",
   "mimetype": "text/x-python",
   "name": "python",
   "nbconvert_exporter": "python",
   "pygments_lexer": "ipython3",
   "version": "3.12.4"
  }
 },
 "nbformat": 4,
 "nbformat_minor": 5
}
